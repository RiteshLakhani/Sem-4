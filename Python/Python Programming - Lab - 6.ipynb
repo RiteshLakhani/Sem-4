{
 "cells": [
  {
   "attachments": {},
   "cell_type": "markdown",
   "metadata": {},
   "source": [
    "<a href='https://www.darshan.ac.in/'> <img src='https://www.darshan.ac.in/Content/media/DU_Logo.svg' width=\"250\" height=\"300\"/></a>\n",
    "<pre>\n",
    "<center><b><h1>Python Programming - 2101CS405</b></center>\n",
    "<center><b><h1>Name: Lakhani Ritesh</b></center>\n",
    "<center><b><h1>Enrollment No: 22010101099</b></center>\n",
    "<center><b><h1>Date: 25-01-2024</b></center>\n",
    "<center><b><h1>Lab - 6</b></center>    \n",
    "<pre>"
   ]
  },
  {
   "cell_type": "markdown",
   "metadata": {},
   "source": [
    "# Tuples, dictionary, set"
   ]
  },
  {
   "cell_type": "markdown",
   "metadata": {},
   "source": [
    "# A"
   ]
  },
  {
   "cell_type": "markdown",
   "metadata": {},
   "source": [
    "### 01) WAP to sort python dictionary by key or value."
   ]
  },
  {
   "cell_type": "code",
   "execution_count": 4,
   "metadata": {},
   "outputs": [
    {
     "name": "stdout",
     "output_type": "stream",
     "text": [
      "Enter -1 to stop\n",
      "Original Dictionary :  {'15': 'B', '89': 'A', '65': 'R'}\n",
      "Dictionary Sorted By Key:  {'15': 'B', '65': 'R', '89': 'A'}\n",
      "Dictionary Sorted By Value:  {'89': 'A', '15': 'B', '65': 'R'}\n"
     ]
    }
   ],
   "source": [
    "def sort_dict_by_key(input_dict):\n",
    "    sorted_dict = dict(sorted(input_dict.items()))\n",
    "    return sorted_dict\n",
    "def sort_dict_by_value(input_dict):\n",
    "    sorted_dict = dict(sorted(input_dict.items(),key=lambda item : item[1]))\n",
    "    return sorted_dict\n",
    "\n",
    "\n",
    "my_dict = {}\n",
    "c=0\n",
    "print(\"Enter -1 to stop\")\n",
    "while 1:\n",
    "    a = input(\"Enter Key: \")\n",
    "    if a == \"-1\":\n",
    "        break\n",
    "    else:\n",
    "        my_dict[a] = input(\"Enter Value: \")\n",
    "print(\"Original Dictionary : \",my_dict)\n",
    "print(\"Dictionary Sorted By Key: \",sort_dict_by_key(my_dict))\n",
    "print(\"Dictionary Sorted By Value: \",sort_dict_by_value(my_dict))"
   ]
  },
  {
   "cell_type": "markdown",
   "metadata": {},
   "source": [
    "### 02) WAP to merge two dictionaries given by user."
   ]
  },
  {
   "cell_type": "code",
   "execution_count": 32,
   "metadata": {},
   "outputs": [
    {
     "name": "stdout",
     "output_type": "stream",
     "text": [
      "dict1 :: {3: 'x', 5: 'a', 1: 'z', 4: 'b', 2: 'y'}\n",
      "dict2 :: {5: 'h', 6: 'i', 7: 't'}\n",
      "Merged ::  {3: 'x', 5: 'h', 1: 'z', 4: 'b', 2: 'y', 6: 'i', 7: 't'}\n",
      "Merged ::  {3: 'x', 5: 'h', 1: 'z', 4: 'b', 2: 'y'}\n",
      "Merged ::  {3: 'x', 5: 'h', 1: 'z', 4: 'b', 2: 'y', 6: 'i'}\n",
      "Merged ::  {3: 'x', 5: 'h', 1: 'z', 4: 'b', 2: 'y', 6: 'i', 7: 't'}\n"
     ]
    }
   ],
   "source": [
    "dict1 = {3: 'x', 5:'a',1:'z',4:'b',2:'y'}\n",
    "dict2 = {5:'h',6:'i',7:'t'}\n",
    "print(\"dict1 ::\",dict1)\n",
    "print(\"dict2 ::\",dict2)\n",
    "\n",
    "#here | is union oprator for Dictionary\n",
    "\n",
    "dict3 = dict1|dict2\n",
    "print(\"Merged :: \",dict3);\n",
    "\n",
    "# using loops\n",
    "\n",
    "for i in dict2:\n",
    "    dict1[i] = dict2[i]\n",
    "    print(\"Merged :: \",dict1)"
   ]
  },
  {
   "cell_type": "markdown",
   "metadata": {},
   "source": [
    "### 03) WAP to find tuples that have all elements divisible by K from a list of tuples."
   ]
  },
  {
   "cell_type": "code",
   "execution_count": 9,
   "metadata": {},
   "outputs": [
    {
     "name": "stdout",
     "output_type": "stream",
     "text": [
      "[(3, 6), (9, 12)]\n",
      "[(3, 6), (3, 6), (9, 12), (9, 12)]\n"
     ]
    }
   ],
   "source": [
    "list_tuple = [(1,2,3),(4,5,6),(7,8,9),(3,6),(9,12)]\n",
    "divisible_by_k = [];\n",
    "k=3;\n",
    "for i in list_tuple:\n",
    "    for j in range(0,len(i)):\n",
    "        if i[j]%k!=0:\n",
    "            break\n",
    "        else:\n",
    "            divisible_by_k.append(i)\n",
    "            \n",
    "#Using list comprehension\n",
    "\n",
    "ans =[ x for x in list_tuple if all(element % k == 0 for element in x)]\n",
    "print(ans)\n",
    "\n",
    "print(divisible_by_k)"
   ]
  },
  {
   "cell_type": "markdown",
   "metadata": {},
   "source": [
    "### 04) WAP to find Tuples with positive elements in List of tuples."
   ]
  },
  {
   "cell_type": "code",
   "execution_count": 14,
   "metadata": {},
   "outputs": [
    {
     "name": "stdout",
     "output_type": "stream",
     "text": [
      "Enter tuples as space-separated values. Enter stop to finish.\n"
     ]
    },
    {
     "name": "stdout",
     "output_type": "stream",
     "text": [
      "Tuple is : [(-1, -2, -3, -4), (2, 3, 4)]\n",
      "Tuples that only have positive integers : [(2, 3, 4)]\n"
     ]
    }
   ],
   "source": [
    "def find_positive_tuples(tuple_list):\n",
    "    result_tuples = []\n",
    "    for t in tuple_list:\n",
    "        if all(element >= 0 for element in t):\n",
    "            result_tuples.append(t)\n",
    "    return result_tuples\n",
    "\n",
    "tuple_list = []\n",
    "print(\"Enter tuples as space-separated values. Enter stop to finish.\")\n",
    "while True:\n",
    "    user_input = input(\"Enter a tuple: \")\n",
    "    if user_input.lower() == 'stop':\n",
    "        break\n",
    "    try:\n",
    "        new_tuple = tuple(map(int, user_input.split()))\n",
    "        tuple_list.append(new_tuple)\n",
    "    except ValueError:\n",
    "        print(\"Invalid input. Please enter integers separated by spaces.\")\n",
    "print(f\"Tuple is : {tuple_list}\")\n",
    "\n",
    "result = find_positive_tuples(tuple_list)\n",
    "\n",
    "print(f\"Tuples that only have positive integers : {result}\")"
   ]
  },
  {
   "cell_type": "markdown",
   "metadata": {},
   "source": [
    "### 05) WAP which perform union of two sets."
   ]
  },
  {
   "cell_type": "code",
   "execution_count": 12,
   "metadata": {},
   "outputs": [
    {
     "name": "stdout",
     "output_type": "stream",
     "text": [
      "Set 1: {1, 2, 3, 4}\n",
      "Set 2: {3, 4, 5, 6}\n",
      "Union using union method: {1, 2, 3, 4, 5, 6}\n"
     ]
    }
   ],
   "source": [
    "def perform_set_union(set1, set2):\n",
    "    union_result_method = set1.union(set2)\n",
    "\n",
    "    return union_result_method\n",
    "\n",
    "set1 = {1, 2, 3, 4}\n",
    "set2 = {3, 4, 5, 6}\n",
    "\n",
    "result_method = perform_set_union(set1, set2)\n",
    "\n",
    "print(\"Set 1:\", set1)\n",
    "print(\"Set 2:\", set2)\n",
    "print(\"Union using union method:\", result_method)\n"
   ]
  },
  {
   "cell_type": "markdown",
   "metadata": {},
   "source": [
    "# B"
   ]
  },
  {
   "cell_type": "markdown",
   "metadata": {},
   "source": [
    "### 01) WAP to convert binary tuple into integer."
   ]
  },
  {
   "cell_type": "code",
   "execution_count": 15,
   "metadata": {},
   "outputs": [
    {
     "name": "stdout",
     "output_type": "stream",
     "text": [
      "Binary Tuple: (1, 0, 1, 0, 1)\n",
      "Decimal Integer: 21\n"
     ]
    }
   ],
   "source": [
    "def binary_tuple_to_integer(binary_tuple):\n",
    "    binary_string = ''.join(map(str, binary_tuple))\n",
    "    decimal_integer = int(binary_string, 2)\n",
    "    return decimal_integer\n",
    "\n",
    "binary_tuple = (1, 0, 1, 0, 1) \n",
    "\n",
    "result_integer = binary_tuple_to_integer(binary_tuple)\n",
    "\n",
    "print(\"Binary Tuple:\", binary_tuple)\n",
    "print(\"Decimal Integer:\", result_integer)"
   ]
  },
  {
   "cell_type": "markdown",
   "metadata": {},
   "source": [
    "### 02) WAP to count frequency in list by dictionary."
   ]
  },
  {
   "cell_type": "code",
   "execution_count": 17,
   "metadata": {},
   "outputs": [
    {
     "name": "stdout",
     "output_type": "stream",
     "text": [
      "List: [1, 2, 3, 1, 2, 4, 1, 2, 5, 1]\n",
      "Frequency of elements: {1: 4, 2: 3, 3: 1, 4: 1, 5: 1}\n"
     ]
    }
   ],
   "source": [
    "def count_frequency(lst):\n",
    "    frequency_dict = {}\n",
    "\n",
    "    for item in lst:\n",
    "        frequency_dict[item] = frequency_dict.get(item, 0) + 1\n",
    "\n",
    "    return frequency_dict\n",
    "\n",
    "my_list = [1, 2, 3, 1, 2, 4, 1, 2, 5, 1]\n",
    "\n",
    "frequency_result = count_frequency(my_list)\n",
    "\n",
    "print(\"List:\", my_list)\n",
    "print(\"Frequency of elements:\", frequency_result)\n",
    "\n"
   ]
  },
  {
   "cell_type": "markdown",
   "metadata": {},
   "source": [
    "### 03) WAP to remove all the duplicate words from the list using dictionary."
   ]
  },
  {
   "cell_type": "code",
   "execution_count": 18,
   "metadata": {},
   "outputs": [
    {
     "name": "stdout",
     "output_type": "stream",
     "text": [
      "List after removing duplicates:\n",
      "['apple', 'orange', 'banana', 'grape']\n"
     ]
    }
   ],
   "source": [
    "def remove_duplicates(input_list):\n",
    "    unique_dict = {}\n",
    "\n",
    "    for word in input_list:\n",
    "        unique_dict[word] = True\n",
    "\n",
    "    result_list = list(unique_dict.keys())\n",
    "\n",
    "    return result_list\n",
    "\n",
    "my_list = [\"apple\", \"orange\", \"banana\", \"apple\", \"grape\", \"orange\"]\n",
    "result = remove_duplicates(my_list)\n",
    "\n",
    "print(\"List after removing duplicates:\")\n",
    "print(result)"
   ]
  }
 ],
 "metadata": {
  "kernelspec": {
   "display_name": "Python 3 (ipykernel)",
   "language": "python",
   "name": "python3"
  },
  "language_info": {
   "codemirror_mode": {
    "name": "ipython",
    "version": 3
   },
   "file_extension": ".py",
   "mimetype": "text/x-python",
   "name": "python",
   "nbconvert_exporter": "python",
   "pygments_lexer": "ipython3",
   "version": "3.11.5"
  }
 },
 "nbformat": 4,
 "nbformat_minor": 4
}
