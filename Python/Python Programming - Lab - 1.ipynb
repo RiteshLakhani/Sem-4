{
 "cells": [
  {
   "cell_type": "markdown",
   "metadata": {},
   "source": [
    "<a href='https://www.darshan.ac.in/'> <img src='https://www.darshan.ac.in/Content/media/DU_Logo.svg' width=\"250\" height=\"300\"/></a>\n",
    "<pre>\n",
    "<center><b><h1>Python Programming - 2101CS405</b></center>\n",
    "<center><b><h1>Lab - 1</b></center> \n",
    "<center><b><h1>Name: Lakhani Ritesh</b></center>  \n",
    "<center><b><h1>EnrollmentNo: 22010101099</b></center>  \n",
    "<center><b><h1>Date: 14-12-2023</b></center>     \n",
    "<pre>"
   ]
  },
  {
   "cell_type": "markdown",
   "metadata": {},
   "source": [
    "### 01) WAP to print “Hello World”"
   ]
  },
  {
   "cell_type": "code",
   "execution_count": 1,
   "metadata": {},
   "outputs": [
    {
     "name": "stdout",
     "output_type": "stream",
     "text": [
      "Hello World\n"
     ]
    }
   ],
   "source": [
    "print(\"Hello World\")"
   ]
  },
  {
   "cell_type": "markdown",
   "metadata": {},
   "source": [
    "### 02) WAP to print your address i) using single print ii) using multiple print"
   ]
  },
  {
   "cell_type": "code",
   "execution_count": 2,
   "metadata": {},
   "outputs": [
    {
     "name": "stdout",
     "output_type": "stream",
     "text": [
      "Ritesh, 9-Narayan Nagar ,Rajkot,36002\n",
      "Name:-  Ritesh\n",
      "Street:  9-Narayan Nagar\n",
      "City:  Rajkot\n",
      "Pincode:  360002\n"
     ]
    }
   ],
   "source": [
    "print(\"Ritesh, 9-Narayan Nagar ,Rajkot,36002\")\n",
    "\n",
    "name = \"Ritesh\"\n",
    "street = \"9-Narayan Nagar\"\n",
    "city = \"Rajkot\"\n",
    "pincode =\"360002\"\n",
    "\n",
    "print(\"Name:- \",name)\n",
    "print(\"Street: \",street)\n",
    "print(\"City: \",city)\n",
    "print(\"Pincode: \",pincode)"
   ]
  },
  {
   "cell_type": "markdown",
   "metadata": {},
   "source": [
    "### 03) WAP to print addition of 2 numbers (without input function)"
   ]
  },
  {
   "cell_type": "code",
   "execution_count": 3,
   "metadata": {},
   "outputs": [
    {
     "name": "stdout",
     "output_type": "stream",
     "text": [
      "Sum:  7\n"
     ]
    }
   ],
   "source": [
    "a = 5\n",
    "b = 2\n",
    "\n",
    "sum = a + b\n",
    "\n",
    "print(\"Sum: \",sum)"
   ]
  },
  {
   "cell_type": "markdown",
   "metadata": {},
   "source": [
    "### 04) WAP to calculate and print average of 2 numbers (without input function)"
   ]
  },
  {
   "cell_type": "code",
   "execution_count": 4,
   "metadata": {},
   "outputs": [
    {
     "name": "stdout",
     "output_type": "stream",
     "text": [
      "Average:  5.0\n"
     ]
    }
   ],
   "source": [
    "a = 5\n",
    "b = 5\n",
    "\n",
    "sum = a + b\n",
    "avg = sum/2\n",
    "\n",
    "print(\"Average: \",avg)"
   ]
  },
  {
   "cell_type": "markdown",
   "metadata": {},
   "source": [
    "### 05) WAP to add two number entered by user."
   ]
  },
  {
   "cell_type": "code",
   "execution_count": 5,
   "metadata": {},
   "outputs": [
    {
     "name": "stdout",
     "output_type": "stream",
     "text": [
      "Sum: 5 + 5 = 10\n"
     ]
    }
   ],
   "source": [
    "a = int(input(\"Enter number-1\"))\n",
    "b = int(input(\"Enter number-2\"))\n",
    "print(f\"Sum: {a} + {b} = {a+b}\")"
   ]
  },
  {
   "cell_type": "markdown",
   "metadata": {},
   "source": [
    "### 06) WAP to calculate simple interest."
   ]
  },
  {
   "cell_type": "code",
   "execution_count": 6,
   "metadata": {},
   "outputs": [
    {
     "name": "stdout",
     "output_type": "stream",
     "text": [
      "Simple Interest: 10.0\n"
     ]
    }
   ],
   "source": [
    "p = float(input(\"Enter the principal: \"))\n",
    "\n",
    "r = float(input(\"Enter the rate of interest : \"))\n",
    "\n",
    "t = float(input(\"Enter the time period : \"))\n",
    "\n",
    "simple_interest = (p * r * t) / 100 \n",
    "\n",
    "print(\"Simple Interest:\", simple_interest)"
   ]
  },
  {
   "cell_type": "markdown",
   "metadata": {},
   "source": [
    "### 07) WAP Calculate Area and Circumfrence of Circle"
   ]
  },
  {
   "cell_type": "code",
   "execution_count": 7,
   "metadata": {},
   "outputs": [
    {
     "name": "stdout",
     "output_type": "stream",
     "text": [
      "Area of the circle:12.57\n",
      "Circumfrence of the circle:18.85\n"
     ]
    }
   ],
   "source": [
    "import math\n",
    "\n",
    "r = int(input(\"Enter the radius : \"))\n",
    "\n",
    "area = math.pi * math.pow(r, 2)\n",
    "\n",
    "print(f\"Area of the circle:{area:.2f}\")\n",
    "\n",
    "r = int(input(\"Enter the radius : \"))\n",
    "\n",
    "circumfrence = 2 * math.pi * r;\n",
    "\n",
    "print(f\"Circumfrence of the circle:{circumfrence:.2f}\")"
   ]
  },
  {
   "cell_type": "markdown",
   "metadata": {},
   "source": [
    "### 08) WAP to print Multiplication table of given number without using loops."
   ]
  },
  {
   "cell_type": "code",
   "execution_count": 8,
   "metadata": {},
   "outputs": [
    {
     "name": "stdout",
     "output_type": "stream",
     "text": [
      "5 x 1 = 5\n",
      "5 x 2 = 10\n",
      "5 x 3 = 15\n",
      "5 x 4 = 20\n",
      "5 x 5 = 25\n",
      "5 x 6 = 30\n",
      "5 x 7 = 35\n",
      "5 x 8 = 40\n",
      "5 x 9 = 45\n",
      "5 x 10= 50\n"
     ]
    }
   ],
   "source": [
    "a = int(input(\"Enter the number : \"))\n",
    "print(f\"{a} x 1 = {a * 1}\")\n",
    "print(f\"{a} x 2 = {a * 2}\")\n",
    "print(f\"{a} x 3 = {a * 3}\")\n",
    "print(f\"{a} x 4 = {a * 4}\")\n",
    "print(f\"{a} x 5 = {a * 5}\")\n",
    "print(f\"{a} x 6 = {a * 6}\")\n",
    "print(f\"{a} x 7 = {a * 7}\")\n",
    "print(f\"{a} x 8 = {a * 8}\")\n",
    "print(f\"{a} x 9 = {a * 9}\")\n",
    "print(f\"{a} x 10= {a * 10}\")"
   ]
  },
  {
   "cell_type": "markdown",
   "metadata": {},
   "source": [
    "### 09) WAP to calculate Area of Triangle (hint: a = h * b * 0.5)"
   ]
  },
  {
   "cell_type": "code",
   "execution_count": 9,
   "metadata": {},
   "outputs": [
    {
     "name": "stdout",
     "output_type": "stream",
     "text": [
      "The area of the triangle with base 4.0 and height 5.0 is: 10.0\n"
     ]
    }
   ],
   "source": [
    "h = float(input(\"Enter the height of the triangle: \"))\n",
    "b = float(input(\"Enter the base of the triangle: \"))\n",
    "\n",
    "area = 0.5 * b * h\n",
    "\n",
    "print(f\"The area of the triangle with base {b} and height {h} is: {area}\")"
   ]
  },
  {
   "cell_type": "markdown",
   "metadata": {},
   "source": [
    "### 10) WAP to convert degree to Fahrenheit and vice versa."
   ]
  },
  {
   "cell_type": "code",
   "execution_count": 1,
   "metadata": {},
   "outputs": [
    {
     "name": "stdout",
     "output_type": "stream",
     "text": [
      "37.0 degree celsius is equal to 98.60degree Fahrenheit\n"
     ]
    }
   ],
   "source": [
    "c_t = float(input(\"Enter Temp: -\"));\n",
    "f_t = (c_t * 9/5)+32;\n",
    "print(f\"{c_t} degree celsius is equal to {f_t:.2f}degree Fahrenheit\");\n",
    "\n",
    "f_t = float(input(\"Enter Temp:-\"));\n",
    "c_t = (f_t - 32) * 5/9;"
   ]
  },
  {
   "cell_type": "code",
   "execution_count": 10,
   "metadata": {},
   "outputs": [
    {
     "name": "stdout",
     "output_type": "stream",
     "text": [
      "37.0 degrees Celsius is equal to 98.60 degrees Fahrenheit\n",
      "98.6 degrees Fahrenheit is equal to 37.00 degrees Celsius\n"
     ]
    }
   ],
   "source": [
    "celsius_temp = float(input(\"Enter temperature in Celsius: \"))\n",
    "fahrenheit_temp = (celsius_temp * 9/5) + 32\n",
    "print(f\"{celsius_temp} degrees Celsius is equal to {fahrenheit_temp:.2f} degrees Fahrenheit\")\n",
    "\n",
    "fahrenheit_temp = float(input(\"Enter temperature in Fahrenheit: \"))\n",
    "celsius_temp = (fahrenheit_temp - 32) * 5/9\n",
    "print(f\"{fahrenheit_temp} degrees Fahrenheit is equal to {celsius_temp:.2f} degrees Celsius\")"
   ]
  },
  {
   "cell_type": "markdown",
   "metadata": {},
   "source": [
    "### 11) WAP to calculate total marks and Percentage."
   ]
  },
  {
   "cell_type": "code",
   "execution_count": 11,
   "metadata": {},
   "outputs": [
    {
     "name": "stdout",
     "output_type": "stream",
     "text": [
      "Math: 10\n",
      "Science: 20\n",
      "English: 30\n",
      "Python: 40\n",
      "Total Mark: 100, Percentage:25.00\n"
     ]
    }
   ],
   "source": [
    "a = int(input(\"Enter Maths Mark: \"))\n",
    "print(f\"Math: {a}\")\n",
    "\n",
    "b = int(input(\"Enter Science Mark: \"))\n",
    "print(f\"Science: {b}\")\n",
    "\n",
    "c = int(input(\"Enter English Mark: \"))\n",
    "print(f\"English: {c}\")\n",
    "\n",
    "d = int(input(\"Enter Python Mark: \"))\n",
    "print(f\"Python: {d}\")\n",
    "\n",
    "Total = a + b + c + d\n",
    "\n",
    "Percentage = Total / 4\n",
    "\n",
    "print(f\"Total Mark: {Total}, Percentage:{Percentage:.2f}\")"
   ]
  },
  {
   "cell_type": "markdown",
   "metadata": {},
   "source": [
    "### 12) Compute distance between two points taking input from the user (Pythagorean Theorem)."
   ]
  },
  {
   "cell_type": "code",
   "execution_count": 12,
   "metadata": {},
   "outputs": [
    {
     "name": "stdout",
     "output_type": "stream",
     "text": [
      "Distance : 4.24\n"
     ]
    }
   ],
   "source": [
    "import math\n",
    "\n",
    "x1 = int(input(\"Enter x1 : \"))\n",
    "y1 = int(input(\"Enter y1 : \"))\n",
    "x2 = int(input(\"Enter x2 : \"))\n",
    "y2 = int(input(\"Enter y2 : \"))\n",
    "\n",
    "distance = math.sqrt(math.pow(x1-x2,2)+math.pow(y1-y2,2))\n",
    "\n",
    "print(f\"Distance : {distance:.2f}\")"
   ]
  },
  {
   "cell_type": "markdown",
   "metadata": {},
   "source": [
    "### 13) WAP to convert seconds into hours, minutes & seconds and print in HH:MM:SS\n",
    "[e.g. 10000 seconds mean 2:46:40 (2 Hours, 46 Minutes, 40Seconds)]"
   ]
  },
  {
   "cell_type": "code",
   "execution_count": 1,
   "metadata": {},
   "outputs": [
    {
     "name": "stdout",
     "output_type": "stream",
     "text": [
      "00 : 03 : 20\n"
     ]
    }
   ],
   "source": [
    "s = int(input(\"Enter second : \"))\n",
    "h = int(s/3600)\n",
    "temp = s%3600\n",
    "m = int(temp/60)\n",
    "s = s%60\n",
    "print(f\"{h:02d}\",\":\",f\"{m:02d}\",\":\",f\"{s:02d}\")"
   ]
  },
  {
   "cell_type": "markdown",
   "metadata": {},
   "source": [
    "### 14) WAP to enter distance into kilometer and convert it into meter, feet,inches, and centimeter"
   ]
  },
  {
   "cell_type": "code",
   "execution_count": 2,
   "metadata": {},
   "outputs": [
    {
     "name": "stdout",
     "output_type": "stream",
     "text": [
      "Meter:-1000.000\n",
      "Feet:-3280.840\n",
      "Inches:-39370.088\n",
      "Centimeter:-100000.000\n"
     ]
    }
   ],
   "source": [
    "kilometer = int(input(\"Enter the kilometers\"))\n",
    "meter = kilometer*1000\n",
    "feet = kilometer*3280.8399\n",
    "inches = kilometer*39370.0878\n",
    "cm = kilometer*100000\n",
    "\n",
    "print(f\"Meter:-{meter:.3f}\");\n",
    "print(f\"Feet:-{feet:.3f}\");\n",
    "print(f\"Inches:-{inches:.3f}\");\n",
    "print(f\"Centimeter:-{cm:.3f}\");\n"
   ]
  }
 ],
 "metadata": {
  "kernelspec": {
   "display_name": "Python 3 (ipykernel)",
   "language": "python",
   "name": "python3"
  },
  "language_info": {
   "codemirror_mode": {
    "name": "ipython",
    "version": 3
   },
   "file_extension": ".py",
   "mimetype": "text/x-python",
   "name": "python",
   "nbconvert_exporter": "python",
   "pygments_lexer": "ipython3",
   "version": "3.11.5"
  },
  "vscode": {
   "interpreter": {
    "hash": "31f2aee4e71d21fbe5cf8b01ff0e069b9275f58929596ceb00d14d90e3e16cd6"
   }
  }
 },
 "nbformat": 4,
 "nbformat_minor": 4
}
