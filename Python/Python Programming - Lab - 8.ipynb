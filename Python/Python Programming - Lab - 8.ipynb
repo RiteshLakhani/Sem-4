{
 "cells": [
  {
   "cell_type": "markdown",
   "metadata": {},
   "source": [
    "<a href='https://www.darshan.ac.in/'> <img src='https://www.darshan.ac.in/Content/media/DU_Logo.svg' width=\"250\" height=\"300\"/></a>\n",
    "<pre>\n",
    "<center><b><h1>Python Programming - 2101CS405</b></center>\n",
    "<center><b><h1>Lab - 8</b></center>  \n",
    "<center><b><h1>Name - Ritesh Lakhani</b></center> \n",
    "<center><b><h1>Date - 15-02-2024</b></center> \n",
    "<center><b><h1>Enrollment NO - 22010101099</b></center>   \n",
    "<pre>"
   ]
  },
  {
   "cell_type": "markdown",
   "metadata": {},
   "source": [
    "# File handling"
   ]
  },
  {
   "cell_type": "markdown",
   "metadata": {},
   "source": [
    "# A"
   ]
  },
  {
   "cell_type": "markdown",
   "metadata": {},
   "source": [
    "### 01) WAP to read entire file named abc.txt"
   ]
  },
  {
   "cell_type": "code",
   "execution_count": 4,
   "metadata": {},
   "outputs": [
    {
     "name": "stdout",
     "output_type": "stream",
     "text": [
      "\"Ritesh Lakhani\"\n",
      "\"Darshan University\".\n"
     ]
    }
   ],
   "source": [
    "f = open('abc.txt');\n",
    "data = f.read();\n",
    "print(data);\n",
    "f.close();"
   ]
  },
  {
   "cell_type": "markdown",
   "metadata": {},
   "source": [
    "### 02) WAP to print program it self on console."
   ]
  },
  {
   "cell_type": "code",
   "execution_count": 9,
   "metadata": {},
   "outputs": [
    {
     "name": "stdout",
     "output_type": "stream",
     "text": [
      "{\n",
      " \"cells\": [\n",
      "  {\n",
      "   \"cell_type\": \"markdown\",\n",
      "   \"metadata\": {},\n",
      "   \"source\": [\n",
      "    \"<a href='https://www.darshan.ac.in/'> <img src='https://www.darshan.ac.in/Content/media/DU_Logo.svg' width=\\\"250\\\" height=\\\"300\\\"/></a>\\n\",\n",
      "    \"<pre>\\n\",\n",
      "    \"<center><b><h1>Python Programming - 2101CS405</b></center>\\n\",\n",
      "    \"<center><b><h1>Lab - 8</b></center>    \\n\",\n",
      "    \"<pre>\"\n",
      "   ]\n",
      "  },\n",
      "  {\n",
      "   \"cell_type\": \"markdown\",\n",
      "   \"metadata\": {},\n",
      "   \"source\": [\n",
      "    \"# File handling\"\n",
      "   ]\n",
      "  },\n",
      "  {\n",
      "   \"cell_type\": \"markdown\",\n",
      "   \"metadata\": {},\n",
      "   \"source\": [\n",
      "    \"# A\"\n",
      "   ]\n",
      "  },\n",
      "  {\n",
      "   \"cell_type\": \"markdown\",\n",
      "   \"metadata\": {},\n",
      "   \"source\": [\n",
      "    \"### 01) WAP to read entire file named abc.txt\"\n",
      "   ]\n",
      "  },\n",
      "  {\n",
      "   \"cell_type\": \"code\",\n",
      "   \"execution_count\": 4,\n",
      "   \"metadata\": {},\n",
      "   \"outputs\": [\n",
      "    {\n",
      "     \"name\": \"stdout\",\n",
      "     \"output_type\": \"stream\",\n",
      "     \"text\": [\n",
      "      \"\\\"Ritesh Lakhani\\\"\\n\",\n",
      "      \"\\\"Darshan University\\\".\\n\"\n",
      "     ]\n",
      "    }\n",
      "   ],\n",
      "   \"source\": [\n",
      "    \"f = open('abc.txt');\\n\",\n",
      "    \"data = f.read();\\n\",\n",
      "    \"print(data);\\n\",\n",
      "    \"f.close();\"\n",
      "   ]\n",
      "  },\n",
      "  {\n",
      "   \"cell_type\": \"markdown\",\n",
      "   \"metadata\": {},\n",
      "   \"source\": [\n",
      "    \"### 02) WAP to print program it self on console.\"\n",
      "   ]\n",
      "  },\n",
      "  {\n",
      "   \"cell_type\": \"code\",\n",
      "   \"execution_count\": 8,\n",
      "   \"metadata\": {},\n",
      "   \"outputs\": [\n",
      "    {\n",
      "     \"ename\": \"SyntaxError\",\n",
      "     \"evalue\": \"invalid decimal literal (2720381099.py, line 5)\",\n",
      "     \"output_type\": \"error\",\n",
      "     \"traceback\": [\n",
      "      \"\\u001b[1;36m  Cell \\u001b[1;32mIn[8], line 5\\u001b[1;36m\\u001b[0m\\n\\u001b[1;33m    Python Programming - Lab-8.ipynb\\u001b[0m\\n\\u001b[1;37m                              ^\\u001b[0m\\n\\u001b[1;31mSyntaxError\\u001b[0m\\u001b[1;31m:\\u001b[0m invalid decimal literal\\n\"\n",
      "     ]\n",
      "    }\n",
      "   ],\n",
      "   \"source\": [\n",
      "    \"f = open('Python Programming - Lab - 8.ipynb');\\n\",\n",
      "    \"data = f.read();\\n\",\n",
      "    \"print(data);\\n\",\n",
      "    \"f.close();\"\n",
      "   ]\n",
      "  },\n",
      "  {\n",
      "   \"cell_type\": \"markdown\",\n",
      "   \"metadata\": {},\n",
      "   \"source\": [\n",
      "    \"### 03) WAP to read first 5 lines from the file named abc.txt\"\n",
      "   ]\n",
      "  },\n",
      "  {\n",
      "   \"cell_type\": \"code\",\n",
      "   \"execution_count\": null,\n",
      "   \"metadata\": {},\n",
      "   \"outputs\": [],\n",
      "   \"source\": []\n",
      "  },\n",
      "  {\n",
      "   \"cell_type\": \"markdown\",\n",
      "   \"metadata\": {},\n",
      "   \"source\": [\n",
      "    \"### 04) WAP to find the longest word in a file named abc.txt\"\n",
      "   ]\n",
      "  },\n",
      "  {\n",
      "   \"cell_type\": \"code\",\n",
      "   \"execution_count\": null,\n",
      "   \"metadata\": {},\n",
      "   \"outputs\": [],\n",
      "   \"source\": []\n",
      "  },\n",
      "  {\n",
      "   \"cell_type\": \"markdown\",\n",
      "   \"metadata\": {},\n",
      "   \"source\": [\n",
      "    \"### 05) WAP to find the size of the file named abc.txt\"\n",
      "   ]\n",
      "  },\n",
      "  {\n",
      "   \"cell_type\": \"code\",\n",
      "   \"execution_count\": null,\n",
      "   \"metadata\": {},\n",
      "   \"outputs\": [],\n",
      "   \"source\": []\n",
      "  },\n",
      "  {\n",
      "   \"cell_type\": \"markdown\",\n",
      "   \"metadata\": {},\n",
      "   \"source\": [\n",
      "    \"### 06) WAP to implement search function to search specific occurance of word in a given text file.\"\n",
      "   ]\n",
      "  },\n",
      "  {\n",
      "   \"cell_type\": \"code\",\n",
      "   \"execution_count\": null,\n",
      "   \"metadata\": {},\n",
      "   \"outputs\": [],\n",
      "   \"source\": []\n",
      "  },\n",
      "  {\n",
      "   \"cell_type\": \"markdown\",\n",
      "   \"metadata\": {},\n",
      "   \"source\": [\n",
      "    \"# B\"\n",
      "   ]\n",
      "  },\n",
      "  {\n",
      "   \"cell_type\": \"markdown\",\n",
      "   \"metadata\": {},\n",
      "   \"source\": [\n",
      "    \"### 01) WAP to write first 100 prime numbers to a file named primenumbers.txt \\n\",\n",
      "    \"(Note: each number should be in new line)\"\n",
      "   ]\n",
      "  },\n",
      "  {\n",
      "   \"cell_type\": \"code\",\n",
      "   \"execution_count\": null,\n",
      "   \"metadata\": {},\n",
      "   \"outputs\": [],\n",
      "   \"source\": []\n",
      "  },\n",
      "  {\n",
      "   \"cell_type\": \"markdown\",\n",
      "   \"metadata\": {},\n",
      "   \"source\": [\n",
      "    \"### 02) WAP to merge two files and write it in a new file.\"\n",
      "   ]\n",
      "  },\n",
      "  {\n",
      "   \"cell_type\": \"code\",\n",
      "   \"execution_count\": null,\n",
      "   \"metadata\": {},\n",
      "   \"outputs\": [],\n",
      "   \"source\": []\n",
      "  },\n",
      "  {\n",
      "   \"cell_type\": \"markdown\",\n",
      "   \"metadata\": {},\n",
      "   \"source\": [\n",
      "    \"### 03) WAP to encrypt a text file.\"\n",
      "   ]\n",
      "  },\n",
      "  {\n",
      "   \"cell_type\": \"code\",\n",
      "   \"execution_count\": null,\n",
      "   \"metadata\": {},\n",
      "   \"outputs\": [],\n",
      "   \"source\": []\n",
      "  },\n",
      "  {\n",
      "   \"cell_type\": \"markdown\",\n",
      "   \"metadata\": {},\n",
      "   \"source\": [\n",
      "    \"### 04) WAP to decrypt a previously encrypted file.\"\n",
      "   ]\n",
      "  },\n",
      "  {\n",
      "   \"cell_type\": \"code\",\n",
      "   \"execution_count\": null,\n",
      "   \"metadata\": {},\n",
      "   \"outputs\": [],\n",
      "   \"source\": []\n",
      "  },\n",
      "  {\n",
      "   \"cell_type\": \"markdown\",\n",
      "   \"metadata\": {},\n",
      "   \"source\": [\n",
      "    \"### 05) WAP to remove a word from text file.\"\n",
      "   ]\n",
      "  },\n",
      "  {\n",
      "   \"cell_type\": \"code\",\n",
      "   \"execution_count\": null,\n",
      "   \"metadata\": {},\n",
      "   \"outputs\": [],\n",
      "   \"source\": []\n",
      "  }\n",
      " ],\n",
      " \"metadata\": {\n",
      "  \"kernelspec\": {\n",
      "   \"display_name\": \"Python 3 (ipykernel)\",\n",
      "   \"language\": \"python\",\n",
      "   \"name\": \"python3\"\n",
      "  },\n",
      "  \"language_info\": {\n",
      "   \"codemirror_mode\": {\n",
      "    \"name\": \"ipython\",\n",
      "    \"version\": 3\n",
      "   },\n",
      "   \"file_extension\": \".py\",\n",
      "   \"mimetype\": \"text/x-python\",\n",
      "   \"name\": \"python\",\n",
      "   \"nbconvert_exporter\": \"python\",\n",
      "   \"pygments_lexer\": \"ipython3\",\n",
      "   \"version\": \"3.11.5\"\n",
      "  }\n",
      " },\n",
      " \"nbformat\": 4,\n",
      " \"nbformat_minor\": 4\n",
      "}\n",
      "\n"
     ]
    }
   ],
   "source": [
    "f = open('Python Programming - Lab - 8.ipynb');\n",
    "data = f.read();\n",
    "print(data);\n",
    "f.close();"
   ]
  },
  {
   "cell_type": "markdown",
   "metadata": {},
   "source": [
    "### 03) WAP to read first 5 lines from the file named abc.txt"
   ]
  },
  {
   "cell_type": "code",
   "execution_count": 13,
   "metadata": {},
   "outputs": [
    {
     "name": "stdout",
     "output_type": "stream",
     "text": [
      "\"Ritesh Lakhani\"\n",
      "\n",
      "\"Darshan University\".\n",
      "\n",
      "\"ritesh.lakhani1507@gmail.com\".\n",
      "\n",
      "\"Python Programming\".\n",
      "\n",
      "\"Lab-8\".\n",
      "\n"
     ]
    }
   ],
   "source": [
    "f = open('abc.txt');\n",
    "lines = f.readlines()[:5];\n",
    "for l in lines:\n",
    "    print(l);"
   ]
  },
  {
   "cell_type": "markdown",
   "metadata": {},
   "source": [
    "### 04) WAP to find the longest word in a file named abc.txt"
   ]
  },
  {
   "cell_type": "code",
   "execution_count": 14,
   "metadata": {},
   "outputs": [
    {
     "name": "stdout",
     "output_type": "stream",
     "text": [
      "The longest word in file:  \"ritesh.lakhani1507@gmail.com\".\n"
     ]
    }
   ],
   "source": [
    "filename = \"abc.txt\";\n",
    "longest_word = \"\";\n",
    "\n",
    "file = open(filename,'r');\n",
    "for line in file:\n",
    "    words = line.split()\n",
    "    for words in words:\n",
    "        if len(words) > len(longest_word):\n",
    "            longest_word = words\n",
    "file.close();\n",
    "\n",
    "print(\"The longest word in file: \",longest_word);"
   ]
  },
  {
   "cell_type": "markdown",
   "metadata": {},
   "source": [
    "### 05) WAP to find the size of the file named abc.txt"
   ]
  },
  {
   "cell_type": "code",
   "execution_count": 15,
   "metadata": {},
   "outputs": [
    {
     "name": "stdout",
     "output_type": "stream",
     "text": [
      "The size of the file 'abc.txt' is: 118 characters\n"
     ]
    }
   ],
   "source": [
    "file_name = 'abc.txt'\n",
    "\n",
    "file = open(file_name, 'r')\n",
    "file_contents = file.read()\n",
    "file.close()\n",
    "\n",
    "file_size = len(file_contents)\n",
    "\n",
    "print(\"The size of the file '{}' is: {} characters\".format(file_name, file_size))\n"
   ]
  },
  {
   "cell_type": "markdown",
   "metadata": {},
   "source": [
    "### 06) WAP to implement search function to search specific occurance of word in a given text file."
   ]
  },
  {
   "cell_type": "code",
   "execution_count": 1,
   "metadata": {},
   "outputs": [
    {
     "name": "stdout",
     "output_type": "stream",
     "text": [
      "['DarshanUniversity']\n",
      "Number of words:  0\n"
     ]
    }
   ],
   "source": [
    "numwords = 0\n",
    "a = input(\"Enter to Search\");\n",
    "f1 = open('abc.txt','r')\n",
    "for line in f1:\n",
    "    words = line.split()\n",
    "    numwords += words.count(a)\n",
    "    print(words)\n",
    "print(\"Number of words: \",numwords)"
   ]
  },
  {
   "cell_type": "markdown",
   "metadata": {},
   "source": [
    "# B"
   ]
  },
  {
   "cell_type": "markdown",
   "metadata": {},
   "source": [
    "### 01) WAP to write first 100 prime numbers to a file named primenumbers.txt \n",
    "(Note: each number should be in new line)"
   ]
  },
  {
   "cell_type": "code",
   "execution_count": 2,
   "metadata": {},
   "outputs": [
    {
     "name": "stdout",
     "output_type": "stream",
     "text": [
      "The first 100 prime numbers have been written to primenumbers.txt.\n"
     ]
    }
   ],
   "source": [
    "def is_prime(num):\n",
    "    if num < 2:\n",
    "        return False\n",
    "    for i in range(2, int(num**0.5) + 1):\n",
    "        if num % i == 0:\n",
    "            return False\n",
    "    return True\n",
    "\n",
    "def write_primes_to_file(file_name, num_primes):\n",
    "    with open(file_name, 'w') as file:\n",
    "        primes = [num for num in range(2, num_primes * 10) if is_prime(num)]\n",
    "        primes = primes[:num_primes]\n",
    "        for prime in primes:\n",
    "            file.write(f\"{prime}\\n\")\n",
    "\n",
    "file_name = 'primenumbers.txt'\n",
    "num_primes = 100\n",
    "\n",
    "write_primes_to_file(file_name, num_primes)\n",
    "print(f\"The first {num_primes} prime numbers have been written to {file_name}.\")"
   ]
  },
  {
   "cell_type": "markdown",
   "metadata": {},
   "source": [
    "### 02) WAP to merge two files and write it in a new file."
   ]
  },
  {
   "cell_type": "code",
   "execution_count": 1,
   "metadata": {},
   "outputs": [
    {
     "name": "stdout",
     "output_type": "stream",
     "text": [
      "Files merged successfully and written to merged_file.txt.\n"
     ]
    }
   ],
   "source": [
    "file1_path = r\"F:\\Sem-4\\Python\\file1.txt\"\n",
    "file2_path = r\"F:\\Sem-4\\Python\\file2.txt\"\n",
    "output_file_path = r\"F:\\Sem-4\\Python\\merged_file.txt\"\n",
    "\n",
    "\n",
    "with open(file1_path, \"r\") as file1:\n",
    "    data1 = file1.read()\n",
    "\n",
    "with open(file2_path, \"r\") as file2:\n",
    "    data2 = file2.read()\n",
    "\n",
    "merged_data = data1 + \"\\n\" + data2\n",
    "\n",
    "with open(output_file_path, \"w\") as output_file:\n",
    "    output_file.write(merged_data)\n",
    "\n",
    "print(\"Files merged successfully and written to merged_file.txt.\")\n"
   ]
  },
  {
   "cell_type": "code",
   "execution_count": null,
   "metadata": {},
   "outputs": [],
   "source": [
    "f1 = open('abc.txt','r')\n",
    "data = f1.read()\n",
    "f1.close()\n",
    "\n",
    "f2 = open('def.txt','w')\n",
    "f2.write(data)\n",
    "f2.close()\n",
    "\n",
    "f2 = open('def.txt','r')\n",
    "data = f2.read()\n",
    "print(data)\n",
    "f2.close()\n"
   ]
  },
  {
   "cell_type": "markdown",
   "metadata": {},
   "source": [
    "### 03) WAP to encrypt a text file."
   ]
  },
  {
   "cell_type": "code",
   "execution_count": 1,
   "metadata": {},
   "outputs": [],
   "source": [
    "from cryptography.fernet import Fernet\n",
    "\n",
    "key = Fernet.generate_key()\n",
    "\n",
    "with open(\"key.key\", \"wb\") as key_file:\n",
    "    key_file.write(key)\n",
    "\n",
    "with open(\"key.key\", \"rb\") as key_file:\n",
    "    key = key_file.read()\n",
    "\n",
    "cipher = Fernet(key)\n",
    "\n",
    "\n",
    "with open(\"abc.txt\", \"rb\") as file:\n",
    "    plaintext = file.read()\n",
    "\n",
    "\n",
    "encrypted_text = cipher.encrypt(plaintext)\n",
    "\n",
    "with open(\"encrypted_text.txt\", \"wb\") as encrypted_file:\n",
    "    encrypted_file.write(encrypted_text)\n"
   ]
  },
  {
   "cell_type": "markdown",
   "metadata": {},
   "source": [
    "### 04) WAP to decrypt a previously encrypted file."
   ]
  },
  {
   "cell_type": "code",
   "execution_count": 2,
   "metadata": {},
   "outputs": [],
   "source": [
    "from cryptography.fernet import Fernet\n",
    "\n",
    "with open(\"key.key\", \"rb\") as key_file:\n",
    "    key = key_file.read()\n",
    "\n",
    "\n",
    "cipher = Fernet(key)\n",
    "\n",
    "with open(\"encrypted_text.txt\", \"rb\") as encrypted_file:\n",
    "    encrypted_text = encrypted_file.read()\n",
    "\n",
    "decrypted_text = cipher.decrypt(encrypted_text)\n",
    "\n",
    "with open(\"decrypted_text.txt\", \"wb\") as decrypted_file:\n",
    "    decrypted_file.write(decrypted_text)\n"
   ]
  },
  {
   "cell_type": "markdown",
   "metadata": {},
   "source": [
    "### 05) WAP to remove a word from text file."
   ]
  },
  {
   "cell_type": "code",
   "execution_count": 3,
   "metadata": {},
   "outputs": [
    {
     "name": "stdout",
     "output_type": "stream",
     "text": [
      "An error occurred: can only concatenate str (not \"int\") to str\n"
     ]
    }
   ],
   "source": [
    "try:\n",
    "    result = \"Hello\" + 42\n",
    "    print(\"Result:\", result)\n",
    "except TypeError as e:\n",
    "    print(\"An error occurred:\", e)\n"
   ]
  },
  {
   "cell_type": "code",
   "execution_count": 2,
   "metadata": {},
   "outputs": [
    {
     "ename": "NameError",
     "evalue": "name 'x' is not defined",
     "output_type": "error",
     "traceback": [
      "\u001b[1;31m---------------------------------------------------------------------------\u001b[0m",
      "\u001b[1;31mNameError\u001b[0m                                 Traceback (most recent call last)",
      "Cell \u001b[1;32mIn[2], line 1\u001b[0m\n\u001b[1;32m----> 1\u001b[0m \u001b[38;5;28mprint\u001b[39m(x)\n",
      "\u001b[1;31mNameError\u001b[0m: name 'x' is not defined"
     ]
    }
   ],
   "source": [
    "print(x)"
   ]
  },
  {
   "cell_type": "code",
   "execution_count": null,
   "metadata": {},
   "outputs": [],
   "source": [
    "num_replacement = 0\n",
    "\n",
    "word1 = input(\"Enter Word to Replace: \");\n",
    "word2 = input(\"Enter new word to replace Word1: \")\n",
    "\n",
    "with open('abc.txt','r') as f1:\n",
    "    data = f1.read();\n",
    "\n",
    "new_data = data.replace(word1,word2)\n",
    "num_replacement = new_data.count(word2)\n",
    "\n",
    "with open('def.txt','w') as f2:\n",
    "    f2.write(new_data)\n",
    "\n",
    "print(\"Number of replacements: \",num_replacement);"
   ]
  },
  {
   "cell_type": "code",
   "execution_count": null,
   "metadata": {},
   "outputs": [],
   "source": [
    "numwords = 0\n",
    "word = input(\"Enter A word to Search :\")\n",
    "f = open(\"abc.txt\",\"r\")\n",
    "for line in f:\n",
    "    words = line.split()\n",
    "    numwords += words.count(word)\n",
    "    print(words)\n",
    "print(numwords)"
   ]
  },
  {
   "cell_type": "code",
   "execution_count": null,
   "metadata": {},
   "outputs": [],
   "source": [
    "numlines = 0\n",
    "numchar = 0\n",
    "numwords = 0\n",
    "\n",
    "f = open(\"abc.txt\",\"r\")\n",
    "for line in f:\n",
    "    wordlist = line.split()\n",
    "    numlines +=1\n",
    "    numwords += len(wordlist)\n",
    "    numchar += len(line)\n",
    "\n",
    "print(numlines, numchar, numwords)"
   ]
  },
  {
   "cell_type": "code",
   "execution_count": 7,
   "metadata": {},
   "outputs": [],
   "source": [
    "def remove_word_from_file(file_path, word):\n",
    "    with open(file_path, \"r\") as file:\n",
    "        content = file.read()\n",
    "\n",
    "    modified_content = content.replace(word, \"\")\n",
    "\n",
    "    with open(file_path, \"w\") as file:\n",
    "        file.write(modified_content)\n",
    "\n",
    "word_to_remove = input(\"Enter the word to remove: \")\n",
    "\n",
    "remove_word_from_file(\"abc.txt\", word_to_remove)\n"
   ]
  }
 ],
 "metadata": {
  "kernelspec": {
   "display_name": "Python 3 (ipykernel)",
   "language": "python",
   "name": "python3"
  },
  "language_info": {
   "codemirror_mode": {
    "name": "ipython",
    "version": 3
   },
   "file_extension": ".py",
   "mimetype": "text/x-python",
   "name": "python",
   "nbconvert_exporter": "python",
   "pygments_lexer": "ipython3",
   "version": "3.11.5"
  }
 },
 "nbformat": 4,
 "nbformat_minor": 4
}
