{
 "cells": [
  {
   "cell_type": "markdown",
   "metadata": {},
   "source": [
    "\n",
    "<a href='https://www.darshan.ac.in/'> <img src='https://www.darshan.ac.in/Content/media/DU_Logo.svg' width=\"250\" height=\"300\"/></a>\n",
    "<pre>\n",
    "<center><b><h1>Python Programming - 2101CS405</b></center>\n",
    "<center><b><h1>Lab - 5</b></center>  \n",
    "<center><b><h1>Name         : Ritesh Lakhani</b></center>    \n",
    "<center><b><h1>EnrollmentNo : 22010101099</b></center>    \n",
    "<center><b><h1>Date         : 11-01-2024 5</b></center>      \n",
    "<pre>"
   ]
  },
  {
   "cell_type": "markdown",
   "metadata": {},
   "source": [
    "# list"
   ]
  },
  {
   "cell_type": "code",
   "execution_count": 4,
   "metadata": {},
   "outputs": [
    {
     "name": "stdout",
     "output_type": "stream",
     "text": [
      "[1, 4, 9, 16, 25, 36, 49, 64, 81, 100]\n",
      "[1, 4, 9, 16, 25, 36, 49, 64, 81, 100]\n"
     ]
    }
   ],
   "source": [
    "my_list = [];\n",
    "for i in range(1,11):\n",
    "    my_list.append(i**2)\n",
    "print(my_list)\n",
    "\n",
    "my_list = [ i**2 for i in range(1,11)]\n",
    "print(my_list)"
   ]
  },
  {
   "cell_type": "markdown",
   "metadata": {},
   "source": [
    "### 01) WAP to find sum of all the elements in List."
   ]
  },
  {
   "cell_type": "code",
   "execution_count": 2,
   "metadata": {},
   "outputs": [
    {
     "name": "stdout",
     "output_type": "stream",
     "text": [
      "['D', 'a', 'r', 's', 'h', 'a', 'n']\n",
      "['D', 'a', 'r', 's', 'h', 'a', 'n']\n"
     ]
    }
   ],
   "source": [
    "my_list = [c for c in 'Darshan'];\n",
    "print(my_list);\n",
    "\n",
    "my_str = \"Darshan\"\n",
    "my_list = [];\n",
    "\n",
    "for c in my_str:\n",
    "    my_list.append(c);\n",
    "print(my_list)"
   ]
  },
  {
   "cell_type": "code",
   "execution_count": 11,
   "metadata": {},
   "outputs": [
    {
     "name": "stdout",
     "output_type": "stream",
     "text": [
      "Enter -1 To Stop.....\n",
      "List of numbers: [5, 6, 3]\n",
      "Sum of the numbers: 14\n"
     ]
    }
   ],
   "source": [
    "my_list = []\n",
    "print(\"Enter -1 To Stop.....\")\n",
    "sum = 0\n",
    "\n",
    "while True:\n",
    "    num = int(input(\"Enter a number (enter -1 to stop): \"))\n",
    "    \n",
    "    if num == -1:\n",
    "        break\n",
    "    else:\n",
    "        my_list.append(num)\n",
    "        sum += num\n",
    "\n",
    "print(\"List of numbers:\", my_list)\n",
    "print(\"Sum of the numbers:\", sum)\n"
   ]
  },
  {
   "cell_type": "markdown",
   "metadata": {},
   "source": [
    "### 02) WAP to find largest element in a List."
   ]
  },
  {
   "cell_type": "code",
   "execution_count": 1,
   "metadata": {},
   "outputs": [
    {
     "name": "stdout",
     "output_type": "stream",
     "text": [
      "-1 to stop.....\n",
      "78541369\n"
     ]
    }
   ],
   "source": [
    "my_list = [];\n",
    "print(\"-1 to stop.....\");\n",
    "\n",
    "while True:\n",
    "    num = int(input(\"Enter a number (enter -1 to stop: \"))\n",
    "    \n",
    "    if num == -1:\n",
    "        break;\n",
    "    else:\n",
    "        my_list.append(num);\n",
    "max_value = max(my_list);\n",
    "print(max_value);\n",
    "    \n",
    "              "
   ]
  },
  {
   "cell_type": "code",
   "execution_count": 13,
   "metadata": {},
   "outputs": [
    {
     "name": "stdout",
     "output_type": "stream",
     "text": [
      "Enter -1 to Stop....\n",
      "List of numbers: [1, 56, 98, 67, 54, 21, 26, 34]\n",
      "Max of the numbers: 98\n"
     ]
    }
   ],
   "source": [
    "my_list = []\n",
    "print(\"Enter -1 to Stop....\")\n",
    "\n",
    "while True:\n",
    "    num = int(input(\"Enter List Element:\"))\n",
    "    \n",
    "    if num == -1:\n",
    "        break\n",
    "    else:\n",
    "        my_list.append(num)\n",
    "\n",
    "max_value = max(my_list)\n",
    "\n",
    "print(\"List of numbers:\", my_list)\n",
    "print(\"Max of the numbers:\", max_value)"
   ]
  },
  {
   "cell_type": "code",
   "execution_count": 15,
   "metadata": {},
   "outputs": [
    {
     "name": "stdout",
     "output_type": "stream",
     "text": [
      "Enter -1 to Stop\n",
      "[90, 80, 70, 60, 50, 30, 20, 10, 100]\n"
     ]
    }
   ],
   "source": [
    "my_list = [];\n",
    "print(\"Enter -1 to Stop\");\n",
    "\n",
    "while True:\n",
    "    num = int(input(\"Enter List Element:\"))\n",
    "    \n",
    "    if num == -1:\n",
    "        break;\n",
    "    else:\n",
    "        my_list.append(num)\n",
    "\n",
    "midpoint = len(my_list) // 2\n",
    "\n",
    "sublist1 = my_list[:midpoint]\n",
    "sublist2 = my_list[midpoint:]\n",
    "\n",
    "result = sublist2 + sublist1\n",
    "\n",
    "print(result);"
   ]
  },
  {
   "cell_type": "markdown",
   "metadata": {},
   "source": [
    "### 03) WAP to split the List into two and append the first part to the end."
   ]
  },
  {
   "cell_type": "code",
   "execution_count": 3,
   "metadata": {},
   "outputs": [
    {
     "name": "stdout",
     "output_type": "stream",
     "text": [
      "Enter -1 to Stop....\n"
     ]
    },
    {
     "name": "stdout",
     "output_type": "stream",
     "text": [
      "List is :[10, 20, 30, 100, 90, 80]\n",
      "Sublist is :[10, 20, 30]\n",
      "Sublist is :[100, 90, 80]\n",
      "List after appending Sublist 1 to Sublist 2: [100, 90, 80, 10, 20, 30]\n"
     ]
    }
   ],
   "source": [
    "my_list = []\n",
    "print(\"Enter -1 to Stop....\")\n",
    "\n",
    "while True:\n",
    "    num = int(input(\"Enter List Element:\"))\n",
    "    \n",
    "    if num == -1:\n",
    "        break\n",
    "    else:\n",
    "        my_list.append(num)\n",
    "\n",
    "midpoint = len(my_list) // 2\n",
    "\n",
    "sublist1 = my_list[:midpoint]\n",
    "sublist2 = my_list[midpoint:]\n",
    "\n",
    "print(f\"List is :{my_list}\")\n",
    "print(f\"Sublist is :{sublist1}\")\n",
    "print(f\"Sublist is :{sublist2}\")\n",
    "\n",
    "result_list = sublist2 + sublist1\n",
    "\n",
    "print(f\"List after appending Sublist 1 to Sublist 2: {result_list}\")\n",
    "\n"
   ]
  },
  {
   "cell_type": "markdown",
   "metadata": {},
   "source": [
    "### 04) WAP to interchange first and last elements in list entered by a user."
   ]
  },
  {
   "cell_type": "code",
   "execution_count": 17,
   "metadata": {},
   "outputs": [
    {
     "name": "stdout",
     "output_type": "stream",
     "text": [
      "Enter -1 to Stop\n",
      "[40, 20, 30, 10]\n"
     ]
    }
   ],
   "source": [
    "my_list = [];\n",
    "print(\"Enter -1 to Stop\")\n",
    "\n",
    "while True:\n",
    "    num = int(input(\"Enter Number of list: \"))\n",
    "    \n",
    "    if num == -1:\n",
    "        break;\n",
    "    else:\n",
    "        my_list.append(num);\n",
    "        \n",
    "if len(my_list)>=2:\n",
    "    my_list[0],my_list[-1] = my_list[-1],my_list[0]\n",
    "    print(my_list);\n",
    "else:\n",
    "    print(\"list should have atleaast 2 elements\")"
   ]
  },
  {
   "cell_type": "code",
   "execution_count": 7,
   "metadata": {},
   "outputs": [
    {
     "name": "stdout",
     "output_type": "stream",
     "text": [
      "Enter -1 to Stop:\n",
      "List after changing:  [92158, 78, 159, 75, 357, 159, 852, 147, 92]\n"
     ]
    }
   ],
   "source": [
    "my_list = [];\n",
    "print(\"Enter -1 to Stop:\")\n",
    "\n",
    "while True:\n",
    "    num = int(input(\"Enter List \"));\n",
    "    \n",
    "    if num == -1:\n",
    "        break;\n",
    "    else:\n",
    "        my_list.append(int(num));\n",
    "\n",
    "if len(my_list)>=2:\n",
    "    my_list[0],my_list[-1] = my_list[-1],my_list[0]\n",
    "    print('List after changing: ',my_list);\n",
    "else:\n",
    "    print(\"List should have at least 2 elements\");"
   ]
  },
  {
   "cell_type": "code",
   "execution_count": 17,
   "metadata": {},
   "outputs": [
    {
     "name": "stdout",
     "output_type": "stream",
     "text": [
      "Enter -1 to Stop....\n",
      "List is :[1, 2, 3, 4, 5, 6, 7, 8, 9]\n",
      "List after Changing: [9, 2, 3, 4, 5, 6, 7, 8, 1]\n"
     ]
    }
   ],
   "source": [
    "my_list = []\n",
    "print(\"Enter -1 to Stop....\")\n",
    "\n",
    "while True:\n",
    "    num = int(input(\"Enter List Element:\"))\n",
    "    \n",
    "    if num == -1:\n",
    "        break\n",
    "    else:\n",
    "        my_list.append(int(num)) \n",
    "        \n",
    "print(f\"List is :{my_list}\")\n",
    "\n",
    "if len(my_list)>=2:\n",
    "    my_list[0],my_list[-1] = my_list[-1],my_list[0]\n",
    "    print('List after Changing:',my_list)\n",
    "else:\n",
    "    print(\"List should have at least 2 elements\")\n",
    "        "
   ]
  },
  {
   "cell_type": "markdown",
   "metadata": {},
   "source": [
    "### 05) WAP to interchange the elements on two positions entered by a user."
   ]
  },
  {
   "cell_type": "code",
   "execution_count": 21,
   "metadata": {},
   "outputs": [
    {
     "name": "stdout",
     "output_type": "stream",
     "text": [
      "Enter -1 to Stop....\n",
      "List is :[10, 20, 30]\n",
      "Index Out of Bound\n"
     ]
    }
   ],
   "source": [
    "my_list = []\n",
    "print(\"Enter -1 to Stop....\")\n",
    "\n",
    "while True:\n",
    "    num = int(input(\"Enter List Element:\"))\n",
    "    \n",
    "    if num == -1:\n",
    "        break\n",
    "    else:\n",
    "        my_list.append(int(num)) \n",
    "        \n",
    "print(f\"List is :{my_list}\")\n",
    "\n",
    "a = int(input(\"Enter First Position:\"));\n",
    "b = int(input(\"Enter Second Position:\"));\n",
    "\n",
    "if a >= len(my_list) or b>= len(my_list):\n",
    "    print(\"Index Out of Bound\")\n",
    "else:\n",
    "    my_list[a],my_list[b] = my_list[b],my_list[a]\n",
    "    print('List after Changing:',my_list)"
   ]
  },
  {
   "cell_type": "markdown",
   "metadata": {},
   "source": [
    "### 06) WAP to reverses the list entered by user."
   ]
  },
  {
   "cell_type": "code",
   "execution_count": 22,
   "metadata": {},
   "outputs": [
    {
     "name": "stdout",
     "output_type": "stream",
     "text": [
      "Enter -1 to Stop....\n",
      "List is :[10, 20, 30]\n",
      "Reversed List:  [30, 20, 10]\n"
     ]
    }
   ],
   "source": [
    "my_list = []\n",
    "print(\"Enter -1 to Stop....\")\n",
    "\n",
    "while True:\n",
    "    num = int(input(\"Enter List Element:\"))\n",
    "    \n",
    "    if num == -1:\n",
    "        break\n",
    "    else:\n",
    "        my_list.append(int(num)) \n",
    "        \n",
    "print(f\"List is :{my_list}\")\n",
    "\n",
    "my_list.reverse();\n",
    "\n",
    "print(\"Reversed List: \",my_list);"
   ]
  },
  {
   "cell_type": "markdown",
   "metadata": {},
   "source": [
    "### 07) Python program to remove multiple elements from a list using list comprehension"
   ]
  },
  {
   "cell_type": "code",
   "execution_count": 6,
   "metadata": {},
   "outputs": [
    {
     "name": "stdout",
     "output_type": "stream",
     "text": [
      "Enter -1 to Stop:\n",
      "Original List: [10, 20, 30]\n",
      "Enter -1 to Stop:\n",
      "Updated List after Removal: [20, 30]\n"
     ]
    }
   ],
   "source": [
    "my_list = []\n",
    "print(\"Enter -1 to Stop:\")\n",
    "\n",
    "while True:\n",
    "    x = int(input(\"Enter List: \"))\n",
    "    \n",
    "    if x == -1:\n",
    "        break\n",
    "    else:\n",
    "        my_list.append(x)\n",
    "\n",
    "print(\"Original List:\", my_list)\n",
    "\n",
    "print(\"Enter -1 to Stop:\")\n",
    "while True:\n",
    "    remove_item = int(input(\"Enter Element to Remove: \"))\n",
    "    \n",
    "    if remove_item == -1:\n",
    "        break\n",
    "    else:\n",
    "        my_list = [element for element in my_list if element != remove_item]\n",
    "\n",
    "print(\"Updated List after Removal:\", my_list)\n"
   ]
  },
  {
   "cell_type": "code",
   "execution_count": 29,
   "metadata": {},
   "outputs": [
    {
     "name": "stdout",
     "output_type": "stream",
     "text": [
      "Enter List\n",
      "\n",
      "Enter -1 to stop\n",
      "\n",
      "mylist : [10, 20, 30, 40, 50]\n",
      "Enter elements to remove \n",
      "\n",
      "Enter -1 to stop\n",
      "\n",
      "removing list : [20, 30, 60]\n",
      "[10, 40, 50]\n"
     ]
    }
   ],
   "source": [
    "mylist = []\n",
    "print(\"Enter List\\n\")\n",
    "print(\"Enter -1 to stop\\n\")\n",
    "while 1 :\n",
    "    c = int(input(\"Enter a number : \"))\n",
    "    if c == -1 : \n",
    "        break\n",
    "    mylist.append(c)\n",
    "c = 0\n",
    "elements_to_remove = []\n",
    "print(f\"mylist : {mylist}\")\n",
    "print(\"Enter elements to remove \\n\")\n",
    "print(\"Enter -1 to stop\\n\")\n",
    "while 1 :\n",
    "    c = int(input(\"Enter a number : \"))\n",
    "    if c == -1 : \n",
    "        break\n",
    "    elements_to_remove.append(c)\n",
    "print(f\"removing list : {elements_to_remove}\")\n",
    "filtered_list = [element for element in mylist if element not in elements_to_remove]\n",
    "print(filtered_list)"
   ]
  },
  {
   "cell_type": "markdown",
   "metadata": {},
   "source": [
    "### 08) Create a list from the specified start to end index of another list."
   ]
  },
  {
   "cell_type": "code",
   "execution_count": 19,
   "metadata": {},
   "outputs": [
    {
     "name": "stdout",
     "output_type": "stream",
     "text": [
      "Enter -1 to stop\n",
      "\n",
      "List is : [5, 1, 8, 9, 7, 8]\n",
      "List index out of bound\n"
     ]
    }
   ],
   "source": [
    "mylist = []\n",
    "print(\"Enter -1 to stop\\n\")\n",
    "while 1 :\n",
    "    c = int(input(\"Enter a number : \"))\n",
    "    if c == -1 : \n",
    "        break\n",
    "    mylist.append(c)\n",
    "print(f\"List is : {mylist}\")\n",
    "n1 = int(input(\"Enter first position : \"))\n",
    "n2 = int(input(\"Enter second position : \"))\n",
    "if n1 >= len(mylist) or n2 >= len(mylist) : \n",
    "    print(\"List index out of bound\")\n",
    "else :\n",
    "    newlist = mylist[n1:n2]\n",
    "    print(f\"New List is : {newlist}\")"
   ]
  },
  {
   "cell_type": "markdown",
   "metadata": {},
   "source": [
    "### 09) Input comma separated elements, convert into list and print."
   ]
  },
  {
   "cell_type": "code",
   "execution_count": 3,
   "metadata": {},
   "outputs": [
    {
     "name": "stdout",
     "output_type": "stream",
     "text": [
      "['Hii']\n"
     ]
    }
   ],
   "source": [
    "s = input(\"Enter comma separated string :\")\n",
    "a = s.split(',')\n",
    "print(a)"
   ]
  },
  {
   "cell_type": "markdown",
   "metadata": {},
   "source": [
    "### 01) WAP to count Even and Odd numbers in a List."
   ]
  },
  {
   "cell_type": "code",
   "execution_count": 20,
   "metadata": {},
   "outputs": [
    {
     "name": "stdout",
     "output_type": "stream",
     "text": [
      "Enter -1 to Stop\n",
      "2\n",
      "6\n",
      "[10, 15, 16, 17, 89, 97, 77, 1145]\n"
     ]
    }
   ],
   "source": [
    "my_list = [];\n",
    "odd = 0;\n",
    "even = 0;\n",
    "\n",
    "print(\"Enter -1 to Stop\")\n",
    "\n",
    "\n",
    "while True:\n",
    "    n = int(input(\"Enter List eleme\"));\n",
    "    \n",
    "    if n == -1:\n",
    "        break;\n",
    "    else:\n",
    "        my_list.append(n)\n",
    "        if n % 2 == 0:\n",
    "            even = even + 1;\n",
    "        else:\n",
    "            odd = odd + 1;\n",
    "print(even)\n",
    "print(odd)\n",
    "print(my_list)\n",
    "        "
   ]
  },
  {
   "cell_type": "code",
   "execution_count": 5,
   "metadata": {},
   "outputs": [
    {
     "name": "stdout",
     "output_type": "stream",
     "text": [
      "Enter -1 to Stop..\n",
      "List is : [10, 20, 30, 40, 59, 53, 89]\n",
      "Odd No Count:-  3\n",
      "Even No Count:-  4\n"
     ]
    }
   ],
   "source": [
    "my_list = [];\n",
    "odd_count = 0\n",
    "even_count = 0\n",
    "\n",
    "print(\"Enter -1 to Stop..\")\n",
    "\n",
    "while 1:\n",
    "    n = int(input(\"Enter List Element:\"))\n",
    "    \n",
    "    if n == -1:\n",
    "        break;\n",
    "    else:\n",
    "        my_list.append(n);\n",
    "        if n % 2 ==0:\n",
    "            even_count = even_count + 1;\n",
    "        else:\n",
    "            odd_count = odd_count + 1;\n",
    "            \n",
    "print(\"List is :\",my_list)\n",
    "print(\"Odd No Count:- \",odd_count);\n",
    "print(\"Even No Count:- \",even_count);\n"
   ]
  },
  {
   "cell_type": "markdown",
   "metadata": {},
   "source": [
    "### 02) Python program to find N largest and smallest elements from the list"
   ]
  },
  {
   "cell_type": "code",
   "execution_count": 11,
   "metadata": {},
   "outputs": [
    {
     "name": "stdout",
     "output_type": "stream",
     "text": [
      "Enter -1 to stop\n",
      "\n",
      "List is:  [10, 50, 56, 89, 70, 1000]\n",
      "Smallest element: 10\n",
      "Largest element: 1000\n"
     ]
    }
   ],
   "source": [
    "my_list = []\n",
    "print(\"Enter -1 to stop\\n\")\n",
    "\n",
    "while True:\n",
    "    num = input(\"Enter a number (or -1 to stop): \")\n",
    "    \n",
    "    if num == '-1':\n",
    "        break\n",
    "\n",
    "    my_list.append(int(num))\n",
    "    \n",
    "print(\"List is: \",my_list)\n",
    "\n",
    "# smallest element\n",
    "min_num = my_list[0]\n",
    "for num in my_list[1:]:\n",
    "    if num < min_num:\n",
    "        min_num = num\n",
    "\n",
    "# largest element\n",
    "max_num = my_list[0]\n",
    "for num in my_list[1:]:\n",
    "    if num > max_num:\n",
    "        max_num = num\n",
    "\n",
    "print(\"Smallest element:\", min_num)\n",
    "print(\"Largest element:\", max_num)\n"
   ]
  },
  {
   "cell_type": "markdown",
   "metadata": {},
   "source": [
    "### 03) WAP to print duplicates from a list of integers"
   ]
  },
  {
   "cell_type": "code",
   "execution_count": 10,
   "metadata": {},
   "outputs": [
    {
     "name": "stdout",
     "output_type": "stream",
     "text": [
      "Enter -1 to Stop\n",
      "\n",
      "My List:  [50, 50, 98, 98, 41, 52, 52]\n",
      "No duplicates found\n"
     ]
    }
   ],
   "source": [
    "my_list = [];\n",
    "print(\"Enter -1 to Stop\\n\")\n",
    "\n",
    "while True:\n",
    "    num = int(input(\"Enter List \"))\n",
    "    \n",
    "    if num == -1:\n",
    "        break;\n",
    "    else:\n",
    "        my_list.append(num)\n",
    "    \n",
    "print(\"My List: \", my_list);\n",
    "\n",
    "duplicate = [];\n",
    "seen = [];\n",
    "\n",
    "for num in my_list:\n",
    "    if num in seen:\n",
    "        if num not in duplicate:\n",
    "            duplicate.append(num)\n",
    "        else:\n",
    "            seen.append(num)\n",
    "            \n",
    "if duplicate:\n",
    "    print(\"Duplicate elements: \",duplicate);\n",
    "else:\n",
    "    print(\"No duplicates found\");"
   ]
  },
  {
   "cell_type": "code",
   "execution_count": 6,
   "metadata": {},
   "outputs": [
    {
     "name": "stdout",
     "output_type": "stream",
     "text": [
      "['Hi', 'I', 'am', 'Shubham']\n",
      "4\n",
      "am\n"
     ]
    }
   ],
   "source": [
    "my_list = ['Hi','I','am','Ritesh']\n",
    "my_list[3] = 'Shubham'\n",
    "print(my_list)\n",
    "print(len(my_list))\n",
    "print(my_list[2])"
   ]
  },
  {
   "cell_type": "code",
   "execution_count": 12,
   "metadata": {},
   "outputs": [
    {
     "name": "stdout",
     "output_type": "stream",
     "text": [
      "['I', 'am', 'I', 'am', 'Good']\n"
     ]
    }
   ],
   "source": [
    "my_list = [\"I\",\"am\",\"Ritesh\",\"I\",\"am\",\"Good\"]\n",
    "my_list.remove(\"Ritesh\")\n",
    "print(my_list)"
   ]
  },
  {
   "cell_type": "code",
   "execution_count": 9,
   "metadata": {},
   "outputs": [
    {
     "name": "stdout",
     "output_type": "stream",
     "text": [
      "Enter -1 to stop\n",
      "\n",
      "My list is:  [20, 20, 20, 78, 9, 78, 52, 147, 98, 63]\n",
      "Duplicate elements: [20, 78]\n"
     ]
    }
   ],
   "source": [
    "my_list = []\n",
    "print(\"Enter -1 to stop\\n\")\n",
    "\n",
    "while True:\n",
    "    num = int(input(\"Enter a number: \"))\n",
    "    \n",
    "    if num == -1:\n",
    "        break\n",
    "\n",
    "    my_list.append(num)\n",
    "\n",
    "print(\"My list is: \",my_list)\n",
    "\n",
    "duplicates = []\n",
    "seen = []\n",
    "\n",
    "for number in my_list:\n",
    "    if number in seen:\n",
    "        if number not in duplicates:\n",
    "            duplicates.append(number)\n",
    "    else:\n",
    "        seen.append(number)\n",
    "\n",
    "if duplicates:\n",
    "    print(\"Duplicate elements:\", duplicates)\n",
    "else:\n",
    "    print(\"No duplicate elements found.\")\n"
   ]
  }
 ],
 "metadata": {
  "kernelspec": {
   "display_name": "Python 3 (ipykernel)",
   "language": "python",
   "name": "python3"
  },
  "language_info": {
   "codemirror_mode": {
    "name": "ipython",
    "version": 3
   },
   "file_extension": ".py",
   "mimetype": "text/x-python",
   "name": "python",
   "nbconvert_exporter": "python",
   "pygments_lexer": "ipython3",
   "version": "3.11.5"
  }
 },
 "nbformat": 4,
 "nbformat_minor": 4
}
