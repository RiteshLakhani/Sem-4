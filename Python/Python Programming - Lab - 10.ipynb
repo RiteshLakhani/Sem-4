{
 "cells": [
  {
   "attachments": {},
   "cell_type": "markdown",
   "metadata": {},
   "source": [
    "<a href='https://www.darshan.ac.in/'> <img src='https://www.darshan.ac.in/Content/media/DU_Logo.svg' width=\"250\" height=\"300\"/></a>\n",
    "<pre>\n",
    "<center><b><h1>Python Programming - 2101CS405</b></center>\n",
    "<center><b><h1>Lab - 10</b></center>  \n",
    "<center><b><h1>Name - Ritesh Lakhani</b></center> \n",
    "<center><b><h1>Date- 22-2-2024</b></center> \n",
    "<center><b><h1>EnrollmentNo - 22010101099</b></center>   \n",
    "<pre>"
   ]
  },
  {
   "cell_type": "markdown",
   "metadata": {},
   "source": [
    "# Modules"
   ]
  },
  {
   "cell_type": "markdown",
   "metadata": {},
   "source": [
    "# A"
   ]
  },
  {
   "cell_type": "markdown",
   "metadata": {},
   "source": [
    "### 01) WAP to create Calculator module which defines functions like add, sub,mul and div. create another file that uses the Calculator module."
   ]
  },
  {
   "cell_type": "code",
   "execution_count": 1,
   "metadata": {},
   "outputs": [
    {
     "name": "stdout",
     "output_type": "stream",
     "text": [
      "Addition: 30\n",
      "Subtraction: -10\n",
      "Multiplication: 200\n",
      "Division: 0.5\n"
     ]
    }
   ],
   "source": [
    "import calc\n",
    "x = int(input(\"Enter 1st number = \"))\n",
    "y = int(input(\"Enter 2nd number = \"))\n",
    "\n",
    "print(\"Addition:\", calc.addition(x, y))\n",
    "print(\"Subtraction:\", calc.subtract(x, y))\n",
    "print(\"Multiplication:\", calc.multiply(x, y))\n",
    "    \n",
    "try:\n",
    "    print(\"Division:\", calc.divide(x, y))\n",
    "except ValueError as e:\n",
    "    print(e)"
   ]
  },
  {
   "cell_type": "markdown",
   "metadata": {},
   "source": [
    "### 02) WAP to Pick a random character from a given String."
   ]
  },
  {
   "cell_type": "code",
   "execution_count": 3,
   "metadata": {},
   "outputs": [
    {
     "name": "stdout",
     "output_type": "stream",
     "text": [
      "s\n"
     ]
    }
   ],
   "source": [
    "import random\n",
    "def chooseRandom(input_str):\n",
    "    return random.choice(input_str)\n",
    "\n",
    "input_str = input(\"Enter string = \")\n",
    "random_str = chooseRandom(input_str)\n",
    "print(random_str)"
   ]
  },
  {
   "cell_type": "markdown",
   "metadata": {},
   "source": [
    "### 03) WAP to Pick a random element from a given list."
   ]
  },
  {
   "cell_type": "code",
   "execution_count": 4,
   "metadata": {},
   "outputs": [
    {
     "name": "stdout",
     "output_type": "stream",
     "text": [
      "Frank\n"
     ]
    }
   ],
   "source": [
    "import random\n",
    "def chooseItem(list_demo):\n",
    "    return random.choice(list_demo)\n",
    "list_demo = [\"Alice\", \"Bob\", \"Charlie\", \"David\", \"Emma\", \"Frank\", \"Grace\", \"Henry\", \"Ivy\", \"Jack\"]\n",
    "random_element = chooseItem(list_demo)\n",
    "print(random_element)"
   ]
  },
  {
   "cell_type": "markdown",
   "metadata": {},
   "source": [
    "### 04) WAP to demonstrate the use of the math module."
   ]
  },
  {
   "cell_type": "code",
   "execution_count": 6,
   "metadata": {},
   "outputs": [
    {
     "name": "stdout",
     "output_type": "stream",
     "text": [
      "Ceil = 27\n",
      "Floor = 27\n",
      "Sqrt = 5.196152422706632\n",
      "Factorial = 10888869450418352160768000000\n"
     ]
    }
   ],
   "source": [
    "import math\n",
    "n = int(input(\"Enter a number to impement math modules = \"))\n",
    "print(\"Ceil =\",math.ceil(n))\n",
    "print(\"Floor =\",math.floor(n))\n",
    "print(\"Sqrt =\",math.sqrt(n))\n",
    "print(\"Factorial =\",math.factorial(n))"
   ]
  },
  {
   "cell_type": "markdown",
   "metadata": {},
   "source": [
    "### 05) WAP to demonstrate the use of date time module."
   ]
  },
  {
   "cell_type": "code",
   "execution_count": 1,
   "metadata": {},
   "outputs": [
    {
     "name": "stdout",
     "output_type": "stream",
     "text": [
      "Current Date and Time: 2024-02-24 21:50:48.559349\n",
      "Current Date: 2024-02-24\n",
      "Current Time: 21:50:48.559349\n",
      "Custom Date: 2023-05-15\n",
      "Custom Time: 10:30:00\n",
      "Custom Datetime: 2023-05-15 10:30:00\n",
      "Formatted Date: 2024-02-24\n",
      "Formatted Time: 21:50:48\n",
      "Formatted Datetime: 2024-02-24 21:50:48\n",
      "Parsed Date: 2023-12-25 00:00:00\n"
     ]
    }
   ],
   "source": [
    "import datetime\n",
    "\n",
    "current_datetime = datetime.datetime.now()\n",
    "\n",
    "print(\"Current Date and Time:\", current_datetime)\n",
    "\n",
    "current_date = current_datetime.date()\n",
    "current_time = current_datetime.time()\n",
    "\n",
    "print(\"Current Date:\", current_date)\n",
    "print(\"Current Time:\", current_time)\n",
    "\n",
    "\n",
    "custom_date = datetime.date(2023, 5, 15)\n",
    "print(\"Custom Date:\", custom_date)\n",
    "\n",
    "\n",
    "custom_time = datetime.time(10, 30, 0)\n",
    "print(\"Custom Time:\", custom_time)\n",
    "\n",
    "\n",
    "custom_datetime = datetime.datetime.combine(custom_date, custom_time)\n",
    "print(\"Custom Datetime:\", custom_datetime)\n",
    "\n",
    "\n",
    "formatted_date = current_date.strftime(\"%Y-%m-%d\")\n",
    "formatted_time = current_time.strftime(\"%H:%M:%S\")\n",
    "formatted_datetime = current_datetime.strftime(\"%Y-%m-%d %H:%M:%S\")\n",
    "print(\"Formatted Date:\", formatted_date)\n",
    "print(\"Formatted Time:\", formatted_time)\n",
    "print(\"Formatted Datetime:\", formatted_datetime)\n",
    "\n",
    "date_str = \"2023-12-25\"\n",
    "parsed_date = datetime.datetime.strptime(date_str, \"%Y-%m-%d\")\n",
    "print(\"Parsed Date:\", parsed_date)\n"
   ]
  },
  {
   "cell_type": "markdown",
   "metadata": {},
   "source": [
    "# B"
   ]
  },
  {
   "cell_type": "markdown",
   "metadata": {},
   "source": [
    "### 01) WAP to Roll dice in such a way that every time you get the same number."
   ]
  },
  {
   "cell_type": "code",
   "execution_count": 2,
   "metadata": {},
   "outputs": [
    {
     "name": "stdout",
     "output_type": "stream",
     "text": [
      "Roll 1 : 6\n",
      "Roll 2 : 6\n",
      "Roll 3 : 6\n",
      "Roll 4 : 6\n",
      "Roll 5 : 6\n",
      "Roll 6 : 6\n",
      "Roll 7 : 6\n",
      "Roll 8 : 6\n",
      "Roll 9 : 6\n",
      "Roll 10 : 6\n"
     ]
    }
   ],
   "source": [
    "import random\n",
    "\n",
    "def roll_dice():\n",
    "    return 6\n",
    "\n",
    "for i in range(10):\n",
    "    result = roll_dice()\n",
    "    print(\"Roll\", i+1, \":\", result)\n"
   ]
  },
  {
   "cell_type": "markdown",
   "metadata": {},
   "source": [
    "### 02) WAP to generate 3 random integers between 100 and 999 which is divisible by 5."
   ]
  },
  {
   "cell_type": "code",
   "execution_count": 4,
   "metadata": {},
   "outputs": [
    {
     "name": "stdout",
     "output_type": "stream",
     "text": [
      "Random number divisible by 5: 535\n",
      "Random number divisible by 5: 540\n",
      "Random number divisible by 5: 945\n"
     ]
    }
   ],
   "source": [
    "import random\n",
    "\n",
    "def generate_random_divisible_by_5():\n",
    "    num = random.randint(100, 999)\n",
    "    \n",
    "    if num % 5 == 0:\n",
    "        return num\n",
    "    else:\n",
    "        return generate_random_divisible_by_5()\n",
    "\n",
    "for _ in range(3):\n",
    "    print(\"Random number divisible by 5:\", generate_random_divisible_by_5())\n"
   ]
  },
  {
   "cell_type": "markdown",
   "metadata": {},
   "source": [
    "### 03) WAP to generate 100 random lottery tickets and pick two lucky tickets from it as a winner."
   ]
  },
  {
   "cell_type": "code",
   "execution_count": 2,
   "metadata": {},
   "outputs": [
    {
     "name": "stdout",
     "output_type": "stream",
     "text": [
      "Lucky Winners:\n",
      "Winner 1: Ticket Number 97\n",
      "Winner 2: Ticket Number 51\n"
     ]
    }
   ],
   "source": [
    "import random\n",
    "\n",
    "# Function to generate a random lottery ticket\n",
    "def generate_lottery_ticket():\n",
    "    return random.randint(0,101)\n",
    "\n",
    "# Generate 100 random lottery tickets\n",
    "lottery_tickets = [generate_lottery_ticket() for _ in range(100)]\n",
    "\n",
    "# Pick two lucky winners\n",
    "lucky_winners = random.sample(lottery_tickets, 2)\n",
    "\n",
    "# Display the winners\n",
    "print(\"Lucky Winners:\")\n",
    "print(\"Winner 1: Ticket Number\", lucky_winners[0])\n",
    "print(\"Winner 2: Ticket Number\", lucky_winners[1])\n"
   ]
  },
  {
   "cell_type": "code",
   "execution_count": 12,
   "metadata": {},
   "outputs": [
    {
     "name": "stdout",
     "output_type": "stream",
     "text": [
      "Lucky Tickets (Winners):\n",
      "Winner 1 : 34, 4, 31, 33, 5\n",
      "Winner 2 : 17, 68, 26, 95, 67\n"
     ]
    }
   ],
   "source": [
    "import random\n",
    "\n",
    "def generate_lottery_ticket():\n",
    "    return random.sample(range(1, 101), 5)\n",
    "\n",
    "def generate_lottery_tickets(num_tickets):\n",
    "    return [generate_lottery_ticket() for _ in range(num_tickets)]\n",
    "\n",
    "def pick_lucky_tickets(tickets):\n",
    "    return random.sample(tickets, 2)\n",
    "\n",
    "lottery_tickets = generate_lottery_tickets(100)\n",
    "\n",
    "lucky_tickets = pick_lucky_tickets(lottery_tickets)\n",
    "\n",
    "print(\"Lucky Tickets (Winners):\")\n",
    "for i, ticket in enumerate(lucky_tickets, 1):\n",
    "    print(\"Winner\", i, \":\", \", \".join(map(str, ticket)))\n"
   ]
  },
  {
   "cell_type": "markdown",
   "metadata": {},
   "source": [
    "### 04) WAP to print current date and time in Python."
   ]
  },
  {
   "cell_type": "code",
   "execution_count": 3,
   "metadata": {},
   "outputs": [
    {
     "name": "stdout",
     "output_type": "stream",
     "text": [
      "Current Date and Time: 2024-02-24 23:53:59.988877\n"
     ]
    }
   ],
   "source": [
    "import datetime\n",
    "\n",
    "current_datetime = datetime.datetime.now()\n",
    "\n",
    "print(\"Current Date and Time:\", current_datetime)"
   ]
  },
  {
   "cell_type": "markdown",
   "metadata": {},
   "source": [
    "### 05) Subtract a week (7 days) from a given date in Python."
   ]
  },
  {
   "cell_type": "code",
   "execution_count": 5,
   "metadata": {},
   "outputs": [
    {
     "name": "stdout",
     "output_type": "stream",
     "text": [
      "Given date: 2024-02-24\n",
      "One week ago: 2024-02-17\n"
     ]
    }
   ],
   "source": [
    "from datetime import datetime, timedelta\n",
    "\n",
    "given_date = datetime(2024, 2, 24)  \n",
    "\n",
    "one_week_ago = given_date - timedelta(days=7)\n",
    "\n",
    "print(\"Given date:\", given_date.strftime(\"%Y-%m-%d\"))\n",
    "print(\"One week ago:\", one_week_ago.strftime(\"%Y-%m-%d\"))\n"
   ]
  },
  {
   "cell_type": "markdown",
   "metadata": {},
   "source": [
    "### 06) WAP to Calculate number of days between two given dates."
   ]
  },
  {
   "cell_type": "code",
   "execution_count": 6,
   "metadata": {},
   "outputs": [
    {
     "name": "stdout",
     "output_type": "stream",
     "text": [
      "Number of days between 2024-01-15 and 2024-05-20 is 126\n"
     ]
    }
   ],
   "source": [
    "from datetime import datetime\n",
    "\n",
    "def days_between_dates(date1, date2):\n",
    "    dt1 = datetime.strptime(date1, \"%Y-%m-%d\")\n",
    "    dt2 = datetime.strptime(date2, \"%Y-%m-%d\")\n",
    "    \n",
    "    difference = abs((dt2 - dt1).days)\n",
    "    return difference\n",
    "\n",
    "date1 = \"2024-01-15\"\n",
    "date2 = \"2024-05-20\"\n",
    "\n",
    "difference_in_days = days_between_dates(date1, date2)\n",
    "\n",
    "print(\"Number of days between\", date1, \"and\", date2, \"is\", difference_in_days)\n"
   ]
  },
  {
   "cell_type": "markdown",
   "metadata": {},
   "source": [
    "### 07) WAP to Find the day of the week of a given date."
   ]
  },
  {
   "cell_type": "code",
   "execution_count": 7,
   "metadata": {},
   "outputs": [
    {
     "name": "stdout",
     "output_type": "stream",
     "text": [
      "The day of the week for 2024-05-20 is Monday\n"
     ]
    }
   ],
   "source": [
    "from datetime import datetime\n",
    "\n",
    "def find_day_of_week(date_str):\n",
    "    date_obj = datetime.strptime(date_str, \"%Y-%m-%d\")\n",
    "    \n",
    "    day_of_week = date_obj.weekday()\n",
    "    \n",
    "    weekdays = [\"Monday\", \"Tuesday\", \"Wednesday\", \"Thursday\", \"Friday\", \"Saturday\", \"Sunday\"]\n",
    "    \n",
    "    return weekdays[day_of_week]\n",
    "\n",
    "date_str = \"2024-05-20\"\n",
    "\n",
    "day_of_week = find_day_of_week(date_str)\n",
    "\n",
    "print(\"The day of the week for\", date_str, \"is\", day_of_week)\n"
   ]
  }
 ],
 "metadata": {
  "kernelspec": {
   "display_name": "Python 3 (ipykernel)",
   "language": "python",
   "name": "python3"
  },
  "language_info": {
   "codemirror_mode": {
    "name": "ipython",
    "version": 3
   },
   "file_extension": ".py",
   "mimetype": "text/x-python",
   "name": "python",
   "nbconvert_exporter": "python",
   "pygments_lexer": "ipython3",
   "version": "3.11.5"
  }
 },
 "nbformat": 4,
 "nbformat_minor": 4
}
