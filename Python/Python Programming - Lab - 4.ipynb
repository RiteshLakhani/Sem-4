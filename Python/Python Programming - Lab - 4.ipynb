{
 "cells": [
  {
   "cell_type": "markdown",
   "metadata": {},
   "source": [
    "\n",
    "<a href='https://www.darshan.ac.in/'> <img src='https://www.darshan.ac.in/Content/media/DU_Logo.svg' width=\"250\" height=\"300\"/></a>\n",
    "<pre>\n",
    "<center><b><h1>Python Programming - 2101CS405</b></center>\n",
    "<center><b><h1> Name -        Lakhani Ritesh</b></center>\n",
    "<center><b><h1>EnrollmentNo - 22010101099</b></center>\n",
    "<center><b><h1>Date -         4-01-2024 </b></center>\n",
    "<center><b><h1>Lab - 4</b></center>    \n",
    "<pre>"
   ]
  },
  {
   "cell_type": "markdown",
   "metadata": {},
   "source": [
    "# String"
   ]
  },
  {
   "cell_type": "markdown",
   "metadata": {},
   "source": [
    "### 01) WAP to check given string is palindrome or not."
   ]
  },
  {
   "cell_type": "code",
   "execution_count": 9,
   "metadata": {},
   "outputs": [
    {
     "name": "stdout",
     "output_type": "stream",
     "text": [
      "darshan institue, jam, india\n"
     ]
    }
   ],
   "source": [
    "x = 'darshan institue, rajkot, india'\n",
    "c = x.replace('rajkot','jam')\n",
    "print(c)"
   ]
  },
  {
   "cell_type": "code",
   "execution_count": 22,
   "metadata": {},
   "outputs": [
    {
     "name": "stdout",
     "output_type": "stream",
     "text": [
      "Not palindrom\n"
     ]
    }
   ],
   "source": [
    "x = input(\"Enter String: \")\n",
    "check = x[::-1]\n",
    "\n",
    "if x == check:\n",
    "    print(\"Palindrom\")\n",
    "else:\n",
    "    print(\"Not palindrom\")"
   ]
  },
  {
   "cell_type": "code",
   "execution_count": 2,
   "metadata": {},
   "outputs": [
    {
     "name": "stdout",
     "output_type": "stream",
     "text": [
      "String is not palindrome\n"
     ]
    }
   ],
   "source": [
    "str = input(\"Enter String\")\n",
    "reversed_str = str[::-1];\n",
    "\n",
    "if str == reversed_str:\n",
    "    print(\"String is Palindrome\")\n",
    "else:\n",
    "    print(\"String is not palindrome\")\n"
   ]
  },
  {
   "cell_type": "markdown",
   "metadata": {},
   "source": [
    "### 02) WAP to reverse the words in given string."
   ]
  },
  {
   "cell_type": "code",
   "execution_count": 2,
   "metadata": {},
   "outputs": [
    {
     "name": "stdout",
     "output_type": "stream",
     "text": [
      "hsetir mahbuhs\n"
     ]
    }
   ],
   "source": [
    "x = input(\"Enter String: \")\n",
    "check = x.split()\n",
    "reversed_check = [word[::-1] for word in check]\n",
    "reversed_string = ' '.join(reversed_check)\n",
    "print(reversed_string)\n"
   ]
  },
  {
   "cell_type": "code",
   "execution_count": 24,
   "metadata": {},
   "outputs": [
    {
     "name": "stdout",
     "output_type": "stream",
     "text": [
      "Reversed string: olleH !dlrow sihT si a .tset\n"
     ]
    }
   ],
   "source": [
    "# Input string\n",
    "input_string = \"Hello world! This is a test.\"\n",
    "\n",
    "# Split the input string into words\n",
    "words = input_string.split()\n",
    "\n",
    "# Reverse each word and join them back into a string\n",
    "reversed_words = [word[::-1] for word in words]\n",
    "reversed_string = ' '.join(reversed_words)\n",
    "\n",
    "# Print the reversed string\n",
    "print(\"Reversed string:\", reversed_string)\n"
   ]
  },
  {
   "cell_type": "code",
   "execution_count": 11,
   "metadata": {},
   "outputs": [
    {
     "name": "stdout",
     "output_type": "stream",
     "text": [
      "Reversed Words: madam\n"
     ]
    }
   ],
   "source": [
    "str_input = input(\"Enter a string: \")\n",
    "words = str_input.split()\n",
    "reversed_words = ' '.join(reversed(words))\n",
    "print(\"Reversed Words:\", reversed_words)"
   ]
  },
  {
   "cell_type": "markdown",
   "metadata": {},
   "source": [
    "### 03) WAP to remove ith character from given string"
   ]
  },
  {
   "cell_type": "code",
   "execution_count": 32,
   "metadata": {},
   "outputs": [
    {
     "name": "stdout",
     "output_type": "stream",
     "text": [
      "Empty\n"
     ]
    }
   ],
   "source": [
    "x = input(\"String: \")\n",
    "a = int(input(\"iTh char\"))\n",
    "\n",
    "if x==\"\":\n",
    "    print(\"Empty\")\n",
    "else:\n",
    "    modified_x = x[:a]+x[a+1:]\n",
    "    print(\"Modified String:\", modified_x)"
   ]
  },
  {
   "cell_type": "code",
   "execution_count": 11,
   "metadata": {},
   "outputs": [
    {
     "name": "stdout",
     "output_type": "stream",
     "text": [
      "Original String: ritesh \n",
      "modified String:riesh \n"
     ]
    }
   ],
   "source": [
    "str = input(\"Enter String\")\n",
    "a = int(input(\"Enter the index of  character to remove:\"));\n",
    "\n",
    "if str==\"\":\n",
    "    print(f\"String is Empty\")\n",
    "else:\n",
    "    modified_string = str[:a]+str[a+1:]\n",
    "    print(f\"Original String: {str}\")\n",
    "    print(f\"modified String:{modified_string}\")\n",
    "\n"
   ]
  },
  {
   "cell_type": "markdown",
   "metadata": {},
   "source": [
    "### 04) WAP to find length of String without using len function."
   ]
  },
  {
   "cell_type": "code",
   "execution_count": 13,
   "metadata": {},
   "outputs": [
    {
     "name": "stdout",
     "output_type": "stream",
     "text": [
      "Enter String:ritesh\n",
      "Length of String: 6\n"
     ]
    }
   ],
   "source": [
    "str = input(\"Enter String: \");\n",
    "count = 0\n",
    "\n",
    "for i in str:\n",
    "    count = count + 1\n",
    "print(f\"Enter String:{str}\")\n",
    "print(f\"Length of String: {count}\")"
   ]
  },
  {
   "cell_type": "markdown",
   "metadata": {},
   "source": [
    "### 05) WAP to print even length word in string."
   ]
  },
  {
   "cell_type": "code",
   "execution_count": 16,
   "metadata": {},
   "outputs": [
    {
     "name": "stdout",
     "output_type": "stream",
     "text": [
      "Even Length Words in String:\n"
     ]
    }
   ],
   "source": [
    "str = input(\"Enter String:\");\n",
    "\n",
    "words = str.split();\n",
    "\n",
    "print(\"Even Length Words in String:\");\n",
    "for word in words:\n",
    "    if len(word)%2==0:\n",
    "        print(word);"
   ]
  },
  {
   "cell_type": "markdown",
   "metadata": {},
   "source": [
    "### 06) WAP to count numbers of vowels in given string."
   ]
  },
  {
   "cell_type": "code",
   "execution_count": 17,
   "metadata": {},
   "outputs": [
    {
     "name": "stdout",
     "output_type": "stream",
     "text": [
      "Number Of vowels in String: 0\n"
     ]
    }
   ],
   "source": [
    "str = input(\"Enter String:\");\n",
    "\n",
    "vowel = {'a','e','i','o','u'}\n",
    "\n",
    "count = 0\n",
    "\n",
    "for i in str.lower():\n",
    " if i in vowel:\n",
    "     count = count + 1\n",
    "    \n",
    "print(f\"Number Of vowels in String: {count}\")"
   ]
  },
  {
   "cell_type": "markdown",
   "metadata": {},
   "source": [
    "### 07) WAP to convert given array to string."
   ]
  },
  {
   "cell_type": "code",
   "execution_count": 14,
   "metadata": {},
   "outputs": [
    {
     "name": "stdout",
     "output_type": "stream",
     "text": [
      "Resulting String: apple banana cherry date\n"
     ]
    }
   ],
   "source": [
    "my_array = ['apple', 'banana', 'cherry', 'date']\n",
    "\n",
    "result_string = ' '.join(my_array)\n",
    "\n",
    "print(\"Resulting String:\", result_string)\n"
   ]
  },
  {
   "cell_type": "markdown",
   "metadata": {},
   "source": [
    "### 01) WAP to find out duplicate characters in given string."
   ]
  },
  {
   "cell_type": "code",
   "execution_count": 30,
   "metadata": {},
   "outputs": [
    {
     "name": "stdout",
     "output_type": "stream",
     "text": [
      "String:  Ritesh Lakhani\n",
      "{'R': 1, 'i': 2, 't': 1, 'e': 1, 's': 1, 'h': 2, ' ': 1, 'L': 1, 'a': 2, 'k': 1, 'n': 1}\n",
      "i\n",
      "h\n",
      "a\n"
     ]
    }
   ],
   "source": [
    "str_input = input(\"Enter String: \")\n",
    "\n",
    "print(\"String: \",str_input)\n",
    "\n",
    "char_count = {}\n",
    "\n",
    "for ch in str_input:\n",
    "    if ch in char_count:\n",
    "        char_count[ch]+=1\n",
    "    else:\n",
    "        char_count[ch]=1\n",
    "\n",
    "print(char_count) \n",
    "for a in char_count:\n",
    "    if char_count.get(a)>1:\n",
    "        print(a)\n",
    "\n",
    "\n"
   ]
  },
  {
   "cell_type": "markdown",
   "metadata": {},
   "source": [
    "### 02) WAP to capitalize the first and last character of each word in a string."
   ]
  },
  {
   "cell_type": "code",
   "execution_count": 35,
   "metadata": {},
   "outputs": [
    {
     "name": "stdout",
     "output_type": "stream",
     "text": [
      "RitesH ShubhaM HarD HarsH\n"
     ]
    }
   ],
   "source": [
    "x = input(\"Enter String\")\n",
    "word = x.split()\n",
    "\n",
    "c_s = [words[0].upper() + words[1:-1] + words[-1].upper() for words in word]\n",
    "result = ' '.join(c_s)\n",
    "print(result)"
   ]
  },
  {
   "cell_type": "code",
   "execution_count": 2,
   "metadata": {},
   "outputs": [
    {
     "name": "stdout",
     "output_type": "stream",
     "text": [
      "RitesH ShubhaM HarD HarsH ShruT\n"
     ]
    }
   ],
   "source": [
    "str_input = input(\"Enter String:\")\n",
    "words = str_input.split();\n",
    "\n",
    "capitalized_words = [word[0].upper() + word[1:-1] + word[-1].upper() for word in words]\n",
    "\n",
    "result = ' '.join(capitalized_words)\n",
    "\n",
    "print(result)\n",
    "    "
   ]
  },
  {
   "cell_type": "markdown",
   "metadata": {},
   "source": [
    "### 03) WAP to find Maximum frequency character in String."
   ]
  },
  {
   "cell_type": "code",
   "execution_count": 40,
   "metadata": {},
   "outputs": [
    {
     "name": "stdout",
     "output_type": "stream",
     "text": [
      "The character ' ' has the maximum frequency of 4 times.\n"
     ]
    }
   ],
   "source": [
    "x = input(\"Enter String: \")\n",
    "fre = {}\n",
    "\n",
    "for char in x:\n",
    "    fre[char] = fre.get(char, 0) + 1\n",
    "\n",
    "max_char = max(fre, key=fre.get)\n",
    "\n",
    "print(f\"The character '{max_char}' has the maximum frequency of {fre[max_char]} times.\")\n"
   ]
  },
  {
   "cell_type": "code",
   "execution_count": 19,
   "metadata": {},
   "outputs": [
    {
     "name": "stdout",
     "output_type": "stream",
     "text": [
      "The character 'r' has the maximum frequency of 1 times.\n"
     ]
    }
   ],
   "source": [
    "str_input = input(\"Enter String: \")\n",
    "\n",
    "char_frequency = {}\n",
    "\n",
    "for char in str_input:\n",
    "    char_frequency[char] = char_frequency.get(char, 0) + 1\n",
    "\n",
    "max_char = max(char_frequency, key=char_frequency.get)\n",
    "\n",
    "print(f\"The character '{max_char}' has the maximum frequency of {char_frequency[max_char]} times.\")\n"
   ]
  },
  {
   "cell_type": "markdown",
   "metadata": {},
   "source": [
    "### 04) WAP to find Minimum frequency character in String."
   ]
  },
  {
   "cell_type": "code",
   "execution_count": null,
   "metadata": {},
   "outputs": [],
   "source": [
    "str_input = input(\"Enter String: \");\n",
    "char_frequency = {};\n",
    "\n",
    "for char in str_input:\n",
    "    char_frequency[char] = char_frequency.get(char, 0) + 1;\n",
    "    \n",
    "min_char = min(char_frequency, key=char_frequency.get);\n",
    "\n",
    "print(f\"The character '{min_char}' has the minimum)\""
   ]
  },
  {
   "cell_type": "code",
   "execution_count": 12,
   "metadata": {},
   "outputs": [
    {
     "name": "stdout",
     "output_type": "stream",
     "text": [
      "The character 'r' has the minimum frequency of 1 times.\n"
     ]
    }
   ],
   "source": [
    "str_input = input(\"Enter String: \")\n",
    "\n",
    "char_frequency = {}\n",
    "\n",
    "for char in str_input:\n",
    "    char_frequency[char] = char_frequency.get(char, 0) + 1\n",
    "\n",
    "min_char = min(char_frequency, key=char_frequency.get)\n",
    "\n",
    "print(f\"The character '{min_char}' has the minimum frequency of {char_frequency[min_char]} times.\")"
   ]
  },
  {
   "cell_type": "markdown",
   "metadata": {},
   "source": [
    "### 05) WAP to check if a given string is binary string or not"
   ]
  },
  {
   "cell_type": "code",
   "execution_count": 17,
   "metadata": {},
   "outputs": [
    {
     "name": "stdout",
     "output_type": "stream",
     "text": [
      "The String is binary\n"
     ]
    }
   ],
   "source": [
    "str_input = input(\"Enter String: \");\n",
    "valid_binary = True;\n",
    "\n",
    "for ch in str_input:\n",
    "    if ch not in '01':\n",
    "        valid_binary = False;\n",
    "        break;\n",
    "\n",
    "if valid_binary:\n",
    "    print(f\"The String is binary\");\n",
    "else:\n",
    "    print(f\"The String is not binary\");"
   ]
  },
  {
   "cell_type": "code",
   "execution_count": 42,
   "metadata": {},
   "outputs": [
    {
     "name": "stdout",
     "output_type": "stream",
     "text": [
      "The String is Binary\n"
     ]
    }
   ],
   "source": [
    "x = input(\"Enter String: \")\n",
    "valid_binary = True;\n",
    "\n",
    "for char in x:\n",
    "    if char not in '01':\n",
    "        valid_binary = False;\n",
    "        break;\n",
    "\n",
    "if valid_binary:\n",
    "    print(f\"The String is Binary\");\n",
    "else:\n",
    "    print(f\"The String is not binary\");"
   ]
  },
  {
   "cell_type": "code",
   "execution_count": 43,
   "metadata": {},
   "outputs": [
    {
     "name": "stdout",
     "output_type": "stream",
     "text": [
      "Binary representation: 01110010011010010111010001100101011100110110100000100000\n"
     ]
    }
   ],
   "source": [
    "# Input string\n",
    "input_string = input(\"Enter a string: \")\n",
    "\n",
    "# Convert each character to its binary representation\n",
    "binary_string = ''.join(format(ord(char), '08b') for char in input_string)\n",
    "\n",
    "print(\"Binary representation:\", binary_string)\n"
   ]
  },
  {
   "cell_type": "code",
   "execution_count": 14,
   "metadata": {},
   "outputs": [
    {
     "name": "stdout",
     "output_type": "stream",
     "text": [
      "The entered string is not a valid binary string.\n"
     ]
    }
   ],
   "source": [
    "str_input = input(\"Enter a string: \")\n",
    "\n",
    "valid_binary = True\n",
    "\n",
    "for char in str_input:\n",
    "    if char not in '01':\n",
    "        valid_binary = False\n",
    "        break  \n",
    "\n",
    "if valid_binary:\n",
    "    print(\"The entered string is a valid binary string.\")\n",
    "else:\n",
    "    print(\"The entered string is not a valid binary string.\")\n",
    "\n",
    "    "
   ]
  }
 ],
 "metadata": {
  "kernelspec": {
   "display_name": "Python 3 (ipykernel)",
   "language": "python",
   "name": "python3"
  },
  "language_info": {
   "codemirror_mode": {
    "name": "ipython",
    "version": 3
   },
   "file_extension": ".py",
   "mimetype": "text/x-python",
   "name": "python",
   "nbconvert_exporter": "python",
   "pygments_lexer": "ipython3",
   "version": "3.11.5"
  },
  "vscode": {
   "interpreter": {
    "hash": "31f2aee4e71d21fbe5cf8b01ff0e069b9275f58929596ceb00d14d90e3e16cd6"
   }
  }
 },
 "nbformat": 4,
 "nbformat_minor": 4
}
