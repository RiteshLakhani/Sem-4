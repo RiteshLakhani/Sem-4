{
 "cells": [
  {
   "cell_type": "markdown",
   "metadata": {},
   "source": [
    "\n",
    "<a href='https://www.darshan.ac.in/'> <img src='https://www.darshan.ac.in/Content/media/DU_Logo.svg' width=\"250\" height=\"300\"/></a>\n",
    "<pre>\n",
    "<center><b><h1>Python Programming - 2101CS405</b></center>\n",
    "<center><b><h1>Lab - 3</b></center>\n",
    "<center><b><h1>Name:- Lakhani Ritesh Shaileshbhai</b></center>\n",
    "<center><b><h1>Enrollment Number:- 22010101099</b></center>\n",
    "<center><b><h1>Date:-28-12-2023</b></center>    \n",
    "<pre>"
   ]
  },
  {
   "cell_type": "markdown",
   "metadata": {},
   "source": [
    "# for and while loop"
   ]
  },
  {
   "cell_type": "markdown",
   "metadata": {},
   "source": [
    "### 01) WAP to print 1 to 10"
   ]
  },
  {
   "cell_type": "code",
   "execution_count": 3,
   "metadata": {},
   "outputs": [
    {
     "name": "stdout",
     "output_type": "stream",
     "text": [
      "99\n",
      "98\n",
      "97\n",
      "96\n",
      "95\n",
      "94\n",
      "93\n",
      "92\n",
      "91\n",
      "90\n",
      "89\n",
      "88\n",
      "87\n",
      "86\n",
      "85\n",
      "84\n",
      "83\n",
      "82\n",
      "81\n",
      "80\n",
      "79\n",
      "78\n",
      "77\n",
      "76\n",
      "75\n",
      "74\n",
      "73\n",
      "72\n",
      "71\n",
      "70\n",
      "69\n",
      "68\n",
      "67\n",
      "66\n",
      "65\n",
      "64\n",
      "63\n",
      "62\n",
      "61\n",
      "60\n",
      "59\n",
      "58\n",
      "57\n",
      "56\n",
      "55\n",
      "54\n",
      "53\n",
      "52\n",
      "51\n",
      "50\n",
      "49\n",
      "48\n",
      "47\n",
      "46\n",
      "45\n",
      "44\n",
      "43\n",
      "42\n",
      "41\n",
      "40\n",
      "39\n",
      "38\n",
      "37\n",
      "36\n",
      "35\n",
      "34\n",
      "33\n",
      "32\n",
      "31\n",
      "30\n",
      "29\n",
      "28\n",
      "27\n",
      "26\n",
      "25\n",
      "24\n",
      "23\n",
      "22\n",
      "21\n",
      "20\n",
      "19\n",
      "18\n",
      "17\n",
      "16\n",
      "15\n",
      "14\n",
      "13\n",
      "12\n",
      "11\n",
      "10\n",
      "9\n",
      "8\n",
      "7\n",
      "6\n",
      "5\n",
      "4\n",
      "3\n",
      "2\n",
      "1\n",
      "0\n"
     ]
    }
   ],
   "source": [
    "x = reversed(range(100))\n",
    "for i in x:\n",
    "    print(i);\n",
    "    "
   ]
  },
  {
   "cell_type": "markdown",
   "metadata": {},
   "source": [
    "### 02) WAP to print 1 to n"
   ]
  },
  {
   "cell_type": "code",
   "execution_count": 4,
   "metadata": {},
   "outputs": [
    {
     "name": "stdout",
     "output_type": "stream",
     "text": [
      "1\n",
      "2\n",
      "3\n",
      "4\n",
      "5\n",
      "6\n",
      "7\n",
      "8\n",
      "9\n",
      "10\n"
     ]
    }
   ],
   "source": [
    "n = int(input(\"Enter Number To Print: \"));\n",
    "\n",
    "for i in range(1,n+1):\n",
    "    print(i);"
   ]
  },
  {
   "cell_type": "markdown",
   "metadata": {},
   "source": [
    "### 03) WAP to print odd numbers between 1 to n"
   ]
  },
  {
   "cell_type": "code",
   "execution_count": 7,
   "metadata": {},
   "outputs": [
    {
     "name": "stdout",
     "output_type": "stream",
     "text": [
      "2\n",
      "5\n",
      "8\n",
      "11\n"
     ]
    }
   ],
   "source": [
    "my_list = [(1,2,3),(4,5,6),(7,8,9),(10,11,12)]\n",
    "for a,b,c in my_list:\n",
    "    print(b)"
   ]
  },
  {
   "cell_type": "code",
   "execution_count": 9,
   "metadata": {},
   "outputs": [
    {
     "name": "stdout",
     "output_type": "stream",
     "text": [
      "385\n"
     ]
    }
   ],
   "source": [
    "n = int(input(\"Enter Number: \"))\n",
    "sum = 0\n",
    "for i in range(1,n+1):\n",
    "    sum = sum + i**2\n",
    "print(sum)"
   ]
  },
  {
   "cell_type": "code",
   "execution_count": 5,
   "metadata": {},
   "outputs": [
    {
     "name": "stdout",
     "output_type": "stream",
     "text": [
      "1\n",
      "3\n",
      "5\n",
      "7\n",
      "9\n"
     ]
    }
   ],
   "source": [
    "a = input(\"Enter Number To Print: \");\n",
    "\n",
    "for i in range(1,n+1):\n",
    "    if i%2!=0:\n",
    "        print(i);"
   ]
  },
  {
   "cell_type": "markdown",
   "metadata": {},
   "source": [
    "### 04) WAP to print numbers between two given numbers which is divisible by 2 but not divisible by 3"
   ]
  },
  {
   "cell_type": "code",
   "execution_count": 2,
   "metadata": {},
   "outputs": [
    {
     "name": "stdout",
     "output_type": "stream",
     "text": [
      "8\n",
      "10\n"
     ]
    }
   ],
   "source": [
    "a = int(input(\"Enter First Number: \"));\n",
    "b = int(input(\"Enter Second Number: \"));\n",
    "\n",
    "for i in range(a, b+1):\n",
    "    if i%2==0 and i%3!=0:\n",
    "        print(i);"
   ]
  },
  {
   "cell_type": "code",
   "execution_count": 13,
   "metadata": {},
   "outputs": [
    {
     "name": "stdout",
     "output_type": "stream",
     "text": [
      "8\n",
      "10\n"
     ]
    }
   ],
   "source": [
    "a = int(input(\"Enter First Number:- \"))\n",
    "b = int(input(\"Enter Second Number:- \"))\n",
    "\n",
    "for i in range(a, b+1):\n",
    "    if i%2==0 and i%3!=0:\n",
    "        print(i);"
   ]
  },
  {
   "cell_type": "markdown",
   "metadata": {},
   "source": [
    "### 05) WAP to print sum of 1 to n numbers"
   ]
  },
  {
   "cell_type": "code",
   "execution_count": 18,
   "metadata": {},
   "outputs": [
    {
     "name": "stdout",
     "output_type": "stream",
     "text": [
      "15\n"
     ]
    }
   ],
   "source": [
    "a = int(input(\"Enter Number:- \"));\n",
    "sum = 0;\n",
    "for i in range(1,a+1):\n",
    "    sum = sum + i; \n",
    "print(sum)"
   ]
  },
  {
   "cell_type": "markdown",
   "metadata": {},
   "source": [
    "### 06) WAP to print sum of series 1 + 4 + 9 + 16 + 25 + 36 + ...n"
   ]
  },
  {
   "cell_type": "code",
   "execution_count": 10,
   "metadata": {},
   "outputs": [
    {
     "name": "stdout",
     "output_type": "stream",
     "text": [
      "385\n"
     ]
    }
   ],
   "source": [
    "a = int(input(\"Enter Number:- \"));\n",
    "sum = 0;\n",
    "\n",
    "for i in range(1,a+1):\n",
    "    sum = sum + i**2\n",
    "print(sum);"
   ]
  },
  {
   "cell_type": "code",
   "execution_count": 4,
   "metadata": {},
   "outputs": [
    {
     "name": "stdout",
     "output_type": "stream",
     "text": [
      "Sum Of N numbers:-285.0\n"
     ]
    }
   ],
   "source": [
    "import math\n",
    "\n",
    "a = int(input(\"Enter Number:- \"));\n",
    "sum = 0;\n",
    "for i in range(1,a+1):\n",
    "    sum = sum + math.pow(i,2);\n",
    "print(f\"Sum Of N numbers:-{sum}\")    "
   ]
  },
  {
   "cell_type": "markdown",
   "metadata": {},
   "source": [
    "### 07) WAP to print sum of series 1 – 2 + 3 – 4 + 5 – 6 + 7 ... n"
   ]
  },
  {
   "cell_type": "code",
   "execution_count": 14,
   "metadata": {},
   "outputs": [
    {
     "name": "stdout",
     "output_type": "stream",
     "text": [
      "Sum= -5\n"
     ]
    }
   ],
   "source": [
    "num = int(input(\"Enter Number: \"))\n",
    "sum = 0\n",
    "\n",
    "for i in range(1,num+1):\n",
    "    if i%2==0:\n",
    "        sum = sum-i;\n",
    "    else:\n",
    "        sum = sum+i\n",
    "print(\"Sum=\",sum)"
   ]
  },
  {
   "cell_type": "markdown",
   "metadata": {},
   "source": [
    "### 08) WAP to print multiplication table of given number."
   ]
  },
  {
   "cell_type": "code",
   "execution_count": 33,
   "metadata": {},
   "outputs": [
    {
     "name": "stdout",
     "output_type": "stream",
     "text": [
      "19X1=19\n",
      "19X2=38\n",
      "19X3=57\n",
      "19X4=76\n",
      "19X5=95\n",
      "19X6=114\n",
      "19X7=133\n",
      "19X8=152\n",
      "19X9=171\n",
      "19X10=190\n"
     ]
    }
   ],
   "source": [
    "n = int(input(\"Enter Table Number:\"))\n",
    "\n",
    "for i in range(1,11):\n",
    "    print(f\"{n}X{i}={n*i}\")\n"
   ]
  },
  {
   "cell_type": "markdown",
   "metadata": {},
   "source": [
    "### 09) WAP to find factorial of the given number"
   ]
  },
  {
   "cell_type": "code",
   "execution_count": 11,
   "metadata": {},
   "outputs": [
    {
     "name": "stdout",
     "output_type": "stream",
     "text": [
      "120\n"
     ]
    }
   ],
   "source": [
    "a = int(input(\"Enter Number:\"))\n",
    "fact = 1;\n",
    "for i in range(1,a+1):\n",
    "    fact = fact * i;\n",
    "print(fact)"
   ]
  },
  {
   "cell_type": "code",
   "execution_count": 5,
   "metadata": {},
   "outputs": [
    {
     "name": "stdout",
     "output_type": "stream",
     "text": [
      "120\n"
     ]
    }
   ],
   "source": [
    "a = int(input(\"Enter Factorial Number:\"))\n",
    "fact = 1;\n",
    "for i in range(1,a+1):\n",
    "    fact = fact * i ;\n",
    "\n",
    "print(fact);"
   ]
  },
  {
   "cell_type": "code",
   "execution_count": 36,
   "metadata": {},
   "outputs": [
    {
     "name": "stdout",
     "output_type": "stream",
     "text": [
      "Factorial of 5 is :- 120\n"
     ]
    }
   ],
   "source": [
    "a = int(input(\"Enter Factorial of the given number:-\"))\n",
    "fact = 1\n",
    "for i in range(1,a+1):\n",
    "    fact = fact * i;\n",
    "print(f\"Factorial of {a} is :- {fact}\")"
   ]
  },
  {
   "cell_type": "markdown",
   "metadata": {},
   "source": [
    "### 10) WAP to find factors of the given number"
   ]
  },
  {
   "cell_type": "code",
   "execution_count": 13,
   "metadata": {},
   "outputs": [
    {
     "name": "stdout",
     "output_type": "stream",
     "text": [
      "1\n",
      "3\n",
      "9\n"
     ]
    }
   ],
   "source": [
    "a = int(input(\"Enter WAP of the given number\"))\n",
    "\n",
    "for i in range(1,a+1):\n",
    "    if a % i == 0:\n",
    "        print(i)"
   ]
  },
  {
   "cell_type": "code",
   "execution_count": 40,
   "metadata": {},
   "outputs": [
    {
     "name": "stdout",
     "output_type": "stream",
     "text": [
      "1\n",
      "2\n",
      "3\n",
      "6\n"
     ]
    }
   ],
   "source": [
    "a = int(input(\"Enter Number: \"));\n",
    "\n",
    "for i in range(1,a+1):\n",
    "    if a%i==0:\n",
    "        print(i)"
   ]
  },
  {
   "cell_type": "markdown",
   "metadata": {},
   "source": [
    "### 11) WAP to find whether the given number is prime or not."
   ]
  },
  {
   "cell_type": "code",
   "execution_count": 14,
   "metadata": {},
   "outputs": [
    {
     "name": "stdout",
     "output_type": "stream",
     "text": [
      "First n prime number:- \n",
      "First 50 Prime Numbers are: 2 3 5 7 11 13 17 19 23 29 31 37 41 43 47 53 59 61 67 71 73 79 83 89 97 101 103 107 109 113 127 131 137 139 149 151 157 163 167 173 179 181 191 193 197 199 211 223 227 229 "
     ]
    }
   ],
   "source": [
    "print(\"First n prime number:- \")\n",
    "n = int(input(\"Enter Number:- \"));\n",
    "count = 0;\n",
    "num =2 \n",
    "\n",
    "print(\"First\", n , \"Prime Numbers are: \",end=\"\");\n",
    "while count < n:\n",
    "    is_Prime = True\n",
    "    for i in range(2, int(num**0.5) + 1):\n",
    "        if num % i == 0:\n",
    "            is_Prime = False\n",
    "            break;\n",
    "    if is_Prime == True:\n",
    "        print(num, end=\" \")\n",
    "        count +=1\n",
    "    num+=1             \n"
   ]
  },
  {
   "cell_type": "code",
   "execution_count": 50,
   "metadata": {},
   "outputs": [
    {
     "name": "stdout",
     "output_type": "stream",
     "text": [
      "Number 9 is not Prime\n"
     ]
    }
   ],
   "source": [
    "a = int(input(\"Enter Number for Checking if the given number is prime or not: \"))\n",
    "isPrime = 0\n",
    "\n",
    "for i in range(2, a):\n",
    "    if a % i == 0:\n",
    "        isPrime = 1\n",
    "        break\n",
    "\n",
    "if isPrime == 0:\n",
    "    print(f\"Number {a} is Prime\")\n",
    "else:\n",
    "    print(f\"Number {a} is not Prime\")\n"
   ]
  },
  {
   "cell_type": "markdown",
   "metadata": {},
   "source": [
    "### 12) WAP to print sum of digits of given number"
   ]
  },
  {
   "cell_type": "code",
   "execution_count": 52,
   "metadata": {},
   "outputs": [
    {
     "name": "stdout",
     "output_type": "stream",
     "text": [
      "Sum Of Digit Of Numbers:-11\n"
     ]
    }
   ],
   "source": [
    "a = int(input(\"Enter Number:\"))\n",
    "\n",
    "sum = 0;\n",
    "\n",
    "while a>0:\n",
    "    digit = a % 10\n",
    "    sum = sum + digit\n",
    "    a = a // 10\n",
    "\n",
    "print(f\"Sum Of Digit Of Numbers:-{sum}\")\n"
   ]
  },
  {
   "cell_type": "markdown",
   "metadata": {},
   "source": [
    "### 13) WAP to check whether the given number is palindrome or not"
   ]
  },
  {
   "cell_type": "code",
   "execution_count": 28,
   "metadata": {},
   "outputs": [
    {
     "name": "stdout",
     "output_type": "stream",
     "text": [
      "123456789 is not a palindrome.\n",
      "987654321\n"
     ]
    }
   ],
   "source": [
    "a = int(input(\"Enter Number:\"))\n",
    "\n",
    "original_num = a;\n",
    "reverse_num = 0;\n",
    "\n",
    "while a > 0:\n",
    "    digit = a % 10\n",
    "    reverse_num = reverse_num*10 + digit\n",
    "    a = a // 10\n",
    "\n",
    "if original_num == reverse_num:\n",
    "    print(f\"{original_num} is a palindrome.\")\n",
    "else:\n",
    "    print(f\"{original_num} is not a palindrome.\")\n",
    "\n",
    "print(reverse_num)"
   ]
  },
  {
   "cell_type": "markdown",
   "metadata": {},
   "source": [
    "### 01) WAP to check whether the given number is Armstrong or not."
   ]
  },
  {
   "cell_type": "code",
   "execution_count": 17,
   "metadata": {},
   "outputs": [
    {
     "name": "stdout",
     "output_type": "stream",
     "text": [
      "Not Armstrong\n"
     ]
    }
   ],
   "source": [
    "num = int(input(\"Enter Number:\"))\n",
    "original_num = num\n",
    "num_of_digit = len(str(num))\n",
    "sum_of_digit = 0\n",
    "\n",
    "while num > 0:\n",
    "    digit = num%10\n",
    "    sum_of_digit += digit**num_of_digit\n",
    "    num = num // 10\n",
    "\n",
    "if original_num == sum_of_digit:\n",
    "    print(\"Armstrong\")\n",
    "else:\n",
    "    print(\"Not Armstrong\")"
   ]
  },
  {
   "cell_type": "code",
   "execution_count": 56,
   "metadata": {},
   "outputs": [
    {
     "name": "stdout",
     "output_type": "stream",
     "text": [
      "153 is an Armstrong number.\n"
     ]
    }
   ],
   "source": [
    "num = int(input(\"Enter a number: \"))\n",
    "original_num = num\n",
    "num_of_digits = len(str(num))\n",
    "sum_of_digits = 0\n",
    "\n",
    "while num > 0:\n",
    "    digit = num % 10\n",
    "    sum_of_digits += digit ** num_of_digits\n",
    "    num = num // 10\n",
    "\n",
    "if original_num == sum_of_digits:\n",
    "    print(f\"{original_num} is an Armstrong number.\")\n",
    "else:\n",
    "    print(f\"{original_num} is not an Armstrong number.\")\n"
   ]
  },
  {
   "cell_type": "markdown",
   "metadata": {},
   "source": [
    "### 02) WAP to find out prime numbers between given two numbers."
   ]
  },
  {
   "cell_type": "code",
   "execution_count": 13,
   "metadata": {},
   "outputs": [
    {
     "name": "stdout",
     "output_type": "stream",
     "text": [
      "11\n",
      "13\n",
      "17\n",
      "19\n"
     ]
    }
   ],
   "source": [
    "import math\n",
    "\n",
    "a = int(input(\"Enter First Number:- \"))\n",
    "b = int(input(\"Enter Second Number:- \"))\n",
    "\n",
    "for i in range(a,b+1):\n",
    "    if i > 1:\n",
    "        is_Prime = True\n",
    "        for j in range(2,int(math.sqrt(i))+1):\n",
    "            if i % j == 0:\n",
    "                is_Prime = False\n",
    "                break\n",
    "        if is_Prime:\n",
    "            print(i);\n",
    "                "
   ]
  },
  {
   "cell_type": "markdown",
   "metadata": {},
   "source": [
    "### 03) WAP to calculate x^y without using any function."
   ]
  },
  {
   "cell_type": "code",
   "execution_count": 34,
   "metadata": {},
   "outputs": [
    {
     "name": "stdout",
     "output_type": "stream",
     "text": [
      "The binary representation of 8 is: 1000"
     ]
    }
   ],
   "source": [
    "def decimal_to_binary(n):\n",
    "    if n > 1:\n",
    "        decimal_to_binary(n // 2)\n",
    "    print(n % 2, end='')\n",
    "\n",
    "decimal_number = int(input(\"Enter a decimal number: \"))\n",
    "print(\"The binary representation of\", decimal_number, \"is:\", end=' ')\n",
    "decimal_to_binary(decimal_number)\n"
   ]
  },
  {
   "cell_type": "code",
   "execution_count": 60,
   "metadata": {},
   "outputs": [
    {
     "name": "stdout",
     "output_type": "stream",
     "text": [
      "2^3 is: 8\n"
     ]
    }
   ],
   "source": [
    "x = int(input(\"Enter the base (x): \"))\n",
    "y = int(input(\"Enter the exponent (y): \"))\n",
    "\n",
    "result = 1\n",
    "\n",
    "for i in range(y):\n",
    "    result *= x\n",
    "    \n",
    "print(f\"{x}^{y} is: {result}\")\n"
   ]
  },
  {
   "cell_type": "markdown",
   "metadata": {},
   "source": [
    "### 04) WAP to check whether the given number is perfect or not.\n",
    "[Sum of factors including 1 excluding number itself]"
   ]
  },
  {
   "cell_type": "code",
   "execution_count": 24,
   "metadata": {},
   "outputs": [
    {
     "name": "stdout",
     "output_type": "stream",
     "text": [
      "79 is not a perfect number.\n"
     ]
    }
   ],
   "source": [
    "a = int(input(\"Enter a number: \"))\n",
    "\n",
    "sum_of_divisors = 0\n",
    "\n",
    "for i in range(1, a):\n",
    "    if a % i == 0:\n",
    "        sum_of_divisors += i\n",
    "\n",
    "if sum_of_divisors == a:\n",
    "    print(f\"{a} is a perfect number.\")\n",
    "else:\n",
    "    print(f\"{a} is not a perfect number.\")\n"
   ]
  },
  {
   "cell_type": "markdown",
   "metadata": {},
   "source": [
    "### 05) WAP to find the sum of 1 + (1+2) + (1+2+3) + (1+2+3+4)+...+(1+2+3+4+....+n)"
   ]
  },
  {
   "cell_type": "code",
   "execution_count": 15,
   "metadata": {},
   "outputs": [
    {
     "name": "stdout",
     "output_type": "stream",
     "text": [
      "The sum is: 35\n"
     ]
    }
   ],
   "source": [
    "# Sum of Series:- n(n+1)/2\n",
    "\n",
    "n = int(input(\"Enter the value of n: \"))\n",
    "\n",
    "result = 0\n",
    "\n",
    "for i in range(1, n + 1):\n",
    "    result = result + i * (i + 1) // 2\n",
    "    \n",
    "print(f\"The sum is: {result}\")\n"
   ]
  },
  {
   "cell_type": "markdown",
   "metadata": {},
   "source": [
    "### 06) WAP to print Multiplication Table up to n"
   ]
  },
  {
   "cell_type": "code",
   "execution_count": 38,
   "metadata": {},
   "outputs": [
    {
     "name": "stdout",
     "output_type": "stream",
     "text": [
      "4 3\n",
      "3 7\n",
      "7 10\n"
     ]
    }
   ],
   "source": [
    "class Time:\n",
    "    def __init__(self,h,m):\n",
    "        self.h = h\n",
    "        self.m = m\n",
    "        \n",
    "    def addTime(self,t1,t2):\n",
    "        self.h = t1.h + t2.h\n",
    "        self.m = t1.m + t2.m\n",
    "    \n",
    "    def displayTime(self):\n",
    "        print(self.h,self.m)\n",
    "\n",
    "t1 = Time(4,3)\n",
    "t2 = Time(3,7)\n",
    "t3 = Time(0,0)\n",
    "\n",
    "t3.addTime(t1,t2)\n",
    "\n",
    "t1.displayTime()\n",
    "t2.displayTime()\n",
    "t3.displayTime()                "
   ]
  },
  {
   "cell_type": "code",
   "execution_count": 44,
   "metadata": {},
   "outputs": [
    {
     "name": "stdout",
     "output_type": "stream",
     "text": [
      "7+54i\n",
      "7+54i\n"
     ]
    }
   ],
   "source": [
    "class Add:\n",
    "    \n",
    "    def __init__(self,r,i):\n",
    "        self.r = r\n",
    "        self.i = i\n",
    "    \n",
    "    def addNumber(self,c1,c2):\n",
    "        self.r = c1.r + c2.r\n",
    "        self.i = c1.i + c2.i\n",
    "    \n",
    "    def addComplexNum(self,c2):\n",
    "        self.r += c2.r\n",
    "        self.i += c2.i\n",
    "    \n",
    "    def __str__(self):\n",
    "        return f\"{self.r}+{self.i}i\"\n",
    "\n",
    "c1 = Add(3,4);\n",
    "c2 = Add(4,50);\n",
    "result = Add(0,0)\n",
    "result.addNumber(c1,c2)\n",
    "print(result)\n",
    "\n",
    "c1.addComplexNum(c2)\n",
    "print(c1)"
   ]
  },
  {
   "cell_type": "code",
   "execution_count": 27,
   "metadata": {},
   "outputs": [
    {
     "name": "stdout",
     "output_type": "stream",
     "text": [
      "The number 897123 in reverse order is: 321798\n"
     ]
    }
   ],
   "source": [
    "number = int(input(\"Enter a number: \"))\n",
    "reversed_number = 0\n",
    "original_number = number\n",
    "\n",
    "while number > 0:\n",
    "    digit = number % 10\n",
    "    reversed_number = reversed_number * 10 + digit\n",
    "    number = number // 10\n",
    "\n",
    "print(\"The number\", original_number, \"in reverse order is:\", reversed_number)\n"
   ]
  },
  {
   "cell_type": "code",
   "execution_count": 69,
   "metadata": {},
   "outputs": [
    {
     "name": "stdout",
     "output_type": "stream",
     "text": [
      "1 x 1 = 1\t2 x 1 = 2\t3 x 1 = 3\t4 x 1 = 4\t5 x 1 = 5\t6 x 1 = 6\t7 x 1 = 7\t8 x 1 = 8\t9 x 1 = 9\t10 x 1 = 10\t11 x 1 = 11\t12 x 1 = 12\t13 x 1 = 13\t14 x 1 = 14\t15 x 1 = 15\t16 x 1 = 16\t17 x 1 = 17\t18 x 1 = 18\t19 x 1 = 19\t20 x 1 = 20\t21 x 1 = 21\t22 x 1 = 22\t23 x 1 = 23\t24 x 1 = 24\t25 x 1 = 25\t26 x 1 = 26\t27 x 1 = 27\t28 x 1 = 28\t29 x 1 = 29\t30 x 1 = 30\t31 x 1 = 31\t32 x 1 = 32\t33 x 1 = 33\t34 x 1 = 34\t35 x 1 = 35\t36 x 1 = 36\t37 x 1 = 37\t38 x 1 = 38\t39 x 1 = 39\t40 x 1 = 40\t41 x 1 = 41\t42 x 1 = 42\t43 x 1 = 43\t44 x 1 = 44\t45 x 1 = 45\t46 x 1 = 46\t47 x 1 = 47\t48 x 1 = 48\t49 x 1 = 49\t50 x 1 = 50\t51 x 1 = 51\t52 x 1 = 52\t53 x 1 = 53\t54 x 1 = 54\t55 x 1 = 55\t56 x 1 = 56\t57 x 1 = 57\t58 x 1 = 58\t59 x 1 = 59\t60 x 1 = 60\t61 x 1 = 61\t62 x 1 = 62\t63 x 1 = 63\t64 x 1 = 64\t65 x 1 = 65\t66 x 1 = 66\t67 x 1 = 67\t68 x 1 = 68\t69 x 1 = 69\t70 x 1 = 70\t71 x 1 = 71\t72 x 1 = 72\t73 x 1 = 73\t74 x 1 = 74\t75 x 1 = 75\t76 x 1 = 76\t77 x 1 = 77\t78 x 1 = 78\t79 x 1 = 79\t80 x 1 = 80\t81 x 1 = 81\t82 x 1 = 82\t83 x 1 = 83\t84 x 1 = 84\t85 x 1 = 85\t86 x 1 = 86\t87 x 1 = 87\t88 x 1 = 88\t89 x 1 = 89\t90 x 1 = 90\t91 x 1 = 91\t92 x 1 = 92\t93 x 1 = 93\t94 x 1 = 94\t95 x 1 = 95\t96 x 1 = 96\t97 x 1 = 97\t98 x 1 = 98\t99 x 1 = 99\t100 x 1 = 100\t101 x 1 = 101\t102 x 1 = 102\t103 x 1 = 103\t104 x 1 = 104\t105 x 1 = 105\t106 x 1 = 106\t107 x 1 = 107\t108 x 1 = 108\t109 x 1 = 109\t110 x 1 = 110\t111 x 1 = 111\t112 x 1 = 112\t113 x 1 = 113\t114 x 1 = 114\t115 x 1 = 115\t116 x 1 = 116\t117 x 1 = 117\t118 x 1 = 118\t119 x 1 = 119\t120 x 1 = 120\t\n",
      "1 x 2 = 2\t2 x 2 = 4\t3 x 2 = 6\t4 x 2 = 8\t5 x 2 = 10\t6 x 2 = 12\t7 x 2 = 14\t8 x 2 = 16\t9 x 2 = 18\t10 x 2 = 20\t11 x 2 = 22\t12 x 2 = 24\t13 x 2 = 26\t14 x 2 = 28\t15 x 2 = 30\t16 x 2 = 32\t17 x 2 = 34\t18 x 2 = 36\t19 x 2 = 38\t20 x 2 = 40\t21 x 2 = 42\t22 x 2 = 44\t23 x 2 = 46\t24 x 2 = 48\t25 x 2 = 50\t26 x 2 = 52\t27 x 2 = 54\t28 x 2 = 56\t29 x 2 = 58\t30 x 2 = 60\t31 x 2 = 62\t32 x 2 = 64\t33 x 2 = 66\t34 x 2 = 68\t35 x 2 = 70\t36 x 2 = 72\t37 x 2 = 74\t38 x 2 = 76\t39 x 2 = 78\t40 x 2 = 80\t41 x 2 = 82\t42 x 2 = 84\t43 x 2 = 86\t44 x 2 = 88\t45 x 2 = 90\t46 x 2 = 92\t47 x 2 = 94\t48 x 2 = 96\t49 x 2 = 98\t50 x 2 = 100\t51 x 2 = 102\t52 x 2 = 104\t53 x 2 = 106\t54 x 2 = 108\t55 x 2 = 110\t56 x 2 = 112\t57 x 2 = 114\t58 x 2 = 116\t59 x 2 = 118\t60 x 2 = 120\t61 x 2 = 122\t62 x 2 = 124\t63 x 2 = 126\t64 x 2 = 128\t65 x 2 = 130\t66 x 2 = 132\t67 x 2 = 134\t68 x 2 = 136\t69 x 2 = 138\t70 x 2 = 140\t71 x 2 = 142\t72 x 2 = 144\t73 x 2 = 146\t74 x 2 = 148\t75 x 2 = 150\t76 x 2 = 152\t77 x 2 = 154\t78 x 2 = 156\t79 x 2 = 158\t80 x 2 = 160\t81 x 2 = 162\t82 x 2 = 164\t83 x 2 = 166\t84 x 2 = 168\t85 x 2 = 170\t86 x 2 = 172\t87 x 2 = 174\t88 x 2 = 176\t89 x 2 = 178\t90 x 2 = 180\t91 x 2 = 182\t92 x 2 = 184\t93 x 2 = 186\t94 x 2 = 188\t95 x 2 = 190\t96 x 2 = 192\t97 x 2 = 194\t98 x 2 = 196\t99 x 2 = 198\t100 x 2 = 200\t101 x 2 = 202\t102 x 2 = 204\t103 x 2 = 206\t104 x 2 = 208\t105 x 2 = 210\t106 x 2 = 212\t107 x 2 = 214\t108 x 2 = 216\t109 x 2 = 218\t110 x 2 = 220\t111 x 2 = 222\t112 x 2 = 224\t113 x 2 = 226\t114 x 2 = 228\t115 x 2 = 230\t116 x 2 = 232\t117 x 2 = 234\t118 x 2 = 236\t119 x 2 = 238\t120 x 2 = 240\t\n",
      "1 x 3 = 3\t2 x 3 = 6\t3 x 3 = 9\t4 x 3 = 12\t5 x 3 = 15\t6 x 3 = 18\t7 x 3 = 21\t8 x 3 = 24\t9 x 3 = 27\t10 x 3 = 30\t11 x 3 = 33\t12 x 3 = 36\t13 x 3 = 39\t14 x 3 = 42\t15 x 3 = 45\t16 x 3 = 48\t17 x 3 = 51\t18 x 3 = 54\t19 x 3 = 57\t20 x 3 = 60\t21 x 3 = 63\t22 x 3 = 66\t23 x 3 = 69\t24 x 3 = 72\t25 x 3 = 75\t26 x 3 = 78\t27 x 3 = 81\t28 x 3 = 84\t29 x 3 = 87\t30 x 3 = 90\t31 x 3 = 93\t32 x 3 = 96\t33 x 3 = 99\t34 x 3 = 102\t35 x 3 = 105\t36 x 3 = 108\t37 x 3 = 111\t38 x 3 = 114\t39 x 3 = 117\t40 x 3 = 120\t41 x 3 = 123\t42 x 3 = 126\t43 x 3 = 129\t44 x 3 = 132\t45 x 3 = 135\t46 x 3 = 138\t47 x 3 = 141\t48 x 3 = 144\t49 x 3 = 147\t50 x 3 = 150\t51 x 3 = 153\t52 x 3 = 156\t53 x 3 = 159\t54 x 3 = 162\t55 x 3 = 165\t56 x 3 = 168\t57 x 3 = 171\t58 x 3 = 174\t59 x 3 = 177\t60 x 3 = 180\t61 x 3 = 183\t62 x 3 = 186\t63 x 3 = 189\t64 x 3 = 192\t65 x 3 = 195\t66 x 3 = 198\t67 x 3 = 201\t68 x 3 = 204\t69 x 3 = 207\t70 x 3 = 210\t71 x 3 = 213\t72 x 3 = 216\t73 x 3 = 219\t74 x 3 = 222\t75 x 3 = 225\t76 x 3 = 228\t77 x 3 = 231\t78 x 3 = 234\t79 x 3 = 237\t80 x 3 = 240\t81 x 3 = 243\t82 x 3 = 246\t83 x 3 = 249\t84 x 3 = 252\t85 x 3 = 255\t86 x 3 = 258\t87 x 3 = 261\t88 x 3 = 264\t89 x 3 = 267\t90 x 3 = 270\t91 x 3 = 273\t92 x 3 = 276\t93 x 3 = 279\t94 x 3 = 282\t95 x 3 = 285\t96 x 3 = 288\t97 x 3 = 291\t98 x 3 = 294\t99 x 3 = 297\t100 x 3 = 300\t101 x 3 = 303\t102 x 3 = 306\t103 x 3 = 309\t104 x 3 = 312\t105 x 3 = 315\t106 x 3 = 318\t107 x 3 = 321\t108 x 3 = 324\t109 x 3 = 327\t110 x 3 = 330\t111 x 3 = 333\t112 x 3 = 336\t113 x 3 = 339\t114 x 3 = 342\t115 x 3 = 345\t116 x 3 = 348\t117 x 3 = 351\t118 x 3 = 354\t119 x 3 = 357\t120 x 3 = 360\t\n",
      "1 x 4 = 4\t2 x 4 = 8\t3 x 4 = 12\t4 x 4 = 16\t5 x 4 = 20\t6 x 4 = 24\t7 x 4 = 28\t8 x 4 = 32\t9 x 4 = 36\t10 x 4 = 40\t11 x 4 = 44\t12 x 4 = 48\t13 x 4 = 52\t14 x 4 = 56\t15 x 4 = 60\t16 x 4 = 64\t17 x 4 = 68\t18 x 4 = 72\t19 x 4 = 76\t20 x 4 = 80\t21 x 4 = 84\t22 x 4 = 88\t23 x 4 = 92\t24 x 4 = 96\t25 x 4 = 100\t26 x 4 = 104\t27 x 4 = 108\t28 x 4 = 112\t29 x 4 = 116\t30 x 4 = 120\t31 x 4 = 124\t32 x 4 = 128\t33 x 4 = 132\t34 x 4 = 136\t35 x 4 = 140\t36 x 4 = 144\t37 x 4 = 148\t38 x 4 = 152\t39 x 4 = 156\t40 x 4 = 160\t41 x 4 = 164\t42 x 4 = 168\t43 x 4 = 172\t44 x 4 = 176\t45 x 4 = 180\t46 x 4 = 184\t47 x 4 = 188\t48 x 4 = 192\t49 x 4 = 196\t50 x 4 = 200\t51 x 4 = 204\t52 x 4 = 208\t53 x 4 = 212\t54 x 4 = 216\t55 x 4 = 220\t56 x 4 = 224\t57 x 4 = 228\t58 x 4 = 232\t59 x 4 = 236\t60 x 4 = 240\t61 x 4 = 244\t62 x 4 = 248\t63 x 4 = 252\t64 x 4 = 256\t65 x 4 = 260\t66 x 4 = 264\t67 x 4 = 268\t68 x 4 = 272\t69 x 4 = 276\t70 x 4 = 280\t71 x 4 = 284\t72 x 4 = 288\t73 x 4 = 292\t74 x 4 = 296\t75 x 4 = 300\t76 x 4 = 304\t77 x 4 = 308\t78 x 4 = 312\t79 x 4 = 316\t80 x 4 = 320\t81 x 4 = 324\t82 x 4 = 328\t83 x 4 = 332\t84 x 4 = 336\t85 x 4 = 340\t86 x 4 = 344\t87 x 4 = 348\t88 x 4 = 352\t89 x 4 = 356\t90 x 4 = 360\t91 x 4 = 364\t92 x 4 = 368\t93 x 4 = 372\t94 x 4 = 376\t95 x 4 = 380\t96 x 4 = 384\t97 x 4 = 388\t98 x 4 = 392\t99 x 4 = 396\t100 x 4 = 400\t101 x 4 = 404\t102 x 4 = 408\t103 x 4 = 412\t104 x 4 = 416\t105 x 4 = 420\t106 x 4 = 424\t107 x 4 = 428\t108 x 4 = 432\t109 x 4 = 436\t110 x 4 = 440\t111 x 4 = 444\t112 x 4 = 448\t113 x 4 = 452\t114 x 4 = 456\t115 x 4 = 460\t116 x 4 = 464\t117 x 4 = 468\t118 x 4 = 472\t119 x 4 = 476\t120 x 4 = 480\t\n",
      "1 x 5 = 5\t2 x 5 = 10\t3 x 5 = 15\t4 x 5 = 20\t5 x 5 = 25\t6 x 5 = 30\t7 x 5 = 35\t8 x 5 = 40\t9 x 5 = 45\t10 x 5 = 50\t11 x 5 = 55\t12 x 5 = 60\t13 x 5 = 65\t14 x 5 = 70\t15 x 5 = 75\t16 x 5 = 80\t17 x 5 = 85\t18 x 5 = 90\t19 x 5 = 95\t20 x 5 = 100\t21 x 5 = 105\t22 x 5 = 110\t23 x 5 = 115\t24 x 5 = 120\t25 x 5 = 125\t26 x 5 = 130\t27 x 5 = 135\t28 x 5 = 140\t29 x 5 = 145\t30 x 5 = 150\t31 x 5 = 155\t32 x 5 = 160\t33 x 5 = 165\t34 x 5 = 170\t35 x 5 = 175\t36 x 5 = 180\t37 x 5 = 185\t38 x 5 = 190\t39 x 5 = 195\t40 x 5 = 200\t41 x 5 = 205\t42 x 5 = 210\t43 x 5 = 215\t44 x 5 = 220\t45 x 5 = 225\t46 x 5 = 230\t47 x 5 = 235\t48 x 5 = 240\t49 x 5 = 245\t50 x 5 = 250\t51 x 5 = 255\t52 x 5 = 260\t53 x 5 = 265\t54 x 5 = 270\t55 x 5 = 275\t56 x 5 = 280\t57 x 5 = 285\t58 x 5 = 290\t59 x 5 = 295\t60 x 5 = 300\t61 x 5 = 305\t62 x 5 = 310\t63 x 5 = 315\t64 x 5 = 320\t65 x 5 = 325\t66 x 5 = 330\t67 x 5 = 335\t68 x 5 = 340\t69 x 5 = 345\t70 x 5 = 350\t71 x 5 = 355\t72 x 5 = 360\t73 x 5 = 365\t74 x 5 = 370\t75 x 5 = 375\t76 x 5 = 380\t77 x 5 = 385\t78 x 5 = 390\t79 x 5 = 395\t80 x 5 = 400\t81 x 5 = 405\t82 x 5 = 410\t83 x 5 = 415\t84 x 5 = 420\t85 x 5 = 425\t86 x 5 = 430\t87 x 5 = 435\t88 x 5 = 440\t89 x 5 = 445\t90 x 5 = 450\t91 x 5 = 455\t92 x 5 = 460\t93 x 5 = 465\t94 x 5 = 470\t95 x 5 = 475\t96 x 5 = 480\t97 x 5 = 485\t98 x 5 = 490\t99 x 5 = 495\t100 x 5 = 500\t101 x 5 = 505\t102 x 5 = 510\t103 x 5 = 515\t104 x 5 = 520\t105 x 5 = 525\t106 x 5 = 530\t107 x 5 = 535\t108 x 5 = 540\t109 x 5 = 545\t110 x 5 = 550\t111 x 5 = 555\t112 x 5 = 560\t113 x 5 = 565\t114 x 5 = 570\t115 x 5 = 575\t116 x 5 = 580\t117 x 5 = 585\t118 x 5 = 590\t119 x 5 = 595\t120 x 5 = 600\t\n",
      "1 x 6 = 6\t2 x 6 = 12\t3 x 6 = 18\t4 x 6 = 24\t5 x 6 = 30\t6 x 6 = 36\t7 x 6 = 42\t8 x 6 = 48\t9 x 6 = 54\t10 x 6 = 60\t11 x 6 = 66\t12 x 6 = 72\t13 x 6 = 78\t14 x 6 = 84\t15 x 6 = 90\t16 x 6 = 96\t17 x 6 = 102\t18 x 6 = 108\t19 x 6 = 114\t20 x 6 = 120\t21 x 6 = 126\t22 x 6 = 132\t23 x 6 = 138\t24 x 6 = 144\t25 x 6 = 150\t26 x 6 = 156\t27 x 6 = 162\t28 x 6 = 168\t29 x 6 = 174\t30 x 6 = 180\t31 x 6 = 186\t32 x 6 = 192\t33 x 6 = 198\t34 x 6 = 204\t35 x 6 = 210\t36 x 6 = 216\t37 x 6 = 222\t38 x 6 = 228\t39 x 6 = 234\t40 x 6 = 240\t41 x 6 = 246\t42 x 6 = 252\t43 x 6 = 258\t44 x 6 = 264\t45 x 6 = 270\t46 x 6 = 276\t47 x 6 = 282\t48 x 6 = 288\t49 x 6 = 294\t50 x 6 = 300\t51 x 6 = 306\t52 x 6 = 312\t53 x 6 = 318\t54 x 6 = 324\t55 x 6 = 330\t56 x 6 = 336\t57 x 6 = 342\t58 x 6 = 348\t59 x 6 = 354\t60 x 6 = 360\t61 x 6 = 366\t62 x 6 = 372\t63 x 6 = 378\t64 x 6 = 384\t65 x 6 = 390\t66 x 6 = 396\t67 x 6 = 402\t68 x 6 = 408\t69 x 6 = 414\t70 x 6 = 420\t71 x 6 = 426\t72 x 6 = 432\t73 x 6 = 438\t74 x 6 = 444\t75 x 6 = 450\t76 x 6 = 456\t77 x 6 = 462\t78 x 6 = 468\t79 x 6 = 474\t80 x 6 = 480\t81 x 6 = 486\t82 x 6 = 492\t83 x 6 = 498\t84 x 6 = 504\t85 x 6 = 510\t86 x 6 = 516\t87 x 6 = 522\t88 x 6 = 528\t89 x 6 = 534\t90 x 6 = 540\t91 x 6 = 546\t92 x 6 = 552\t93 x 6 = 558\t94 x 6 = 564\t95 x 6 = 570\t96 x 6 = 576\t97 x 6 = 582\t98 x 6 = 588\t99 x 6 = 594\t100 x 6 = 600\t101 x 6 = 606\t102 x 6 = 612\t103 x 6 = 618\t104 x 6 = 624\t105 x 6 = 630\t106 x 6 = 636\t107 x 6 = 642\t108 x 6 = 648\t109 x 6 = 654\t110 x 6 = 660\t111 x 6 = 666\t112 x 6 = 672\t113 x 6 = 678\t114 x 6 = 684\t115 x 6 = 690\t116 x 6 = 696\t117 x 6 = 702\t118 x 6 = 708\t119 x 6 = 714\t120 x 6 = 720\t\n",
      "1 x 7 = 7\t2 x 7 = 14\t3 x 7 = 21\t4 x 7 = 28\t5 x 7 = 35\t6 x 7 = 42\t7 x 7 = 49\t8 x 7 = 56\t9 x 7 = 63\t10 x 7 = 70\t11 x 7 = 77\t12 x 7 = 84\t13 x 7 = 91\t14 x 7 = 98\t15 x 7 = 105\t16 x 7 = 112\t17 x 7 = 119\t18 x 7 = 126\t19 x 7 = 133\t20 x 7 = 140\t21 x 7 = 147\t22 x 7 = 154\t23 x 7 = 161\t24 x 7 = 168\t25 x 7 = 175\t26 x 7 = 182\t27 x 7 = 189\t28 x 7 = 196\t29 x 7 = 203\t30 x 7 = 210\t31 x 7 = 217\t32 x 7 = 224\t33 x 7 = 231\t34 x 7 = 238\t35 x 7 = 245\t36 x 7 = 252\t37 x 7 = 259\t38 x 7 = 266\t39 x 7 = 273\t40 x 7 = 280\t41 x 7 = 287\t42 x 7 = 294\t43 x 7 = 301\t44 x 7 = 308\t45 x 7 = 315\t46 x 7 = 322\t47 x 7 = 329\t48 x 7 = 336\t49 x 7 = 343\t50 x 7 = 350\t51 x 7 = 357\t52 x 7 = 364\t53 x 7 = 371\t54 x 7 = 378\t55 x 7 = 385\t56 x 7 = 392\t57 x 7 = 399\t58 x 7 = 406\t59 x 7 = 413\t60 x 7 = 420\t61 x 7 = 427\t62 x 7 = 434\t63 x 7 = 441\t64 x 7 = 448\t65 x 7 = 455\t66 x 7 = 462\t67 x 7 = 469\t68 x 7 = 476\t69 x 7 = 483\t70 x 7 = 490\t71 x 7 = 497\t72 x 7 = 504\t73 x 7 = 511\t74 x 7 = 518\t75 x 7 = 525\t76 x 7 = 532\t77 x 7 = 539\t78 x 7 = 546\t79 x 7 = 553\t80 x 7 = 560\t81 x 7 = 567\t82 x 7 = 574\t83 x 7 = 581\t84 x 7 = 588\t85 x 7 = 595\t86 x 7 = 602\t87 x 7 = 609\t88 x 7 = 616\t89 x 7 = 623\t90 x 7 = 630\t91 x 7 = 637\t92 x 7 = 644\t93 x 7 = 651\t94 x 7 = 658\t95 x 7 = 665\t96 x 7 = 672\t97 x 7 = 679\t98 x 7 = 686\t99 x 7 = 693\t100 x 7 = 700\t101 x 7 = 707\t102 x 7 = 714\t103 x 7 = 721\t104 x 7 = 728\t105 x 7 = 735\t106 x 7 = 742\t107 x 7 = 749\t108 x 7 = 756\t109 x 7 = 763\t110 x 7 = 770\t111 x 7 = 777\t112 x 7 = 784\t113 x 7 = 791\t114 x 7 = 798\t115 x 7 = 805\t116 x 7 = 812\t117 x 7 = 819\t118 x 7 = 826\t119 x 7 = 833\t120 x 7 = 840\t\n",
      "1 x 8 = 8\t2 x 8 = 16\t3 x 8 = 24\t4 x 8 = 32\t5 x 8 = 40\t6 x 8 = 48\t7 x 8 = 56\t8 x 8 = 64\t9 x 8 = 72\t10 x 8 = 80\t11 x 8 = 88\t12 x 8 = 96\t13 x 8 = 104\t14 x 8 = 112\t15 x 8 = 120\t16 x 8 = 128\t17 x 8 = 136\t18 x 8 = 144\t19 x 8 = 152\t20 x 8 = 160\t21 x 8 = 168\t22 x 8 = 176\t23 x 8 = 184\t24 x 8 = 192\t25 x 8 = 200\t26 x 8 = 208\t27 x 8 = 216\t28 x 8 = 224\t29 x 8 = 232\t30 x 8 = 240\t31 x 8 = 248\t32 x 8 = 256\t33 x 8 = 264\t34 x 8 = 272\t35 x 8 = 280\t36 x 8 = 288\t37 x 8 = 296\t38 x 8 = 304\t39 x 8 = 312\t40 x 8 = 320\t41 x 8 = 328\t42 x 8 = 336\t43 x 8 = 344\t44 x 8 = 352\t45 x 8 = 360\t46 x 8 = 368\t47 x 8 = 376\t48 x 8 = 384\t49 x 8 = 392\t50 x 8 = 400\t51 x 8 = 408\t52 x 8 = 416\t53 x 8 = 424\t54 x 8 = 432\t55 x 8 = 440\t56 x 8 = 448\t57 x 8 = 456\t58 x 8 = 464\t59 x 8 = 472\t60 x 8 = 480\t61 x 8 = 488\t62 x 8 = 496\t63 x 8 = 504\t64 x 8 = 512\t65 x 8 = 520\t66 x 8 = 528\t67 x 8 = 536\t68 x 8 = 544\t69 x 8 = 552\t70 x 8 = 560\t71 x 8 = 568\t72 x 8 = 576\t73 x 8 = 584\t74 x 8 = 592\t75 x 8 = 600\t76 x 8 = 608\t77 x 8 = 616\t78 x 8 = 624\t79 x 8 = 632\t80 x 8 = 640\t81 x 8 = 648\t82 x 8 = 656\t83 x 8 = 664\t84 x 8 = 672\t85 x 8 = 680\t86 x 8 = 688\t87 x 8 = 696\t88 x 8 = 704\t89 x 8 = 712\t90 x 8 = 720\t91 x 8 = 728\t92 x 8 = 736\t93 x 8 = 744\t94 x 8 = 752\t95 x 8 = 760\t96 x 8 = 768\t97 x 8 = 776\t98 x 8 = 784\t99 x 8 = 792\t100 x 8 = 800\t101 x 8 = 808\t102 x 8 = 816\t103 x 8 = 824\t104 x 8 = 832\t105 x 8 = 840\t106 x 8 = 848\t107 x 8 = 856\t108 x 8 = 864\t109 x 8 = 872\t110 x 8 = 880\t111 x 8 = 888\t112 x 8 = 896\t113 x 8 = 904\t114 x 8 = 912\t115 x 8 = 920\t116 x 8 = 928\t117 x 8 = 936\t118 x 8 = 944\t119 x 8 = 952\t120 x 8 = 960\t\n",
      "1 x 9 = 9\t2 x 9 = 18\t3 x 9 = 27\t4 x 9 = 36\t5 x 9 = 45\t6 x 9 = 54\t7 x 9 = 63\t8 x 9 = 72\t9 x 9 = 81\t10 x 9 = 90\t11 x 9 = 99\t12 x 9 = 108\t13 x 9 = 117\t14 x 9 = 126\t15 x 9 = 135\t16 x 9 = 144\t17 x 9 = 153\t18 x 9 = 162\t19 x 9 = 171\t20 x 9 = 180\t21 x 9 = 189\t22 x 9 = 198\t23 x 9 = 207\t24 x 9 = 216\t25 x 9 = 225\t26 x 9 = 234\t27 x 9 = 243\t28 x 9 = 252\t29 x 9 = 261\t30 x 9 = 270\t31 x 9 = 279\t32 x 9 = 288\t33 x 9 = 297\t34 x 9 = 306\t35 x 9 = 315\t36 x 9 = 324\t37 x 9 = 333\t38 x 9 = 342\t39 x 9 = 351\t40 x 9 = 360\t41 x 9 = 369\t42 x 9 = 378\t43 x 9 = 387\t44 x 9 = 396\t45 x 9 = 405\t46 x 9 = 414\t47 x 9 = 423\t48 x 9 = 432\t49 x 9 = 441\t50 x 9 = 450\t51 x 9 = 459\t52 x 9 = 468\t53 x 9 = 477\t54 x 9 = 486\t55 x 9 = 495\t56 x 9 = 504\t57 x 9 = 513\t58 x 9 = 522\t59 x 9 = 531\t60 x 9 = 540\t61 x 9 = 549\t62 x 9 = 558\t63 x 9 = 567\t64 x 9 = 576\t65 x 9 = 585\t66 x 9 = 594\t67 x 9 = 603\t68 x 9 = 612\t69 x 9 = 621\t70 x 9 = 630\t71 x 9 = 639\t72 x 9 = 648\t73 x 9 = 657\t74 x 9 = 666\t75 x 9 = 675\t76 x 9 = 684\t77 x 9 = 693\t78 x 9 = 702\t79 x 9 = 711\t80 x 9 = 720\t81 x 9 = 729\t82 x 9 = 738\t83 x 9 = 747\t84 x 9 = 756\t85 x 9 = 765\t86 x 9 = 774\t87 x 9 = 783\t88 x 9 = 792\t89 x 9 = 801\t90 x 9 = 810\t91 x 9 = 819\t92 x 9 = 828\t93 x 9 = 837\t94 x 9 = 846\t95 x 9 = 855\t96 x 9 = 864\t97 x 9 = 873\t98 x 9 = 882\t99 x 9 = 891\t100 x 9 = 900\t101 x 9 = 909\t102 x 9 = 918\t103 x 9 = 927\t104 x 9 = 936\t105 x 9 = 945\t106 x 9 = 954\t107 x 9 = 963\t108 x 9 = 972\t109 x 9 = 981\t110 x 9 = 990\t111 x 9 = 999\t112 x 9 = 1008\t113 x 9 = 1017\t114 x 9 = 1026\t115 x 9 = 1035\t116 x 9 = 1044\t117 x 9 = 1053\t118 x 9 = 1062\t119 x 9 = 1071\t120 x 9 = 1080\t\n",
      "1 x 10 = 10\t2 x 10 = 20\t3 x 10 = 30\t4 x 10 = 40\t5 x 10 = 50\t6 x 10 = 60\t7 x 10 = 70\t8 x 10 = 80\t9 x 10 = 90\t10 x 10 = 100\t11 x 10 = 110\t12 x 10 = 120\t13 x 10 = 130\t14 x 10 = 140\t15 x 10 = 150\t16 x 10 = 160\t17 x 10 = 170\t18 x 10 = 180\t19 x 10 = 190\t20 x 10 = 200\t21 x 10 = 210\t22 x 10 = 220\t23 x 10 = 230\t24 x 10 = 240\t25 x 10 = 250\t26 x 10 = 260\t27 x 10 = 270\t28 x 10 = 280\t29 x 10 = 290\t30 x 10 = 300\t31 x 10 = 310\t32 x 10 = 320\t33 x 10 = 330\t34 x 10 = 340\t35 x 10 = 350\t36 x 10 = 360\t37 x 10 = 370\t38 x 10 = 380\t39 x 10 = 390\t40 x 10 = 400\t41 x 10 = 410\t42 x 10 = 420\t43 x 10 = 430\t44 x 10 = 440\t45 x 10 = 450\t46 x 10 = 460\t47 x 10 = 470\t48 x 10 = 480\t49 x 10 = 490\t50 x 10 = 500\t51 x 10 = 510\t52 x 10 = 520\t53 x 10 = 530\t54 x 10 = 540\t55 x 10 = 550\t56 x 10 = 560\t57 x 10 = 570\t58 x 10 = 580\t59 x 10 = 590\t60 x 10 = 600\t61 x 10 = 610\t62 x 10 = 620\t63 x 10 = 630\t64 x 10 = 640\t65 x 10 = 650\t66 x 10 = 660\t67 x 10 = 670\t68 x 10 = 680\t69 x 10 = 690\t70 x 10 = 700\t71 x 10 = 710\t72 x 10 = 720\t73 x 10 = 730\t74 x 10 = 740\t75 x 10 = 750\t76 x 10 = 760\t77 x 10 = 770\t78 x 10 = 780\t79 x 10 = 790\t80 x 10 = 800\t81 x 10 = 810\t82 x 10 = 820\t83 x 10 = 830\t84 x 10 = 840\t85 x 10 = 850\t86 x 10 = 860\t87 x 10 = 870\t88 x 10 = 880\t89 x 10 = 890\t90 x 10 = 900\t91 x 10 = 910\t92 x 10 = 920\t93 x 10 = 930\t94 x 10 = 940\t95 x 10 = 950\t96 x 10 = 960\t97 x 10 = 970\t98 x 10 = 980\t99 x 10 = 990\t100 x 10 = 1000\t101 x 10 = 1010\t102 x 10 = 1020\t103 x 10 = 1030\t104 x 10 = 1040\t105 x 10 = 1050\t106 x 10 = 1060\t107 x 10 = 1070\t108 x 10 = 1080\t109 x 10 = 1090\t110 x 10 = 1100\t111 x 10 = 1110\t112 x 10 = 1120\t113 x 10 = 1130\t114 x 10 = 1140\t115 x 10 = 1150\t116 x 10 = 1160\t117 x 10 = 1170\t118 x 10 = 1180\t119 x 10 = 1190\t120 x 10 = 1200\t\n"
     ]
    }
   ],
   "source": [
    "n = int(input(\"Enter the value of n: \"))\n",
    "\n",
    "for i in range(1, 11):\n",
    "    for j in range(1, n + 1):\n",
    "        print(f\"{j} x {i} = {i * j}\\t\", end=\"\")\n",
    "    print()\n"
   ]
  }
 ],
 "metadata": {
  "kernelspec": {
   "display_name": "Python 3 (ipykernel)",
   "language": "python",
   "name": "python3"
  },
  "language_info": {
   "codemirror_mode": {
    "name": "ipython",
    "version": 3
   },
   "file_extension": ".py",
   "mimetype": "text/x-python",
   "name": "python",
   "nbconvert_exporter": "python",
   "pygments_lexer": "ipython3",
   "version": "3.11.5"
  }
 },
 "nbformat": 4,
 "nbformat_minor": 4
}
