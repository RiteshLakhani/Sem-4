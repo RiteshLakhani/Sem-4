{
 "cells": [
  {
   "cell_type": "markdown",
   "metadata": {},
   "source": [
    "<a href='https://www.darshan.ac.in/'> <img src='https://www.darshan.ac.in/Content/media/DU_Logo.svg' width=\"250\" height=\"300\"/></a>\n",
    "<pre>\n",
    "<center><b><h1>Python Programming - 2101CS405</b></center>\n",
    "<center><b><h1>Lab - 7</b></center> \n",
    "<center><b><h1>Name - Ritesh Lakhani</b></center>  \n",
    "<center><b><h1>EnrollmentNo  - 22010101099</b></center>  \n",
    "<center><b><h1>Date - 01/02/2024 </b></center>     \n",
    "<pre>"
   ]
  },
  {
   "cell_type": "markdown",
   "metadata": {},
   "source": [
    "# Functions"
   ]
  },
  {
   "cell_type": "markdown",
   "metadata": {},
   "source": [
    "### 01) WAP to count simple interest using function."
   ]
  },
  {
   "cell_type": "code",
   "execution_count": 1,
   "metadata": {},
   "outputs": [
    {
     "name": "stdout",
     "output_type": "stream",
     "text": [
      "Simple Interest:10.0\n"
     ]
    }
   ],
   "source": [
    "def simpleInterest(p,r,n):\n",
    "    print(f\"Simple Interest:{(p*r*n)/100}\")\n",
    "\n",
    "p = int(input(\"Enter Prinicipal:-\"));\n",
    "r = int(input(\"Enter Rate of Interest:- \"));\n",
    "n = int(input(\"Enter Number of Years:- \"));\n",
    "\n",
    "simpleInterest(p,r,n);"
   ]
  },
  {
   "cell_type": "markdown",
   "metadata": {},
   "source": [
    "### 02) WAP that defines a function to add first n numbers."
   ]
  },
  {
   "cell_type": "code",
   "execution_count": 4,
   "metadata": {},
   "outputs": [
    {
     "name": "stdout",
     "output_type": "stream",
     "text": [
      "The sum of first 5 numbers is: 15\n"
     ]
    }
   ],
   "source": [
    "def addNumber(n):\n",
    "    total = 0\n",
    "    for i in range(1,n+1):\n",
    "        total = total + i\n",
    "    return total\n",
    "\n",
    "n = int(input(\"Enter Number:\"));\n",
    "result = addNumber(n);\n",
    "print(f\"The sum of first {n} numbers is: {result}\");"
   ]
  },
  {
   "cell_type": "markdown",
   "metadata": {},
   "source": [
    "### 03) WAP to find maximum number from given two numbers using function."
   ]
  },
  {
   "cell_type": "code",
   "execution_count": 9,
   "metadata": {},
   "outputs": [
    {
     "name": "stdout",
     "output_type": "stream",
     "text": [
      "A:10\n",
      "B:20\n",
      "Number B:- 20 is maximum\n"
     ]
    }
   ],
   "source": [
    "def maxNumber(a,b):\n",
    "    print(f\"Number A:- {a} is maximum\") if a > b else print(f\"Number B:- {b} is maximum\")\n",
    "\n",
    "a = int(input(\"Enter Number A:\"));\n",
    "print(f\"A:{a}\")\n",
    "b = int(input(\"Enter Number B:\"));\n",
    "print(f\"B:{b}\")\n",
    "\n",
    "maxNumber(a,b);"
   ]
  },
  {
   "cell_type": "markdown",
   "metadata": {},
   "source": [
    "### 04) WAP that defines a function which returns 1 if the number is prime otherwise return 0."
   ]
  },
  {
   "cell_type": "code",
   "execution_count": 14,
   "metadata": {},
   "outputs": [
    {
     "name": "stdout",
     "output_type": "stream",
     "text": [
      "The result for 7 is: 1\n",
      "7 is prime Number\n"
     ]
    }
   ],
   "source": [
    "def checkPrime(n):\n",
    "    if n <=1:\n",
    "        return 0\n",
    "    for i in range(2, int(n**0.5)+1):\n",
    "        if n % i == 0:\n",
    "            return 0\n",
    "    return 1\n",
    "    \n",
    "n = int(input(\"Enter Number for checking is Prime or not:\"))\n",
    "result = checkPrime(n)\n",
    "\n",
    "print(f\"The result for {n} is: {result}\")\n",
    "\n",
    "if result:\n",
    "    print(f\"{n} is prime Number\")\n",
    "else:\n",
    "    print(f\"{n} is not prime Number\")\n"
   ]
  },
  {
   "cell_type": "markdown",
   "metadata": {},
   "source": [
    "### 05) Write a function called primes that takes an integer value as an argument and returns a list of all prime numbers up to that number."
   ]
  },
  {
   "cell_type": "code",
   "execution_count": 15,
   "metadata": {},
   "outputs": [
    {
     "name": "stdout",
     "output_type": "stream",
     "text": [
      "Prime numbers up to 13: [2, 3, 5, 7, 11, 13]\n"
     ]
    }
   ],
   "source": [
    "def primes(limit):\n",
    "    prime_numbers = []\n",
    "    \n",
    "    for num in range(2, limit + 1):\n",
    "        is_prime = True\n",
    "        for i in range(2, int(num**0.5) + 1):\n",
    "            if num % i == 0:\n",
    "                is_prime = False\n",
    "                break\n",
    "        if is_prime:\n",
    "            prime_numbers.append(num)\n",
    "    \n",
    "    return prime_numbers\n",
    "\n",
    "limit = int(input(\"Enter the limit: \"))\n",
    "result = primes(limit)\n",
    "print(f\"Prime numbers up to {limit}: {result}\")\n"
   ]
  },
  {
   "cell_type": "markdown",
   "metadata": {},
   "source": [
    "### 06) WAP to generate Fibonacci series of N given number using function name fibbo. (e.g. 0 1 1 2 3 5 8...)"
   ]
  },
  {
   "cell_type": "code",
   "execution_count": 34,
   "metadata": {},
   "outputs": [
    {
     "name": "stdout",
     "output_type": "stream",
     "text": [
      "Fibonacci series up to 89 :\n",
      "0 1 1 2 3 5 8 13 21 34 55 89 "
     ]
    }
   ],
   "source": [
    "def fibbo(N):\n",
    "    a, b = 0, 1\n",
    "\n",
    "    while a <= N:\n",
    "        print(a, end=\" \")\n",
    "        a, b = b, a + b\n",
    "        \n",
    "N = int(input(\"Enter the value of N: \"))\n",
    "print(f\"Fibonacci series up to {N} :\")\n",
    "fibbo(N)\n"
   ]
  },
  {
   "cell_type": "markdown",
   "metadata": {},
   "source": [
    "### 07) WAP to find the factorial of a given number using recursion."
   ]
  },
  {
   "cell_type": "code",
   "execution_count": 35,
   "metadata": {},
   "outputs": [
    {
     "name": "stdout",
     "output_type": "stream",
     "text": [
      "Factorial of number 5 = 120\n"
     ]
    }
   ],
   "source": [
    "def recussive_factorial(n):\n",
    "    if n==1:\n",
    "        return 1\n",
    "    else:\n",
    "        return n * recussive_factorial(n-1)\n",
    "    \n",
    "num = int(input(\"Enter the Number: \"))\n",
    "print(\"Factorial of number\",num,\"=\",recussive_factorial(num))"
   ]
  },
  {
   "cell_type": "markdown",
   "metadata": {},
   "source": [
    "### 08) WAP to implement simple calculator using lamda function."
   ]
  },
  {
   "cell_type": "code",
   "execution_count": 38,
   "metadata": {},
   "outputs": [
    {
     "name": "stdout",
     "output_type": "stream",
     "text": [
      "Result of sub operation: 30.0\n"
     ]
    }
   ],
   "source": [
    "add = lambda x, y: x + y\n",
    "sub = lambda x, y: x - y\n",
    "mul = lambda x, y: x * y\n",
    "divide = lambda x, y: x / y if y != 0 else \"Error: Cannot divide by zero\"\n",
    "\n",
    "def simple_calculator(operation, x, y):\n",
    "    if operation == 'add':\n",
    "        return add(x, y)\n",
    "    elif operation == 'sub':\n",
    "        return sub(x, y)\n",
    "    elif operation == 'mul':\n",
    "        return mul(x, y)\n",
    "    elif operation == 'divide':\n",
    "        return divide(x, y)\n",
    "    else:\n",
    "        return \"Error: Invalid operation\"\n",
    "\n",
    "operation = input(\"Enter operation (add, sub, mul, divide): \")\n",
    "num1 = float(input(\"Enter first number: \"))\n",
    "num2 = float(input(\"Enter second number: \"))\n",
    "\n",
    "result = simple_calculator(operation, num1, num2)\n",
    "print(f\"Result of {operation} operation: {result}\")\n"
   ]
  },
  {
   "cell_type": "markdown",
   "metadata": {},
   "source": [
    "### 09)Write a Python program that accepts a hyphen-separated sequence of words as input and prints the words in a hyphen-separated sequence after sorting them alphabetically\n",
    "Sample Items : green-red-yellow-black-white <br>\n",
    "Expected Result : black-green-red-white-yellow"
   ]
  },
  {
   "cell_type": "code",
   "execution_count": 39,
   "metadata": {},
   "outputs": [
    {
     "name": "stdout",
     "output_type": "stream",
     "text": [
      "Sorted hyphen-separated sequence: black-green-red-white-yellow\n"
     ]
    }
   ],
   "source": [
    "input_sequence = input(\"Enter hyphen-separated sequence of words: \")\n",
    "\n",
    "words = input_sequence.split('-')\n",
    "\n",
    "sorted_words = sorted(words)\n",
    "\n",
    "sorted_sequence = '-'.join(sorted_words)\n",
    "\n",
    "print(\"Sorted hyphen-separated sequence:\", sorted_sequence)\n"
   ]
  },
  {
   "cell_type": "markdown",
   "metadata": {},
   "source": [
    "### 10) Write a python program to implement all function arguments type\n",
    "Positional arguments <Br>\n",
    "Default argument <Br>\n",
    "Keyword arguments (named arguments) <Br>\n",
    "Arbitrary arguments (variable-length arguments args and kwargs)"
   ]
  },
  {
   "cell_type": "code",
   "execution_count": 42,
   "metadata": {},
   "outputs": [
    {
     "name": "stdout",
     "output_type": "stream",
     "text": [
      "Sum by Positional arguments =  2\n",
      "Sum by Positional arguments =  40\n",
      "Sum by defalut arguments =  5\n",
      "Sum by defalut arguments =  13\n"
     ]
    }
   ],
   "source": [
    "#positional arguments:\n",
    "def add_number(n1,*n):\n",
    "    sum = n1\n",
    "    for i in n:\n",
    "        sum = sum + i\n",
    "    print(\"Sum by Positional arguments = \", sum)\n",
    "add_number(2)\n",
    "add_number(10,10,10,10)\n",
    "\n",
    "#Defaults arguments:\n",
    "def add_number(n1,n2=10):\n",
    "    print(\"Sum by defalut arguments = \",n1+n2)\n",
    "\n",
    "add_number(2,3)\n",
    "add_number(3)"
   ]
  },
  {
   "cell_type": "code",
   "execution_count": 49,
   "metadata": {},
   "outputs": [
    {
     "name": "stdout",
     "output_type": "stream",
     "text": [
      "Subtraction with keyword arguments =  10\n",
      "Subtraction with keyword arguments =  -10\n",
      "Sum with variable-length: 15\n",
      "Sum with variable-length: 210\n",
      "Sum with arbitrary keywords= 7\n",
      "('a', 4)\n",
      "('b', 3)\n",
      "('c', 4)\n",
      "{'a': 4, 'b': 3, 'c': 4}\n"
     ]
    }
   ],
   "source": [
    "#keyword arguments:\n",
    "def sub_number(n1,n2):\n",
    "    print(\"Subtraction with keyword arguments = \",n1-n2)\n",
    "\n",
    "sub_number(20,10)\n",
    "sub_number(n2=20,n1=10) #with keyword arguments\n",
    "\n",
    "#Arbitrary arguments with variable-length arguments:\n",
    "def sum_all(*args):\n",
    "    total = 0\n",
    "    for num in args:\n",
    "        total += num\n",
    "    return total\n",
    "\n",
    "result = sum_all(1, 2, 3, 4, 5)\n",
    "print(\"Sum with variable-length:\", result)\n",
    "\n",
    "result = sum_all(10, 20, 30, 40, 50, 60)\n",
    "print(\"Sum with variable-length:\", result)\n",
    "\n",
    "#Arbitrary arguments with Keywords arguments:\n",
    "def add_Number(**a):\n",
    "    sum = 0\n",
    "    sum = a['a'] + a['b']\n",
    "    print(\"Sum with arbitrary keywords=\",sum)\n",
    "    for i in a.items():\n",
    "        print(i)\n",
    "    print(a)\n",
    "\n",
    "add_Number(a=4,b=3,c=4)"
   ]
  },
  {
   "cell_type": "markdown",
   "metadata": {},
   "source": [
    "### 01) WAP to calculate power of a number using recursion."
   ]
  },
  {
   "cell_type": "code",
   "execution_count": 52,
   "metadata": {},
   "outputs": [
    {
     "name": "stdout",
     "output_type": "stream",
     "text": [
      "3.0 the power of 4 is: 81.0\n"
     ]
    }
   ],
   "source": [
    "def power(b,e):\n",
    "    if e == 0:\n",
    "        return 1\n",
    "    else:\n",
    "        return b * power(b,e-1)\n",
    "    \n",
    "b = float(input(\"Enter the base: \"))\n",
    "e = int(input(\"Enter the exponent: \"))\n",
    "\n",
    "result = power(b, e)\n",
    "print(f\"{b} the power of {e} is: {result}\")"
   ]
  },
  {
   "cell_type": "markdown",
   "metadata": {},
   "source": [
    "### 02) WAP to count digits of a number using recursion."
   ]
  },
  {
   "cell_type": "code",
   "execution_count": 54,
   "metadata": {},
   "outputs": [
    {
     "name": "stdout",
     "output_type": "stream",
     "text": [
      "The number of digits in 2022 is: 4\n"
     ]
    }
   ],
   "source": [
    "def count_digits(n):\n",
    "    if n == 0:\n",
    "        return 0\n",
    "    else:\n",
    "        return 1 + count_digits(n // 10)\n",
    "    \n",
    "n = int(input(\"Enter a number: \"))\n",
    "result = count_digits(abs(n))\n",
    "print(f\"The number of digits in {n} is: {result}\")\n"
   ]
  },
  {
   "cell_type": "markdown",
   "metadata": {},
   "source": [
    "### 03) WAP to reverse an integer number using recursion."
   ]
  },
  {
   "cell_type": "code",
   "execution_count": 56,
   "metadata": {},
   "outputs": [
    {
     "name": "stdout",
     "output_type": "stream",
     "text": [
      "The reversed integer of 2024 is: 4202\n"
     ]
    }
   ],
   "source": [
    "def reverse_integer(n):\n",
    "    reversed_num = 0\n",
    "\n",
    "    while n != 0:\n",
    "        digit = n % 10\n",
    "        reversed_num = reversed_num * 10 + digit\n",
    "        n //= 10\n",
    "    return reversed_num\n",
    "\n",
    "num = int(input(\"Enter an integer: \"))\n",
    "result = reverse_integer(num)\n",
    "print(f\"The reversed integer of {num} is: {result}\")\n"
   ]
  },
  {
   "cell_type": "markdown",
   "metadata": {},
   "source": [
    "### 04) WAP to convert decimal number into binary using recursion."
   ]
  },
  {
   "cell_type": "code",
   "execution_count": 58,
   "metadata": {},
   "outputs": [
    {
     "name": "stdout",
     "output_type": "stream",
     "text": [
      "The binary representation of 4 is: 100\n"
     ]
    }
   ],
   "source": [
    "def decimal_to_binary(decimal_num):\n",
    "    if decimal_num == 0:\n",
    "        return 0\n",
    "    else:\n",
    "        return decimal_num % 2 + 10 * decimal_to_binary(decimal_num // 2)\n",
    "    \n",
    "decimal_num = int(input(\"Enter a decimal number: \"))\n",
    "binary_result = decimal_to_binary(decimal_num)\n",
    "print(f\"The binary representation of {decimal_num} is: {binary_result}\")\n"
   ]
  }
 ],
 "metadata": {
  "kernelspec": {
   "display_name": "Python 3 (ipykernel)",
   "language": "python",
   "name": "python3"
  },
  "language_info": {
   "codemirror_mode": {
    "name": "ipython",
    "version": 3
   },
   "file_extension": ".py",
   "mimetype": "text/x-python",
   "name": "python",
   "nbconvert_exporter": "python",
   "pygments_lexer": "ipython3",
   "version": "3.11.5"
  }
 },
 "nbformat": 4,
 "nbformat_minor": 4
}
