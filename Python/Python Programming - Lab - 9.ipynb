{
 "cells": [
  {
   "cell_type": "markdown",
   "metadata": {},
   "source": [
    "<a href='https://www.darshan.ac.in/'> <img src='https://www.darshan.ac.in/Content/media/DU_Logo.svg' width=\"250\" height=\"300\"/></a>\n",
    "<pre>\n",
    "<center><b><h1>Python Programming - 2101CS405</b></center>\n",
    "<center><b><h1>Lab - 9</b></center> \n",
    "<center><b><h1>Name - Ritesh Lakhani</b></center> \n",
    "<center><b><h1>Date - 15-02-2024</b></center> \n",
    "<center><b><h1>Enrollment NO - 22010101099</b></center>    \n",
    "<pre>"
   ]
  },
  {
   "cell_type": "markdown",
   "metadata": {},
   "source": [
    "# Exception Handling"
   ]
  },
  {
   "cell_type": "markdown",
   "metadata": {},
   "source": [
    "# A"
   ]
  },
  {
   "cell_type": "markdown",
   "metadata": {},
   "source": [
    "### 01) WAP to handle divide by zero exception."
   ]
  },
  {
   "cell_type": "code",
   "execution_count": 1,
   "metadata": {},
   "outputs": [
    {
     "name": "stdout",
     "output_type": "stream",
     "text": [
      "Error divide by zero\n"
     ]
    }
   ],
   "source": [
    "money = 1000\n",
    "try:\n",
    "    a = money / 0\n",
    "    print(a)\n",
    "except:\n",
    "    print(\"division by zero\");"
   ]
  },
  {
   "cell_type": "markdown",
   "metadata": {},
   "source": [
    "### 02)  Write a Python program that inputs a number and generates an error message if it is not a number."
   ]
  },
  {
   "cell_type": "code",
   "execution_count": 3,
   "metadata": {},
   "outputs": [
    {
     "name": "stdout",
     "output_type": "stream",
     "text": [
      "Error: Please enter a valid number\n"
     ]
    }
   ],
   "source": [
    "try:\n",
    "    a = float(input(\"Enter a number\"));\n",
    "    print(\"Entered  Number is :\",a)\n",
    "except ValueError:\n",
    "    print(\"Error: Please enter a valid number\")\n",
    "              \n"
   ]
  },
  {
   "cell_type": "markdown",
   "metadata": {},
   "source": [
    "### 03) WAP to handle file not found Exception"
   ]
  },
  {
   "cell_type": "code",
   "execution_count": 5,
   "metadata": {},
   "outputs": [
    {
     "name": "stdout",
     "output_type": "stream",
     "text": [
      "Error: File not found\n"
     ]
    }
   ],
   "source": [
    "try:\n",
    "    file = open(\"def.txt\",\"r\")\n",
    "    f = file.read()\n",
    "    print(f)\n",
    "    file.close()\n",
    "except FileNotFoundError:\n",
    "    print(\"Error: File not found\");"
   ]
  },
  {
   "cell_type": "code",
   "execution_count": 4,
   "metadata": {},
   "outputs": [
    {
     "name": "stdout",
     "output_type": "stream",
     "text": [
      "Ritesh\n",
      "Lakhani\n",
      "Ritesh\n",
      "Harsh\n",
      "Hard\n",
      "Shubham\n",
      "Darshan Univesity\n"
     ]
    }
   ],
   "source": [
    "try:\n",
    "    file = open(\"abc.txt\",\"r\")\n",
    "    f = file.read()\n",
    "    print(f)\n",
    "    file.close()\n",
    "except FileNotFoundError:\n",
    "    print(\"Error: File not found\");"
   ]
  },
  {
   "cell_type": "markdown",
   "metadata": {},
   "source": [
    "### 04) WAP to handle type Exception."
   ]
  },
  {
   "cell_type": "code",
   "execution_count": 7,
   "metadata": {},
   "outputs": [
    {
     "name": "stdout",
     "output_type": "stream",
     "text": [
      "Entered Number is  : 10.0\n"
     ]
    }
   ],
   "source": [
    "try:\n",
    "    a = float(input(\"Enter a number\"));\n",
    "    print(\"Entered Number is  :\",a)\n",
    "except ValueError:\n",
    "    print(\"Error: Please Enter a valid Number.\")\n",
    "except TypeError:\n",
    "    print(\"Error: Type error occurred.\")"
   ]
  },
  {
   "cell_type": "markdown",
   "metadata": {},
   "source": [
    "### 05) WAP to demonstrate valueError and indexError with example."
   ]
  },
  {
   "cell_type": "code",
   "execution_count": 1,
   "metadata": {},
   "outputs": [
    {
     "name": "stdout",
     "output_type": "stream",
     "text": [
      "Error: Please Enter a valid Integer\n"
     ]
    }
   ],
   "source": [
    "#value Error:\n",
    "try: \n",
    "    n = int(input(\"Enter a integer: \"))\n",
    "    print(\"Enterd Number is :\",n)\n",
    "except ValueError:\n",
    "    print(\"Error: Please Enter a valid Integer\")\n",
    "    "
   ]
  },
  {
   "cell_type": "code",
   "execution_count": 4,
   "metadata": {},
   "outputs": [
    {
     "name": "stdout",
     "output_type": "stream",
     "text": [
      "Error: Index out of range.\n"
     ]
    }
   ],
   "source": [
    "#Indexo Error\n",
    "try:\n",
    "    my_list = [1, 2, 3]\n",
    "    index = int(input(\"Enter an index to access in the list [0, 1, 2]: \"))\n",
    "    print(\"Value at index\", index, \":\", my_list[index])\n",
    "except IndexError:\n",
    "    print(\"Error: Index out of range.\")"
   ]
  },
  {
   "cell_type": "markdown",
   "metadata": {},
   "source": [
    "### 06) WAP to domonstrate else  and finally block."
   ]
  },
  {
   "cell_type": "code",
   "execution_count": 2,
   "metadata": {},
   "outputs": [
    {
     "name": "stdout",
     "output_type": "stream",
     "text": [
      "Entered Number: 15\n",
      "This block is always executed, whether an exception occurred or not.\n"
     ]
    }
   ],
   "source": [
    "try:\n",
    "    num = int(input(\"Enter a number: \"))\n",
    "except ValueError:\n",
    "    print(\"Error: Please enter a valid integer.\")\n",
    "else:\n",
    "    print(\"Entered Number:\", num)\n",
    "finally:\n",
    "    print(\"This block is always executed, whether an exception occurred or not.\")\n"
   ]
  },
  {
   "cell_type": "markdown",
   "metadata": {},
   "source": [
    "### 07) Create a short program that prompts the user for a list of grades separated by commas. Split the string into individual grades and use a list comprehension to convert each string to an integer. You should use a try statement to inform the user when the values they entered cannot be converted."
   ]
  },
  {
   "cell_type": "code",
   "execution_count": 1,
   "metadata": {},
   "outputs": [
    {
     "name": "stdout",
     "output_type": "stream",
     "text": [
      "Converted grades: [1, 2, 3, 4]\n"
     ]
    }
   ],
   "source": [
    "def convert_grades(grade_string):\n",
    "    grades = grade_string.split(',')\n",
    "    converted_grades = []\n",
    "\n",
    "\n",
    "    for grade in grades:\n",
    "        try:\n",
    "            converted_grades.append(int(grade))\n",
    "        except ValueError:\n",
    "            print(f\"Unable to convert '{grade.strip()}' to an integer.\")\n",
    "\n",
    "    return converted_grades\n",
    "\n",
    "if __name__ == \"__main__\":\n",
    "    grade_input = input(\"Enter a list of grades separated by commas: \")\n",
    "    grades_list = convert_grades(grade_input)\n",
    "    print(\"Converted grades:\", grades_list)\n"
   ]
  },
  {
   "cell_type": "markdown",
   "metadata": {},
   "source": []
  },
  {
   "cell_type": "markdown",
   "metadata": {},
   "source": [
    "# B"
   ]
  },
  {
   "cell_type": "markdown",
   "metadata": {},
   "source": [
    "### 01) WAP to Raising User Generated Exception."
   ]
  },
  {
   "cell_type": "code",
   "execution_count": 4,
   "metadata": {},
   "outputs": [
    {
     "name": "stdout",
     "output_type": "stream",
     "text": [
      "Custom exception caught: User has raised a custom exception\n"
     ]
    }
   ],
   "source": [
    "class MyCustomException(Exception):\n",
    "    def __init__(self, message):\n",
    "        self.message = message\n",
    "\n",
    "try:\n",
    "    user_input = input(\"Enter 'raise' to raise a custom exception: \")\n",
    "    if user_input.lower() == 'raise':\n",
    "        raise MyCustomException(\"User has raised a custom exception\")\n",
    "    else:\n",
    "        print(\"No exception raised\")\n",
    "except MyCustomException as e:\n",
    "    print(\"Custom exception caught:\", e.message)\n"
   ]
  },
  {
   "cell_type": "markdown",
   "metadata": {},
   "source": [
    "### 02) WAP to raise your custom Exception."
   ]
  },
  {
   "cell_type": "code",
   "execution_count": 5,
   "metadata": {},
   "outputs": [
    {
     "name": "stdout",
     "output_type": "stream",
     "text": [
      "Custom exception caught: This is a custom exception\n"
     ]
    }
   ],
   "source": [
    "def raise_custom_exception():\n",
    "    raise Exception(\"This is a custom exception\")\n",
    "\n",
    "try:\n",
    "    raise_custom_exception()\n",
    "except Exception as e:\n",
    "    print(\"Custom exception caught:\", e)\n"
   ]
  }
 ],
 "metadata": {
  "kernelspec": {
   "display_name": "Python 3 (ipykernel)",
   "language": "python",
   "name": "python3"
  },
  "language_info": {
   "codemirror_mode": {
    "name": "ipython",
    "version": 3
   },
   "file_extension": ".py",
   "mimetype": "text/x-python",
   "name": "python",
   "nbconvert_exporter": "python",
   "pygments_lexer": "ipython3",
   "version": "3.11.5"
  }
 },
 "nbformat": 4,
 "nbformat_minor": 4
}
