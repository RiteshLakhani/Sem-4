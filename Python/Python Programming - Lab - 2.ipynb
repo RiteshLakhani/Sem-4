{
 "cells": [
  {
   "cell_type": "markdown",
   "metadata": {},
   "source": [
    "\n",
    "<a href='https://www.darshan.ac.in/'> <img src='https://www.darshan.ac.in/Content/media/DU_Logo.svg' width=\"250\" height=\"300\"/></a>\n",
    "<pre>\n",
    "<center><b><h1>Python Programming - 2101CS405</b></center>\n",
    "<center><b><h1>Lab - 2</b></center> \n",
    "<center><b><h1>Name- Lakhani Ritesh</b></center>    \n",
    "<center><b><h1>EnrollmentNo:- 22010101099</b></center> \n",
    "<center><b><h1>Date:- 21-12-2023</b></center>   \n",
    "\n",
    "<pre>"
   ]
  },
  {
   "cell_type": "markdown",
   "metadata": {},
   "source": []
  },
  {
   "cell_type": "markdown",
   "metadata": {},
   "source": [
    "# if..else.."
   ]
  },
  {
   "cell_type": "markdown",
   "metadata": {},
   "source": [
    "### 01) WAP to check whether the given number is positive or negative."
   ]
  },
  {
   "cell_type": "code",
   "execution_count": 17,
   "metadata": {},
   "outputs": [
    {
     "name": "stdout",
     "output_type": "stream",
     "text": [
      "Number is Positive\n"
     ]
    }
   ],
   "source": [
    "a = int(input(\"Enter Number of\"))\n",
    "\n",
    "if a>0:\n",
    "    print(\"Number is Positive\")\n",
    "else:  \n",
    "    print(\"Number is Negative\")"
   ]
  },
  {
   "cell_type": "markdown",
   "metadata": {},
   "source": [
    "### 02) WAP to check whether the given number is odd or even"
   ]
  },
  {
   "cell_type": "code",
   "execution_count": 18,
   "metadata": {},
   "outputs": [
    {
     "name": "stdout",
     "output_type": "stream",
     "text": [
      "3 is odd Number\n"
     ]
    }
   ],
   "source": [
    "n = int(input(\"Enter Number: \"))\n",
    "\n",
    "if n%2==0:\n",
    "    print(f\"{n} is even Number\")\n",
    "else:\n",
    "    print(f\"{n} is odd Number\")"
   ]
  },
  {
   "cell_type": "markdown",
   "metadata": {},
   "source": [
    "### 03) WAP to find out largest number from given two numbers using simple if and ternary operator."
   ]
  },
  {
   "cell_type": "code",
   "execution_count": 1,
   "metadata": {},
   "outputs": [
    {
     "name": "stdout",
     "output_type": "stream",
     "text": [
      "Max:  58\n"
     ]
    }
   ],
   "source": [
    "n1 = int(input(\"Enter Number: \"))\n",
    "n2 = int(input(\"Enter Number: \"))\n",
    "\n",
    "x = n1 if n1>n2 else n2\n",
    "print(\"Max: \",x);"
   ]
  },
  {
   "cell_type": "code",
   "execution_count": 19,
   "metadata": {},
   "outputs": [
    {
     "name": "stdout",
     "output_type": "stream",
     "text": [
      "Number 1:- 4\n",
      "Number 2:- 5\n",
      "Number 2: 5 is max\n"
     ]
    }
   ],
   "source": [
    "n1 = int(input(\"Enter number 1:- \"))\n",
    "print(f\"Number 1:- {n1}\")\n",
    "\n",
    "n2 = int(input(\"Enter number 1:- \"))\n",
    "print(f\"Number 2:- {n2}\")\n",
    "\n",
    "#if n1>n2:\n",
    "  #  print(f\"Number 1:- {n1} is max\")\n",
    "#else:\n",
    "    #print(f\"Number 2:- {n2} is max\")\n",
    "\n",
    "print(f\"Number 1: {n1} is max\") if n1 > n2 else print(f\"Number 2: {n2} is max\")\n"
   ]
  },
  {
   "cell_type": "markdown",
   "metadata": {},
   "source": [
    "### 04) WAP to find out largest number from given three numbers."
   ]
  },
  {
   "cell_type": "code",
   "execution_count": 2,
   "metadata": {},
   "outputs": [
    {
     "name": "stdout",
     "output_type": "stream",
     "text": [
      "Max of 3 is :  1000\n"
     ]
    }
   ],
   "source": [
    "n1 = int(input(\"Enter Number 1\"));\n",
    "n2 = int(input(\"Enter Number 2\"));\n",
    "n3 = int(input(\"Enter Number 3\"));\n",
    "\n",
    "max = n1 if (n1 > n2 and n1 > n3) else (n2 if n2>n3 else n3)\n",
    "print(\"Max of 3 is : \",max)"
   ]
  },
  {
   "cell_type": "code",
   "execution_count": 21,
   "metadata": {},
   "outputs": [
    {
     "name": "stdout",
     "output_type": "stream",
     "text": [
      "Number 1:- 20\n",
      "Number 2:- 30\n",
      "Number 3:- 40\n",
      "Max Number:-40\n"
     ]
    }
   ],
   "source": [
    "n1 = int(input(\"Enter number 1:- \"))\n",
    "print(f\"Number 1:- {n1}\")\n",
    "\n",
    "n2 = int(input(\"Enter number 1:- \"))\n",
    "print(f\"Number 2:- {n2}\")\n",
    "\n",
    "n3 = int(input(\"Enter number 3:- \"))\n",
    "print(f\"Number 3:- {n3}\")\n",
    "\n",
    "\n",
    "max_number = n1 if ( n1>n2 and n1>n3) else (n2 if n2>n3 else n3)\n",
    "\n",
    "print(f\"Max Number:-{max_number}\");\n",
    "\n",
    "# if n1>n2:\n",
    "#     if n1>n3:\n",
    "#         print(f\"Number {n1} is max\")\n",
    "#     else:\n",
    "#         print(f\"Number {n3} is max\")\n",
    "# else:\n",
    "#     if n2>n3:\n",
    "#         print(f\"Number {n2} is max\")\n",
    "#     else:\n",
    "#         print(f\"Number {n3} is max\")"
   ]
  },
  {
   "cell_type": "code",
   "execution_count": 12,
   "metadata": {},
   "outputs": [
    {
     "name": "stdout",
     "output_type": "stream",
     "text": [
      "Yes\n"
     ]
    }
   ],
   "source": [
    "year = int(input(\"Year:\"))\n",
    "\n",
    "if(year%4==0 and year%100!=0) or (year%400==0):\n",
    "    print(\"Yes\")\n",
    "else:\n",
    "    print(\"No\")"
   ]
  },
  {
   "cell_type": "markdown",
   "metadata": {},
   "source": [
    "### 05) WAP to check whether the given year is leap year or not.\n",
    "[If a year can be divisible by 4 but not divisible by 100 then it is leap year but if it is divisible by 400 then it is leap year]"
   ]
  },
  {
   "cell_type": "code",
   "execution_count": 23,
   "metadata": {},
   "outputs": [
    {
     "name": "stdout",
     "output_type": "stream",
     "text": [
      "2024 is leap year \n"
     ]
    }
   ],
   "source": [
    "year = int(input(\"Enter Year: \"))\n",
    "\n",
    "if(year%4==0 and year%100!=0) or (year%400==0):\n",
    "    print(f\"{year} is leap year \")\n",
    "else:\n",
    "    print(f\"{year} is not leap year \");\n"
   ]
  },
  {
   "cell_type": "markdown",
   "metadata": {},
   "source": [
    "### 06) WAP in python to display the name of the day according to the number given by the user"
   ]
  },
  {
   "cell_type": "code",
   "execution_count": 24,
   "metadata": {},
   "outputs": [
    {
     "name": "stdout",
     "output_type": "stream",
     "text": [
      "The day corresponding to number 1 is Monday\n"
     ]
    }
   ],
   "source": [
    "day_number = int(input(\"Enter a number (1-7) representing the day of the week:- \"))\n",
    "\n",
    "if day_number == 1:\n",
    "    day_name=\"Monday\"\n",
    "elif day_number == 2:\n",
    "    day_name=\"Tuesday\"\n",
    "elif day_number == 3:\n",
    "    day_name=\"Wednesday\"\n",
    "elif day_number == 4:\n",
    "    day_name=\"Thursday\"\n",
    "elif day_number == 5:\n",
    "    day_name = \"Friday\"\n",
    "elif day_number == 6:\n",
    "    day_name = \"Saturday\"\n",
    "elif day_number == 7:\n",
    "    day_name = \"Sunday\"\n",
    "else:  \n",
    "    print('Please enter between 1 to  7')\n",
    "    exit()\n",
    "\n",
    "print(f\"The day corresponding to number {day_number} is {day_name}\")"
   ]
  },
  {
   "cell_type": "markdown",
   "metadata": {},
   "source": [
    "### 07) WAP to implement simple calculator which performs (add,sub,mul,div) of two no. based on user input."
   ]
  },
  {
   "cell_type": "code",
   "execution_count": null,
   "metadata": {},
   "outputs": [
    {
     "name": "stdout",
     "output_type": "stream",
     "text": [
      "A:-10\n",
      "B:-20\n",
      "Enter 1 for Addition: \n",
      "Enter 2 for Subtraction: \n",
      "Enter 3 for Multiplication: \n",
      "Enter 4 for Divison: \n",
      "10/20 = 0.5\n"
     ]
    }
   ],
   "source": [
    "a = int(input(\"Enter Number 1:- \"))\n",
    "print(f\"A:-{a}\")\n",
    "\n",
    "b = int(input(\"Enter Number 2:- \"))\n",
    "print(f\"B:-{b}\")\n",
    "\n",
    "print(\"Enter 1 for Addition: \")\n",
    "print(\"Enter 2 for Subtraction: \")\n",
    "print(\"Enter 3 for Multiplication: \")\n",
    "print(\"Enter 4 for Divison: \")\n",
    "\n",
    "ch = int(input(\"Enter Number between 1 to 4 for calculation:- \"))\n",
    "\n",
    "match ch:\n",
    "    case 1:\n",
    "        print(f\"{a}+{b} = {a+b}\")\n",
    "    case 2:\n",
    "        print(f\"{a}-{b} = {a-b}\")\n",
    "    case 3:\n",
    "        print(f\"{a}*{b} = {a*b}\")\n",
    "    case 4:\n",
    "        print(f\"{a}/{b} = {a/b}\")\n",
    "    case _:\n",
    "        print(\"Enter valid Number\")\n",
    "\n"
   ]
  },
  {
   "cell_type": "markdown",
   "metadata": {},
   "source": [
    "### 08) WAP to calculate electricity bill based on following criteria. Which takes the unit from the user.\n",
    "a. First 1 to 50 units – Rs. 2.60/unit</br>\n",
    "b. Next 50 to 100 units – Rs. 3.25/unit</br>\n",
    "c. Next 100 to 200 units – Rs. 5.26/unit</br>\n",
    "d. above 200 units – Rs. 8.45/unit"
   ]
  },
  {
   "cell_type": "code",
   "execution_count": 13,
   "metadata": {},
   "outputs": [
    {
     "name": "stdout",
     "output_type": "stream",
     "text": [
      "Bill:  1110.8\n"
     ]
    }
   ],
   "source": [
    "a = float(input(\"Enter unit: \"))\n",
    "\n",
    "if a<=50:\n",
    "    bill = a*2.60;\n",
    "elif a<=100:\n",
    "    bill = 50*2.60 + (a-50)*3.25\n",
    "elif a<=100:\n",
    "    bill = 50*2.60 + 50*3.25 + (a-100)*3.25\n",
    "else:\n",
    "    bill = 50*2.60 + 50*3.35 +100*5.26 + (a-200)*8.45\n",
    "\n",
    "print(\"Bill: \",bill)"
   ]
  },
  {
   "cell_type": "code",
   "execution_count": null,
   "metadata": {},
   "outputs": [
    {
     "name": "stdout",
     "output_type": "stream",
     "text": [
      "Unit:-234.0\n",
      "Bill :-1105.8\n"
     ]
    }
   ],
   "source": [
    "a = float(input(\"Enter unit : \"))\n",
    "print(f\"Unit:-{a}\")\n",
    "\n",
    "if a<=50:\n",
    "    bill = a * 2.60\n",
    "elif a<=100:\n",
    "    bill = 50*2.60 + (a-50)*3.25\n",
    "elif a<=200:\n",
    "    bill = 50*2.60 + 50*3.25 + (a-100)*5.26\n",
    "else:\n",
    "    bill = ( 50*2.60 + 50*3.25 + 100*5.26 + (a-200)*8.45 ) \n",
    "    \n",
    "print(f\"Bill :-{bill}\")"
   ]
  },
  {
   "cell_type": "markdown",
   "metadata": {},
   "source": [
    "### 01) WAP to read marks of five subjects. Calculate percentage and print class accordingly. \n",
    "Fail below 35 </br>\n",
    "Pass Class between 35 to 45 </br>\n",
    "Second Class</br>\n",
    "between 45 to 60</br>\n",
    "First Class between 60 to 70</br> \n",
    "Distinction if more than 70"
   ]
  },
  {
   "cell_type": "code",
   "execution_count": null,
   "metadata": {},
   "outputs": [
    {
     "name": "stdout",
     "output_type": "stream",
     "text": [
      "Sub1:-35\n",
      "Sub2:-35\n",
      "Sub3:-35\n",
      "Sub4:-35\n",
      "Sub5:-35\n",
      "Total: 175\n",
      "Per: 35.0\n",
      "Pass class\n"
     ]
    }
   ],
   "source": [
    "a = int(input(\"Enter the Mark Sub1:- \"))\n",
    "print(f\"Sub1:-{a}\")\n",
    "\n",
    "b = int(input(\"Enter the Mark Sub2:- \"))\n",
    "print(f\"Sub2:-{b}\")\n",
    "\n",
    "c = int(input(\"Enter the Mark Sub3:- \"))\n",
    "print(f\"Sub3:-{c}\")\n",
    "\n",
    "d = int(input(\"Enter the Mark Sub4:- \"))\n",
    "print(f\"Sub4:-{d}\")\n",
    "\n",
    "e = int(input(\"Enter the Mark Sub5:- \"))\n",
    "print(f\"Sub5:-{e}\")\n",
    "\n",
    "total = a + b + c + d + e\n",
    "\n",
    "print(f\"Total: {total}\")\n",
    "\n",
    "per = total / 5;\n",
    "\n",
    "print(f\"Per: {per}\")\n",
    "\n",
    "if per<35:\n",
    "    print(\"Fail\")\n",
    "elif per==35 and per<45:\n",
    "    print(\"Pass class\")\n",
    "elif per==45 and per<60:\n",
    "    print(\"Second class\")\n",
    "elif per==60 and per<70:\n",
    "    print(\"First class\")\n",
    "else:\n",
    "    print(\"Distinction Class\")\n",
    "    "
   ]
  },
  {
   "cell_type": "markdown",
   "metadata": {},
   "source": [
    "### 02) WAP to find out the Maximum and Minimum number from given 4 numbers."
   ]
  },
  {
   "cell_type": "code",
   "execution_count": 1,
   "metadata": {},
   "outputs": [
    {
     "name": "stdout",
     "output_type": "stream",
     "text": [
      "Number 1:- 10\n",
      "Number 2:- 10\n",
      "Number 3:- 50\n",
      "Number 4:- 45\n",
      "The maximum of 10, 10, 50, and 45 is: 50\n"
     ]
    }
   ],
   "source": [
    "num1 = int(input(\"Enter number 1:- \"))\n",
    "print(f\"Number 1:- {num1}\")\n",
    "\n",
    "num2 = int(input(\"Enter number 1:- \"))\n",
    "print(f\"Number 2:- {num2}\")\n",
    "\n",
    "num3 = int(input(\"Enter number 3:- \"))\n",
    "print(f\"Number 3:- {num3}\")\n",
    "\n",
    "num4 = int(input(\"Enter number 4:- \"))\n",
    "print(f\"Number 4:- {num4}\")\n",
    "\n",
    "\n",
    "if num1 >= num2 and num1 >= num3 and num1 >= num4:\n",
    "    maximum = num1\n",
    "elif num2 >= num1 and num2 >= num3 and num2 >= num4:\n",
    "    maximum = num2\n",
    "elif num3 >= num1 and num3 >= num2 and num3 >= num4:\n",
    "    maximum = num3\n",
    "else:\n",
    "    maximum = num4\n",
    "\n",
    "print(f\"The maximum of {num1}, {num2}, {num3}, and {num4} is: {maximum}\")"
   ]
  },
  {
   "cell_type": "markdown",
   "metadata": {},
   "source": [
    "### 03) WAP to input an integer number and check the last digit of number is even or odd."
   ]
  },
  {
   "cell_type": "code",
   "execution_count": 3,
   "metadata": {},
   "outputs": [
    {
     "name": "stdout",
     "output_type": "stream",
     "text": [
      "Last Digit:5\n",
      "Last digit is odd\n"
     ]
    }
   ],
   "source": [
    "n = int(input(\"Enter number : \"))\n",
    "lastDigit = n%10\n",
    "if(lastDigit%2 == 0):\n",
    "    print(f\"Last Digit:{lastDigit}\")\n",
    "    print(\"Last digit is even\")\n",
    "else:\n",
    "    print(f\"Last Digit:{lastDigit}\")\n",
    "    print(\"Last digit is odd\")\n"
   ]
  },
  {
   "cell_type": "markdown",
   "metadata": {},
   "source": []
  },
  {
   "cell_type": "markdown",
   "metadata": {},
   "source": [
    "### 04) WAP to determine the roots of the equation ax2+bx+c=0."
   ]
  },
  {
   "cell_type": "code",
   "execution_count": 28,
   "metadata": {},
   "outputs": [
    {
     "name": "stdout",
     "output_type": "stream",
     "text": [
      "The roots of the equation are real and distinct: -3.0 and -4.0\n"
     ]
    }
   ],
   "source": [
    "import math\n",
    "\n",
    "a = float(input(\"Enter the coefficients of 'a': \"))\n",
    "b = float(input(\"Enter the coefficients of 'b': \"))\n",
    "c = float(input(\"Enter the coefficients of 'c': \"))\n",
    "\n",
    "discriminant = b**2-4*a*c\n",
    "\n",
    "if discriminant > 0:\n",
    "    root1 = (-b + math.sqrt(discriminant))/(2*a)\n",
    "    root2 = (-b - math.sqrt(discriminant))/(2*a)\n",
    "    print(f\"The roots of the equation are real and distinct: {root1} and {root2}\")\n",
    "elif discriminant == 0:\n",
    "    root = -b / (2*a)\n",
    "    print(f\"The root of the equation is real and repeated: {root}\")\n",
    "else:\n",
    "    real_part = -b / (2*a)\n",
    "    img_part = math.sqrt(abs(discriminant))/(2*a)\n",
    "    root1 = complex(real_part, img_part)\n",
    "    root2 = complex(real_part, -img_part)\n",
    "    print(f\"The roots of the equation are complex: {root1} and {root2}\")"
   ]
  }
 ],
 "metadata": {
  "kernelspec": {
   "display_name": "Python 3 (ipykernel)",
   "language": "python",
   "name": "python3"
  },
  "language_info": {
   "codemirror_mode": {
    "name": "ipython",
    "version": 3
   },
   "file_extension": ".py",
   "mimetype": "text/x-python",
   "name": "python",
   "nbconvert_exporter": "python",
   "pygments_lexer": "ipython3",
   "version": "3.11.5"
  }
 },
 "nbformat": 4,
 "nbformat_minor": 4
}
